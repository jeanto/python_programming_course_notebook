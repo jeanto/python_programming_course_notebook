{
 "cells": [
  {
   "cell_type": "markdown",
   "metadata": {},
   "source": [
    "# 6. List slicing (fatiamento)\n",
    "\n",
    "[Aprenda Python com Jupyter](https://github.com/jeanto/python_programming_course_notebook) by [Jean Nunes](https://jeanto.github.io/jeannunes)   \n",
    "Code license: [GNU-GPL v3](https://www.gnu.org/licenses/gpl-3.0.en.html)\n",
    "\n",
    "---"
   ]
  },
  {
   "cell_type": "markdown",
   "metadata": {},
   "source": [
    "- Considere a seguinte lista de capitais do Brasil:"
   ]
  },
  {
   "cell_type": "code",
   "execution_count": null,
   "metadata": {},
   "outputs": [],
   "source": [
    "# Lista das capitais do Brasil\n",
    "capitais_brasil = [\n",
    "    \"Rio Branco\", \"Maceió\", \"Macapá\", \"Manaus\", \"Salvador\", \"Fortaleza\",\n",
    "    \"Brasília\", \"Vitória\", \"Goiânia\", \"São Luís\", \"Cuiabá\", \"Campo Grande\",\n",
    "    \"Belo Horizonte\", \"Belém\", \"João Pessoa\", \"Curitiba\", \"Recife\",\n",
    "    \"Teresina\", \"Rio de Janeiro\", \"Natal\", \"Porto Alegre\", \"Porto Velho\",\n",
    "    \"Boa Vista\", \"Florianópolis\", \"São Paulo\", \"Aracaju\", \"Palmas\"\n",
    "]\n",
    "\n",
    "print(capitais_brasil)"
   ]
  },
  {
   "cell_type": "markdown",
   "metadata": {},
   "source": [
    "### 1. Extraia \"Maceió\":"
   ]
  },
  {
   "cell_type": "code",
   "execution_count": null,
   "metadata": {},
   "outputs": [],
   "source": [
    "print(capitais_brasil[1])"
   ]
  },
  {
   "cell_type": "markdown",
   "metadata": {},
   "source": [
    "### 2. Extraia as cidades entre \"Maceió\" e \"Manaus\":"
   ]
  },
  {
   "cell_type": "code",
   "execution_count": null,
   "metadata": {},
   "outputs": [],
   "source": [
    "print(capitais_brasil[1:4])"
   ]
  },
  {
   "cell_type": "markdown",
   "metadata": {},
   "source": [
    "- `capitais_brasil[1:4]`\n",
    "\n",
    "1. `1`: Este é o índice inicial. O índice `1` refere-se ao segundo elemento da lista (considerando que o índice começa em 0).\n",
    "2. `4`: Este é o índice final (não incluído). O índice `4` refere-se ao quinto elemento da lista."
   ]
  },
  {
   "cell_type": "markdown",
   "metadata": {},
   "source": [
    "### 3. Slice \"Maceió\" e \"Manaus\":"
   ]
  },
  {
   "cell_type": "code",
   "execution_count": null,
   "metadata": {},
   "outputs": [],
   "source": [
    "print(capitais_brasil[1:4:2])"
   ]
  },
  {
   "cell_type": "markdown",
   "metadata": {},
   "source": [
    "- `capitais_brasil[1:4:2]`\n",
    "\n",
    "1. `1`: Este é o índice inicial. O índice `1` refere-se ao segundo elemento da lista (considerando que o índice começa em 0).\n",
    "2. `4`: Este é o índice final (não incluído). O índice `4` refere-se ao quinto elemento da lista.\n",
    "3. `2`: Este é o passo (step). Um passo de `2` significa que a lista será percorrida pulando um elemento a cada passo.\n"
   ]
  },
  {
   "cell_type": "markdown",
   "metadata": {},
   "source": [
    "### 4. Extraia as cidades de \"Rio Branco\" a \"Macapá\" (duas formas):"
   ]
  },
  {
   "cell_type": "code",
   "execution_count": null,
   "metadata": {},
   "outputs": [],
   "source": [
    "print(capitais_brasil[0:3])"
   ]
  },
  {
   "cell_type": "markdown",
   "metadata": {},
   "source": [
    "- `capitais_brasil[0:3]`\n",
    "\n",
    "1. `0`: Este é o índice inicial. O índice `0` refere-se ao primeiro elemento da lista (considerando que o índice começa em 0).\n",
    "2. `3`: Este é o índice final (não incluído). O índice `3` refere-se ao quarto elemento da lista."
   ]
  },
  {
   "cell_type": "code",
   "execution_count": null,
   "metadata": {},
   "outputs": [],
   "source": [
    "print(capitais_brasil[:3])"
   ]
  },
  {
   "cell_type": "markdown",
   "metadata": {},
   "source": [
    "- `capitais_brasil[:3]`\n",
    "\n",
    "1. `:`: Quando o índice inicial é omitido, o slicing começa do início da lista."
   ]
  },
  {
   "cell_type": "markdown",
   "metadata": {},
   "source": [
    "### 5. Extraia as cidades de \"São Paulo\" a \"Palmas\" (duas formas):"
   ]
  },
  {
   "cell_type": "code",
   "execution_count": null,
   "metadata": {},
   "outputs": [],
   "source": [
    "print(len(capitais_brasil))\n",
    "print(capitais_brasil[24:27])"
   ]
  },
  {
   "cell_type": "markdown",
   "metadata": {},
   "source": [
    "\n",
    "- `capitais_brasil[24:27]`\n",
    "\n",
    "1. `24`: Este é o índice inicial. O índice `24` refere-se ao 25º elemento da lista (considerando que o índice começa em 0).\n",
    "2. `27`: Este é o índice final (não incluído). O índice `27` refere-se ao 28º elemento da lista."
   ]
  },
  {
   "cell_type": "code",
   "execution_count": null,
   "metadata": {},
   "outputs": [],
   "source": [
    "print(capitais_brasil[24:])"
   ]
  },
  {
   "cell_type": "markdown",
   "metadata": {},
   "source": [
    "- `capitais_brasil[:3]`\n",
    "\n",
    "1. `:`: Quando o índice final é omitido, o slicing vai até o final da lista."
   ]
  },
  {
   "cell_type": "markdown",
   "metadata": {},
   "source": [
    "### 6. Extraia em intervalos (duas formas):"
   ]
  },
  {
   "cell_type": "code",
   "execution_count": null,
   "metadata": {},
   "outputs": [],
   "source": [
    "print(capitais_brasil[0:27:2])"
   ]
  },
  {
   "cell_type": "markdown",
   "metadata": {},
   "source": [
    "- `capitais_brasil[0:27:2]`\n",
    "\n",
    "1. `0`: Este é o índice inicial. O índice `0` refere-se ao primeiro elemento da lista (considerando que o índice começa em 0).\n",
    "2. `27`: Este é o índice final (não incluído). O índice `27` refere-se ao 28º elemento da lista.\n",
    "3. `2`: Este é o passo (step). Um passo de `2` significa que a lista será percorrida pulando um elemento a cada passo."
   ]
  },
  {
   "cell_type": "code",
   "execution_count": null,
   "metadata": {},
   "outputs": [],
   "source": [
    "print(capitais_brasil[::2])"
   ]
  },
  {
   "cell_type": "markdown",
   "metadata": {},
   "source": [
    "- `capitais_brasil[::2]`\n",
    "\n",
    "1. `:`: Quando o índice inicial é omitido, o slicing começa do início da lista.\n",
    "2. `:`: Quando o índice final é omitido, o slicing vai até o final da lista.\n",
    "3. `2`: Este é o passo (step). Um passo de `2` significa que a lista será percorrida pulando um elemento a cada passo."
   ]
  },
  {
   "cell_type": "markdown",
   "metadata": {},
   "source": [
    "### 7. Extraia \"Palmas\" (duas formas):"
   ]
  },
  {
   "cell_type": "code",
   "execution_count": null,
   "metadata": {},
   "outputs": [],
   "source": [
    "print(capitais_brasil[26])"
   ]
  },
  {
   "cell_type": "markdown",
   "metadata": {},
   "source": [
    "- `capitais_brasil[26]`\n",
    "\n",
    "1. `26`: Este é o índice do elemento que você deseja acessar. O índice `26` refere-se ao 27º elemento da lista (considerando que o índice começa em 0)."
   ]
  },
  {
   "cell_type": "code",
   "execution_count": null,
   "metadata": {},
   "outputs": [],
   "source": [
    "print(capitais_brasil[-1])"
   ]
  },
  {
   "cell_type": "markdown",
   "metadata": {},
   "source": [
    "- `capitais_brasil[-1]`\n",
    "\n",
    "1. `-1`: Este é o índice do elemento que você deseja acessar. O índice `-1` refere-se ao último elemento da lista."
   ]
  },
  {
   "cell_type": "markdown",
   "metadata": {},
   "source": [
    "### 8. Extraia as cidades de \"Florianópolis\" a \"Aracaju\" usando índices negativos:"
   ]
  },
  {
   "cell_type": "code",
   "execution_count": null,
   "metadata": {},
   "outputs": [],
   "source": [
    "print(capitais_brasil[-4:-1])"
   ]
  },
  {
   "cell_type": "markdown",
   "metadata": {},
   "source": [
    "- `capitais_brasil[-4:-1]`\n",
    "\n",
    "1. `-4`: Este é o índice inicial. O índice `-4` refere-se ao quarto elemento a partir do final da lista.\n",
    "2. `-1`: Este é o índice final (não incluído). O índice `-1` refere-se ao último elemento da lista."
   ]
  },
  {
   "cell_type": "markdown",
   "metadata": {},
   "source": [
    "### 9. Extraia as cidades de \"Manaus\" a \"Maceió\" usando índices positivos (ordem inversa):"
   ]
  },
  {
   "cell_type": "code",
   "execution_count": null,
   "metadata": {},
   "outputs": [],
   "source": [
    "print(capitais_brasil[3:0:-1])"
   ]
  },
  {
   "cell_type": "markdown",
   "metadata": {},
   "source": [
    "- `capitais_brasil[3:0:-1]`\n",
    "\n",
    "1. `3`: Este é o índice inicial. O índice `3` refere-se ao quarto elemento da lista (considerando que o índice começa em 0).\n",
    "2. `0`: Este é o índice final (não incluído). O índice `0` refere-se ao primeiro elemento da lista.\n",
    "3. `-1`: Este é o passo (step). Um passo de `-1` significa que a lista será percorrida de trás para frente."
   ]
  },
  {
   "cell_type": "markdown",
   "metadata": {},
   "source": [
    "### 10. Extraia as cidades de \"Aracaju\" a \"Florianópolis\" usando índices negativos (ordem inversa):"
   ]
  },
  {
   "cell_type": "code",
   "execution_count": null,
   "metadata": {},
   "outputs": [],
   "source": [
    "print(capitais_brasil[-2:-5:-1])"
   ]
  },
  {
   "cell_type": "markdown",
   "metadata": {},
   "source": [
    "- `capitais_brasil[-2:-5:-1]`\n",
    "\n",
    "1. `-2`: Este é o índice inicial. O índice `-2` refere-se ao segundo elemento a partir do final da lista.\n",
    "2. `-5`: Este é o índice final (não incluído). O índice `-5` refere-se ao quinto elemento a partir do final da lista.\n",
    "3. `-1`: Este é o passo (step). Um passo de `-1` significa que a lista será percorrida de trás para frente."
   ]
  },
  {
   "cell_type": "markdown",
   "metadata": {},
   "source": [
    "### 11. Extraia todas as cidades na ordem inversa:"
   ]
  },
  {
   "cell_type": "code",
   "execution_count": null,
   "metadata": {},
   "outputs": [],
   "source": [
    "print(capitais_brasil[::-1])"
   ]
  },
  {
   "cell_type": "markdown",
   "metadata": {},
   "source": [
    "- `capitais_brasil[::-1]`\n",
    "\n",
    "1. `:`: Quando o índice inicial é omitido, o slicing começa do início da lista.\n",
    "2. `:`: Quando o índice final é omitido, o slicing vai até o final da lista.\n",
    "3. `-1`: Este é o passo (step). Um passo de `-1` significa que a lista será percorrida de trás para frente."
   ]
  },
  {
   "cell_type": "markdown",
   "metadata": {},
   "source": [
    "---\n",
    "## Atividade Prática\n",
    "\n",
    "- Utilizando slicing, crie uma lista com os 3 centros de distribuição de órgãos (Brasília, Fortaleza e São Paulo) a partir da lista das capitais ."
   ]
  },
  {
   "cell_type": "markdown",
   "metadata": {},
   "source": [
    "## Principais métodos da classe list\n",
    "\n",
    "1. `append(x)`: Adiciona um item ao final da lista.\n",
    "2. `extend(iterable)`: Estende a lista adicionando todos os itens do iterável.\n",
    "3. `insert(i, x)`: Insere um item em uma posição específica.\n",
    "4. `remove(x)`: Remove a primeira ocorrência do item na lista.\n",
    "5. `pop([i])`: Remove e retorna o item na posição especificada. Se nenhum índice for especificado, remove e retorna o último item.\n",
    "6. `clear()`: Remove todos os itens da lista.\n",
    "7. `index(x[, start[, end]])`: Retorna o índice da primeira ocorrência do item. Levanta um ValueError se o item não for encontrado.\n",
    "8. `count(x)`: Retorna o número de vezes que o item aparece na lista.\n",
    "9. `sort(key=None, reverse=False)`: Ordena os itens da lista no local (os argumentos podem ser usados para personalizar a ordenação).\n",
    "10. `reverse()`: Inverte a ordem dos itens na lista no local.\n",
    "11. `copy()`: Retorna uma cópia superficial da lista."
   ]
  }
 ],
 "metadata": {
  "kernelspec": {
   "display_name": "py_course (3.12.3)",
   "language": "python",
   "name": "python3"
  },
  "language_info": {
   "codemirror_mode": {
    "name": "ipython",
    "version": 3
   },
   "file_extension": ".py",
   "mimetype": "text/x-python",
   "name": "python",
   "nbconvert_exporter": "python",
   "pygments_lexer": "ipython3",
   "version": "3.12.3"
  },
  "widgets": {
   "application/vnd.jupyter.widget-state+json": {
    "state": {},
    "version_major": 2,
    "version_minor": 0
   }
  }
 },
 "nbformat": 4,
 "nbformat_minor": 4
}
