{
 "cells": [
  {
   "cell_type": "markdown",
   "metadata": {},
   "source": [
    "# 12. The Python module *random*\n",
    "\n",
    "[Aprenda Python com Jupyter](https://github.com/jeanto/python_programming_course_notebook) by [Jean Nunes](https://jeanto.github.io/jeannunes)   \n",
    "Code license: [GNU-GPL v3](https://www.gnu.org/licenses/gpl-3.0.en.html)\n",
    "\n",
    "---"
   ]
  },
  {
   "cell_type": "markdown",
   "metadata": {},
   "source": [
    "- O sistema está processando uma doação e é necessário definir para qual Centro de Distribuição (CD) o órgão/tecido/sangue deve ser transferido."
   ]
  },
  {
   "cell_type": "code",
   "execution_count": null,
   "metadata": {},
   "outputs": [],
   "source": [
    "centros_de_distribuicao = [\"Fortaleza\", \"Salvador\", \"Rio de Janeiro\", \"São Paulo\", \"Brasilia\"]"
   ]
  },
  {
   "cell_type": "markdown",
   "metadata": {},
   "source": [
    "- Para qual CD distribuir? Deixe o computador decidir! Para isso, o computador precisa de um módulo chamado random:"
   ]
  },
  {
   "cell_type": "code",
   "execution_count": null,
   "metadata": {},
   "outputs": [],
   "source": [
    "import random"
   ]
  },
  {
   "cell_type": "markdown",
   "metadata": {},
   "source": [
    "- O computador pode escolher \"aleatoriamente\" um index"
   ]
  },
  {
   "cell_type": "code",
   "execution_count": null,
   "metadata": {},
   "outputs": [],
   "source": [
    "# escolha um índice de CD\n",
    "CD_index = random.randint(0,len(centros_de_distribuicao)-1)\n",
    "print(CD_index)\n",
    "\n",
    "# seleciona o CD\n",
    "CD = centros_de_distribuicao[CD_index]\n",
    "print(CD)"
   ]
  },
  {
   "cell_type": "markdown",
   "metadata": {},
   "source": [
    "A função `randint` do módulo `random` é utilizada para gerar um número inteiro aleatório dentro de um intervalo especificado. A função recebe dois argumentos: o valor mínimo e o valor máximo do intervalo, ambos inclusivos.\n"
   ]
  },
  {
   "cell_type": "markdown",
   "metadata": {},
   "source": [
    "- O computador pode escolher \"aleatoriamente\" um CD diretamente:"
   ]
  },
  {
   "cell_type": "code",
   "execution_count": null,
   "metadata": {},
   "outputs": [],
   "source": [
    "# seleciona o CD diretamente\n",
    "CD = random.choice(centros_de_distribuicao)\n",
    "print(CD)"
   ]
  },
  {
   "cell_type": "markdown",
   "metadata": {},
   "source": [
    "A biblioteca `random` do Python fornece várias funções para gerar números aleatórios e realizar operações aleatórias. Aqui estão alguns dos principais métodos:\n",
    "\n",
    "- `random.random()`: Retorna um número de ponto flutuante aleatório no intervalo [0.0, 1.0).\n",
    "- `random.randint(a, b)`: Retorna um número inteiro aleatório N tal que a <= N <= b.\n",
    "- `random.choice(seq)`: Retorna um elemento aleatório de uma sequência não vazia.\n",
    "- `random.choices(population, weights=None, *, cum_weights=None, k=1)`: Retorna uma lista com k elementos escolhidos da população com reposição.\n",
    "- `random.shuffle(x)`: Embaralha a sequência x no local.\n",
    "- `random.sample(population, k)`: Retorna uma lista de k elementos únicos escolhidos da população.\n",
    "- `random.uniform(a, b)`: Retorna um número de ponto flutuante aleatório N tal que a <= N <= b.\n",
    "- `random.seed(a=None, version=2)`: Inicializa o gerador de números aleatórios. Pode ser usado para garantir a reprodutibilidade dos resultados.\n",
    "\n",
    "Esses métodos são amplamente utilizados para simulações, jogos, testes e outras aplicações que requerem geração de números aleatórios."
   ]
  },
  {
   "cell_type": "code",
   "execution_count": 37,
   "metadata": {},
   "outputs": [
    {
     "name": "stdout",
     "output_type": "stream",
     "text": [
      "['Brasilia', 'Fortaleza', 'Fortaleza']\n"
     ]
    }
   ],
   "source": [
    "cds_aleatorios = random.choices(centros_de_distribuicao, k=3)\n",
    "print(cds_aleatorios)"
   ]
  },
  {
   "cell_type": "code",
   "execution_count": 39,
   "metadata": {},
   "outputs": [
    {
     "name": "stdout",
     "output_type": "stream",
     "text": [
      "['Fortaleza', 'Brasilia', 'Rio de Janeiro']\n"
     ]
    }
   ],
   "source": [
    "# seleciona 3 CDs únicos\n",
    "cds_unicos = random.sample(centros_de_distribuicao, k=3)\n",
    "print(cds_unicos)"
   ]
  },
  {
   "cell_type": "markdown",
   "metadata": {},
   "source": [
    "- É possível definir uma seed para escolher \"aleatoriamente\""
   ]
  },
  {
   "cell_type": "code",
   "execution_count": null,
   "metadata": {},
   "outputs": [],
   "source": [
    "# define a seed\n",
    "random.seed(101)\n",
    "\n",
    "# escolha um índice de CD\n",
    "CD_index = random.randint(0, len(centros_de_distribuicao) - 1)\n",
    "print(CD_index)\n",
    "\n",
    "# seleciona o CD\n",
    "CD = centros_de_distribuicao[CD_index]\n",
    "print(CD)\n",
    "\n",
    "# seleciona o CD diretamente\n",
    "CD = random.choice(centros_de_distribuicao)\n",
    "print(CD)"
   ]
  },
  {
   "cell_type": "markdown",
   "metadata": {},
   "source": [
    "- É possível definir uma seed que muda em cada execução para garantir um possível resultado diferente na escolha aleatória"
   ]
  },
  {
   "cell_type": "code",
   "execution_count": null,
   "metadata": {},
   "outputs": [],
   "source": [
    "import time\n",
    "\n",
    "# define a seed baseada no tempo atual\n",
    "random.seed(time.time())\n",
    "\n",
    "# escolha um índice de CD\n",
    "CD_index = random.randint(0, len(centros_de_distribuicao) - 1)\n",
    "print(CD_index)\n",
    "\n",
    "# seleciona o CD\n",
    "CD = centros_de_distribuicao[CD_index]\n",
    "print(CD)\n",
    "\n",
    "# seleciona o CD diretamente\n",
    "CD = random.choice(centros_de_distribuicao)\n",
    "print(CD)"
   ]
  }
 ],
 "metadata": {
  "kernelspec": {
   "display_name": "py_course (3.12.3)",
   "language": "python",
   "name": "python3"
  },
  "language_info": {
   "codemirror_mode": {
    "name": "ipython",
    "version": 3
   },
   "file_extension": ".py",
   "mimetype": "text/x-python",
   "name": "python",
   "nbconvert_exporter": "python",
   "pygments_lexer": "ipython3",
   "version": "3.12.3"
  },
  "widgets": {
   "application/vnd.jupyter.widget-state+json": {
    "state": {},
    "version_major": 2,
    "version_minor": 0
   }
  }
 },
 "nbformat": 4,
 "nbformat_minor": 4
}
