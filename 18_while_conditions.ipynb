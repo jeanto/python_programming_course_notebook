{
 "cells": [
  {
   "cell_type": "markdown",
   "metadata": {},
   "source": [
    "# 18. The While loop: tipos de condições\n",
    "\n",
    "[Aprenda Python com Jupyter](https://github.com/jeanto/python_programming_course_notebook) by [Jean Nunes](https://jeanto.github.io/jeannunes)   \n",
    "Code license: [GNU-GPL v3](https://www.gnu.org/licenses/gpl-3.0.en.html)\n",
    "\n",
    "---"
   ]
  },
  {
   "cell_type": "markdown",
   "metadata": {},
   "source": [
    "## 1. Adivinhe o Centro de Distribuição (CD)!\n",
    "\n",
    "- Dada a seguinte lista:"
   ]
  },
  {
   "cell_type": "code",
   "execution_count": null,
   "metadata": {},
   "outputs": [],
   "source": [
    "centros_de_distribuicao = [\"Fortaleza\", \"Salvador\", \"Rio de Janeiro\", \"São Paulo\", \"Brasilia\"]"
   ]
  },
  {
   "cell_type": "markdown",
   "metadata": {},
   "source": [
    "- Crie um jogo em que o computador escolhe aleatoriamente um dos CDs e o jogador tem que adivinhar o CD escolhido pelo computador. Certifique-se de que o jogador continue jogando até que adivinhe o CD escolhido pelo computador. No final do jogo, diga ao jogador quantas tentativas foram necessárias para adivinhar o CD"
   ]
  },
  {
   "cell_type": "code",
   "execution_count": null,
   "metadata": {},
   "outputs": [],
   "source": [
    "import random\n",
    "\n",
    "# computador escolhe um cd\n",
    "escolha_computador = random.choice(centros_de_distribuicao)\n",
    "# print(escolha_computador)\n",
    "\n",
    "# palpite do jogador\n",
    "palpite_jogador = input(f\"Qual é o centro de distribuição escolhido pelo computador? Opções: {centros_de_distribuicao} \")\n",
    "\n",
    "# inicialize o contador\n",
    "numero_de_tentativas = 1\n",
    "\n",
    "# enquanto  o palpite do jogador e a escolha do computador são diferentes\n",
    "while palpite_jogador != escolha_computador:\n",
    "\n",
    "    # diga ao jogador que o CD não está certo\n",
    "    print (\"Esse não é o CD certo!\")\n",
    "\n",
    "    # imprima o número de tentativas até agora\n",
    "    print (f\"Número de tentativas até agora: {str(numero_de_tentativas)}\")\n",
    "\n",
    "    # incrementar o número de tentativas\n",
    "    numero_de_tentativas += 1 \n",
    "\n",
    "    # peça ao jogador para tentar novamente\n",
    "    palpite_jogador = input(f\"Tente novamente! Adivinhe o centro de distribuição! Escolhas: {centros_de_distribuicao}: \")\n",
    "    \n",
    "# imprima a mensagem de sucesso   \n",
    "print(f\"Muito bem! Você adivinhou a {escolha_computador} com o número de {str(numero_de_tentativas)} tentativas!\")"
   ]
  },
  {
   "cell_type": "markdown",
   "metadata": {
    "tags": []
   },
   "source": [
    "---\n",
    "## 2. Crie uma lista de 8 números aleatórios exclusivos!\n",
    "\n",
    "- Crie uma lista de 8 números aleatórios entre 0 e 10. Certifique-se de que eles sejam únicos, ou seja, que cada número esteja presente apenas uma vez na lista. Se o número já estiver na lista, então imprima o seguinte: *O número x já está na lista*. Quantos números você gerou antes de encontrar 8 números únicos?"
   ]
  },
  {
   "cell_type": "code",
   "execution_count": null,
   "metadata": {},
   "outputs": [],
   "source": [
    "import random\n",
    "\n",
    "# inicialize a lista de números únicos \n",
    "lista_numeros_randomicos_unicos = []\n",
    "\n",
    "# inicialize o contador\n",
    "contador = 0\n",
    "\n",
    "# enquanto o comprimento da lista não for 8\n",
    "while len(lista_numeros_randomicos_unicos) != 8:\n",
    "    \n",
    "    # criar um número aleatório entre 0 e 10\n",
    "    numero = random.randint(0,10)\n",
    "    \n",
    "    # incrementar o contador\n",
    "    contador += 1 \n",
    "    \n",
    "    # se o número não estiver na lista\n",
    "    if numero in lista_numeros_randomicos_unicos:\n",
    "        # imprime que o número já está na lista\n",
    "        print(f\"O número {numero} já está na lista\")\n",
    "    # caso contrário    \n",
    "    else:\n",
    "        # adicione o novo numero à lista\n",
    "        lista_numeros_randomicos_unicos.append(numero)\n",
    "\n",
    "# imprime a lista de números únicos e o total de números gerados\n",
    "print(lista_numeros_randomicos_unicos)\n",
    "print(f\"O número total de números gerados é: {contador}\")"
   ]
  },
  {
   "cell_type": "markdown",
   "metadata": {},
   "source": [
    "--- \n",
    "## 3. Somando múltiplos positivos de 3\n",
    "- Escreva um código que continue pedindo para um jogador digitar um inteiro até que ele digite um número negativo. No final, imprima a soma de todos os inteiros inseridos que são múltiplos de 3"
   ]
  },
  {
   "cell_type": "code",
   "execution_count": null,
   "metadata": {},
   "outputs": [],
   "source": [
    "# inicializa a soma dos números \n",
    "soma_dos_numeros = 0\n",
    "lista_de_numeros_divisiveis_por_3 = []\n",
    "\n",
    "# solicita ao usuário que insira um número inteiro\n",
    "numero = int(input(\"Entre com um inteiro: \"))\n",
    "\n",
    "# Equanto o número é positivo\n",
    "while numero >= 0:\n",
    "    \n",
    "    # se o número é divisível por 3\n",
    "    if numero % 3 == 0:\n",
    "        # adicione o número à soma\n",
    "        soma_dos_numeros += numero\n",
    "        lista_de_numeros_divisiveis_por_3.append(numero)\n",
    "    \n",
    "    # solicita ao usuário que insira outro número inteiro\n",
    "    numero = int(input(\"Entre com outro número inteiro: \"))\n",
    "    \n",
    "# imprime a soma dos números    \n",
    "print(lista_de_numeros_divisiveis_por_3)\n",
    "print(f\"A soma dos múltiplos de 3 inseridos é: {str(soma_dos_numeros)}\")"
   ]
  }
 ],
 "metadata": {
  "kernelspec": {
   "display_name": "Python 3",
   "language": "python",
   "name": "python3"
  },
  "language_info": {
   "codemirror_mode": {
    "name": "ipython",
    "version": 3
   },
   "file_extension": ".py",
   "mimetype": "text/x-python",
   "name": "python",
   "nbconvert_exporter": "python",
   "pygments_lexer": "ipython3",
   "version": "3.13.1"
  },
  "widgets": {
   "application/vnd.jupyter.widget-state+json": {
    "state": {},
    "version_major": 2,
    "version_minor": 0
   }
  }
 },
 "nbformat": 4,
 "nbformat_minor": 4
}
