{
 "cells": [
  {
   "cell_type": "markdown",
   "metadata": {},
   "source": [
    "# 2. Ambientes virtuais, inputs, variáveis e concatenção de string\n",
    "\n",
    "[Aprenda Python com Jupyter](https://github.com/jeanto/python_programming_course_notebook) by [Jean Nunes](https://jeanto.github.io/jeannunes)   \n",
    "Code license: [GNU-GPL v3](https://www.gnu.org/licenses/gpl-3.0.en.html)"
   ]
  },
  {
   "cell_type": "markdown",
   "metadata": {},
   "source": [
    "---\n",
    "## 1. Ambientes Virtuais em Python\n",
    "\n",
    "Ambientes virtuais são uma ferramenta que ajuda a manter as dependências requeridas por diferentes projetos em ambientes separados. Eles solucionam o problema de dependências e versões conflitantes, e também ajudam a manter o ambiente global do Python limpo e organizado.\n",
    "\n",
    "Quando você trabalha em múltiplos projetos que requerem diferentes versões de pacotes, pode ser difícil gerenciar essas dependências. Por exemplo, um projeto pode precisar da versão 1.0 de um pacote, enquanto outro projeto pode precisar da versão 2.0 do mesmo pacote. Se você instalar ambos os pacotes no ambiente global do Python, pode causar conflitos e problemas de compatibilidade.\n",
    "\n",
    "Para resolver isso, você pode criar um ambiente virtual para cada projeto. Um ambiente virtual é uma cópia isolada do interpretador Python, que inclui suas próprias versões dos pacotes e dependências. Isso permite que você instale pacotes específicos para cada projeto sem afetar outros projetos ou o ambiente global do Python.\n",
    "\n",
    "Para criar e gerenciar ambientes virtuais em Python, você pode usar a ferramenta `venv`, que é incluída na biblioteca padrão do Python a partir da versão 3.3. Outra ferramenta popular é o `virtualenv`, que oferece funcionalidades adicionais e é compatível com versões mais antigas do Python.\n",
    "\n",
    "Aqui está um exemplo de como criar e ativar um ambiente virtual usando `venv`:\n",
    "\n",
    "1. Se não tiver, instale o pacote venv\n",
    "    ```sh\n",
    "    sudo apt update\n",
    "    sudo apt install python3.xx-venv\n",
    "    ```\n",
    "\n",
    "1. Crie um novo ambiente virtual:\n",
    "    ```sh\n",
    "    python -m venv myenv\n",
    "    ```\n",
    "\n",
    "2. Ative o ambiente virtual:\n",
    "    - No Windows:\n",
    "      ```sh\n",
    "      myenv\\Scripts\\activate\n",
    "      ```\n",
    "    - No macOS e Linux:\n",
    "      ```sh\n",
    "      source myenv/bin/activate\n",
    "      ```\n",
    "\n",
    "3. Instale pacotes no ambiente virtual:\n",
    "    ```sh\n",
    "    pip install nome_do_pacote\n",
    "    ```\n",
    "\n",
    "4. Para desativar o ambiente virtual, use o comando:\n",
    "    ```sh\n",
    "    deactivate\n",
    "    ```\n",
    "\n",
    "5. Você pode usar também a extensão Python Environments"
   ]
  },
  {
   "cell_type": "markdown",
   "metadata": {},
   "source": [
    "---\n",
    "## 2. Organizando um cadastro de doadores\n",
    "\n",
    "- Você está organizando o cadastro de doadores e criou o seguinte formulário de inscrição para os candidatos:\n",
    "\n",
    "    ```\n",
    "    Formulário de candidatos a doadores\n",
    "    nome = __________________\n",
    "    sobrenome  = __________________\n",
    "    ```"
   ]
  },
  {
   "cell_type": "markdown",
   "metadata": {},
   "source": [
    "- O primeiro participante informa os dados e você preenche o formulário:"
   ]
  },
  {
   "cell_type": "code",
   "execution_count": null,
   "metadata": {},
   "outputs": [],
   "source": [
    "nome = \"Ademir\"\n",
    "sobrenome  = \"da Guia\""
   ]
  },
  {
   "cell_type": "markdown",
   "metadata": {},
   "source": [
    "- Depois você imprime o que você digitou no formulário de inscrição:"
   ]
  },
  {
   "cell_type": "code",
   "execution_count": null,
   "metadata": {},
   "outputs": [],
   "source": [
    "print(nome)\n",
    "print(sobrenome)"
   ]
  },
  {
   "cell_type": "markdown",
   "metadata": {},
   "source": [
    "---\n",
    "## 3. Entrada de dados: input()"
   ]
  },
  {
   "cell_type": "markdown",
   "metadata": {},
   "source": [
    "- Em Python, a função input() é usada para capturar a entrada do usuário a partir do console. Quando input() é chamado, o programa pausa e espera que o usuário digite algo e pressione Enter. O valor digitado pelo usuário é então retornado como uma string."
   ]
  },
  {
   "cell_type": "code",
   "execution_count": 1,
   "metadata": {},
   "outputs": [
    {
     "data": {
      "text/plain": [
       "'Jean'"
      ]
     },
     "execution_count": 1,
     "metadata": {},
     "output_type": "execute_result"
    }
   ],
   "source": [
    "input(\"Qual o seu nome?\")"
   ]
  },
  {
   "cell_type": "code",
   "execution_count": null,
   "metadata": {},
   "outputs": [],
   "source": [
    "input(\"De onde você é?\")"
   ]
  },
  {
   "cell_type": "markdown",
   "metadata": {},
   "source": [
    "--- \n",
    "## 4. Varíavel e input"
   ]
  },
  {
   "cell_type": "code",
   "execution_count": 2,
   "metadata": {
    "tags": []
   },
   "outputs": [],
   "source": [
    "nome = input(\"Informe o seu nome?\")\n",
    "sobrenome = input(\"Informe o seu sobrenome\")"
   ]
  },
  {
   "cell_type": "code",
   "execution_count": 4,
   "metadata": {},
   "outputs": [],
   "source": [
    "orgao = input(\"Qual órgão deseja doar?\")"
   ]
  },
  {
   "cell_type": "code",
   "execution_count": 5,
   "metadata": {},
   "outputs": [
    {
     "name": "stdout",
     "output_type": "stream",
     "text": [
      "O candidato Jean Nunes deseja doar Rim\n"
     ]
    }
   ],
   "source": [
    "print(\"O candidato \" + nome + \" \" + sobrenome + \" deseja doar \" + orgao)"
   ]
  },
  {
   "cell_type": "code",
   "execution_count": 6,
   "metadata": {},
   "outputs": [
    {
     "name": "stdout",
     "output_type": "stream",
     "text": [
      "O candidato Jean Nunes deseja doar Rim\n"
     ]
    }
   ],
   "source": [
    "print(f\"O candidato {nome} {sobrenome} deseja doar {orgao}\")"
   ]
  },
  {
   "cell_type": "markdown",
   "metadata": {},
   "source": [
    "### Considerações importantes:\n",
    "\n",
    "- Input é sempre uma string: A função input() sempre retorna uma string, mesmo que o usuário insira um número. Se você precisar trabalhar com números, deve converter a entrada usando funções como int() ou float()."
   ]
  },
  {
   "cell_type": "code",
   "execution_count": null,
   "metadata": {},
   "outputs": [
    {
     "name": "stdout",
     "output_type": "stream",
     "text": [
      "A soma dos numeros é 7\n"
     ]
    }
   ],
   "source": [
    "num1 = int(input(\"Digite um numero\"))\n",
    "num2 = int(input(\"Digite outro numero\"))\n",
    "soma = int(num1) - int(num2)\n",
    "print(f\"A soma dos numeros é {soma}\")"
   ]
  },
  {
   "cell_type": "code",
   "execution_count": null,
   "metadata": {},
   "outputs": [],
   "source": [
    "idade = input(\"Qual a sua idade: \")\n",
    "print(type(idade))\n",
    "idade = int(idade)  \n",
    "print(type(idade))"
   ]
  },
  {
   "cell_type": "markdown",
   "metadata": {},
   "source": [
    "- *Tratamento de Erros* (Muito Importante): Se você tentar converter algo que não é um número válido (por exemplo, \"abc\") para um inteiro, você obterá um erro. É essencial usar blocos try-except para lidar com possíveis erros:"
   ]
  },
  {
   "cell_type": "markdown",
   "metadata": {},
   "source": [
    "- *Prompts*: Use prompts claros e informativos para guiar o usuário. Diga exatamente o que você espera que eles insiram."
   ]
  },
  {
   "cell_type": "markdown",
   "metadata": {},
   "source": [
    "- *Sem Valor Padrão*: A função input() não possui uma maneira de fornecer um valor padrão. Se você quiser permitir que o usuário pressione Enter sem digitar nada (efetivamente usando um valor padrão), você precisará lidar com isso manualmente:"
   ]
  },
  {
   "cell_type": "code",
   "execution_count": null,
   "metadata": {},
   "outputs": [],
   "source": [
    "cidade = input(\"Digite sua cidade (ou pressione [Enter] caso você seja de Brasília): \")\n",
    "if cidade == \"\":\n",
    "    cidade = \"Brasilia\"  # Cidade padrão\n",
    "print(f\"Você é de: {cidade}\")"
   ]
  },
  {
   "cell_type": "markdown",
   "metadata": {},
   "source": [
    "- **Segurança** (Para Uso Avançado): Tenha muito cuidado ao usar input() em situações onde você está lidando com entradas potencialmente maliciosas (por exemplo, em aplicações web). Você deve sempre validar e sanitizar a entrada do usuário para prevenir vulnerabilidades de segurança."
   ]
  },
  {
   "cell_type": "markdown",
   "metadata": {},
   "source": [
    "---\n",
    "## Atividade Prática\n",
    "\n",
    "- Crie um formulário de cadastro de pontencial doadores com os seguintes dados:\n",
    "\n",
    "### Dados Pessoais\n",
    "- Nome\n",
    "- Idade\n",
    "- Sexo\n",
    "- Data de Nascimento\n",
    "- Estado de Nascimento\n",
    "- CPF\n",
    "- Estado Civil\n",
    "- Cidade/Estado de Nascimento\n",
    "- Profissão\n",
    "- Tipo Sanguíneo \n",
    "\n",
    "### Contato\n",
    "- Telefone\n",
    "- Email\n",
    "\n",
    "### Endereço Atual\n",
    "- Rua\n",
    "- Número\n",
    "- Cidade\n",
    "- Estado\n",
    "- CEP\n",
    "- Complemento"
   ]
  }
 ],
 "metadata": {
  "kernelspec": {
   "display_name": "py_course (3.12.3)",
   "language": "python",
   "name": "python3"
  },
  "language_info": {
   "codemirror_mode": {
    "name": "ipython",
    "version": 3
   },
   "file_extension": ".py",
   "mimetype": "text/x-python",
   "name": "python",
   "nbconvert_exporter": "python",
   "pygments_lexer": "ipython3",
   "version": "3.12.3"
  },
  "widgets": {
   "application/vnd.jupyter.widget-state+json": {
    "state": {},
    "version_major": 2,
    "version_minor": 0
   }
  }
 },
 "nbformat": 4,
 "nbformat_minor": 4
}
