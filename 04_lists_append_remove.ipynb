{
 "cells": [
  {
   "cell_type": "markdown",
   "metadata": {},
   "source": [
    "# 4. List methods: .append() and .remove()\n",
    "\n",
    "[Aprenda Python com Jupyter](https://github.com/jeanto/python_programming_course_notebook) by [Jean Nunes](https://jeanto.github.io/jeannunes)   \n",
    "Code license: [GNU-GPL v3](https://www.gnu.org/licenses/gpl-3.0.en.html)"
   ]
  },
  {
   "cell_type": "markdown",
   "metadata": {},
   "source": [
    "---"
   ]
  },
  {
   "cell_type": "markdown",
   "metadata": {},
   "source": [
    "- Você verifica na lista de órgão quais órgãos podem ser doados:"
   ]
  },
  {
   "cell_type": "code",
   "execution_count": 26,
   "metadata": {},
   "outputs": [
    {
     "name": "stdout",
     "output_type": "stream",
     "text": [
      "['Coração', 'Rins', 'Fígado', 'Pâncreas', 'Pulmões']\n"
     ]
    }
   ],
   "source": [
    "lista_de_orgaos = [\"Coração\", \"Rins\",  \"Fígado\", \"Pâncreas\", \"Pulmões\"]\n",
    "print(lista_de_orgaos)"
   ]
  },
  {
   "cell_type": "markdown",
   "metadata": {},
   "source": [
    "Você se pergunta se não é possível realizar outras doações. Ao fazer uma pesquisa, você observa que existem outros órgão que podem ser doados. Como poderíamos adicioná-los?"
   ]
  },
  {
   "cell_type": "markdown",
   "metadata": {},
   "source": [
    "O método `list.append()` é utilizado para adicionar um novo elemento ao final de uma lista. Este método modifica a lista original e não retorna nenhum valor (ou seja, retorna `None`).\n",
    "\n",
    "### Exemplo de uso do método `list.append()`\n"
   ]
  },
  {
   "cell_type": "code",
   "execution_count": 12,
   "metadata": {},
   "outputs": [
    {
     "name": "stdout",
     "output_type": "stream",
     "text": [
      "Dedo adicionado com sucesso na lista de órgões que podem ser doados.\n",
      "['Coração', 'Rins', 'Fígado', 'Pâncreas', 'Pulmões', ['Pé', 'Palmeiras o maior campeão do Brasil'], 'Dedo', 'Palmeiras o maior campeão do Brasil']\n"
     ]
    }
   ],
   "source": [
    "orgao_para_adicionar = input(\"Qual órgão você deseja adicionar na lista de órgãos?\")\n",
    "\n",
    "if orgao_para_adicionar in lista_de_orgaos:\n",
    "    print(f\"{orgao_para_adicionar} já está na lista de órgões que podem ser doados.\")\n",
    "    print(lista_de_orgaos) \n",
    "else:\n",
    "    lista_de_orgaos.append(orgao_para_adicionar)\n",
    "    lista_de_orgaos.append(\"Palmeiras o maior campeão do Brasil\")\n",
    "    print(f\"{orgao_para_adicionar} adicionado com sucesso na lista de órgões que podem ser doados.\")\n",
    "    print(lista_de_orgaos)"
   ]
  },
  {
   "cell_type": "code",
   "execution_count": 11,
   "metadata": {},
   "outputs": [
    {
     "name": "stdout",
     "output_type": "stream",
     "text": [
      "Palmeiras o maior campeão do Brasil\n"
     ]
    }
   ],
   "source": [
    "print(lista_de_orgaos[5][1])"
   ]
  },
  {
   "cell_type": "code",
   "execution_count": null,
   "metadata": {},
   "outputs": [],
   "source": [
    "help(list.append)"
   ]
  },
  {
   "cell_type": "markdown",
   "metadata": {},
   "source": [
    "Finalmente, você se pergunta se é possível remover um órgão da lista."
   ]
  },
  {
   "cell_type": "markdown",
   "metadata": {
    "vscode": {
     "languageId": "html"
    }
   },
   "source": [
    "O método `list.remove()` é utilizado para remover a primeira ocorrência de um elemento em uma lista. Este método modifica a lista original e não retorna nenhum valor (ou seja, retorna `None`). Se o elemento não for encontrado na lista, um erro `ValueError` será gerado.\n",
    "\n",
    "### Exemplo de uso do método `list.remove()`\n"
   ]
  },
  {
   "cell_type": "code",
   "execution_count": 6,
   "metadata": {},
   "outputs": [
    {
     "name": "stdout",
     "output_type": "stream",
     "text": [
      "Pé não está na lista de órgões que podem ser doados.\n",
      "['Coração', 'Rins', 'Fígado', 'Pâncreas', 'Pulmões']\n"
     ]
    }
   ],
   "source": [
    "orgao_para_remover = input(\"Qual órgão você deseja remover da lista de órgãos?\")\n",
    "\n",
    "if orgao_para_remover in lista_de_orgaos:\n",
    "    lista_de_orgaos.remove(orgao_para_remover)\n",
    "    print(f\"{orgao_para_remover} removido com sucesso da lista de órgões que podem ser doados.\")\n",
    "    print(lista_de_orgaos)\n",
    "else:\n",
    "    print(orgao_para_remover + \" não está na lista de órgões que podem ser doados.\")\n",
    "    print(lista_de_orgaos)"
   ]
  },
  {
   "cell_type": "markdown",
   "metadata": {
    "vscode": {
     "languageId": "latex"
    }
   },
   "source": [
    "O método `list.extend()` é utilizado para adicionar todos os elementos de um iterável (como uma lista, tupla ou conjunto) ao final de uma lista. Este método modifica a lista original e não retorna nenhum valor (ou seja, retorna `None`). Diferente do método `list.append()`, que adiciona um único elemento ao final da lista, o método `list.extend()` adiciona múltiplos elementos de uma vez.\n",
    "\n",
    "### Exemplo de uso do método `list.extend()`\n"
   ]
  },
  {
   "cell_type": "code",
   "execution_count": 29,
   "metadata": {},
   "outputs": [
    {
     "name": "stdout",
     "output_type": "stream",
     "text": [
      "Coração, Rins adicionado com sucesso na lista de órgões que podem ser doados.\n",
      "['Coração', 'Rins', 'Fígado', 'Pâncreas', 'Pulmões', 'Unha', 'Dedo', 'Cabelo', 'Coração', 'Rins', 'Fígado', 'Coração', 'Rins']\n"
     ]
    }
   ],
   "source": [
    "orgao_para_adicionar = input(\"Qual órgão você deseja adicionar na lista de órgãos?\\nCaso tenha mais de um órgão, separe-os por vírgula (Ex. 'Coracao, Pulmao, Pele').\")\n",
    "\n",
    "nova_lista_de_orgaos = orgao_para_adicionar.split(\", \")\n",
    "\n",
    "if nova_lista_de_orgaos in lista_de_orgaos:\n",
    "    print(f\"{orgao_para_adicionar} já está na lista de órgões que podem ser doados.\")\n",
    "    print(lista_de_orgaos) \n",
    "else:\n",
    "    lista_de_orgaos.extend(nova_lista_de_orgaos)\n",
    "    print(f\"{orgao_para_adicionar} adicionado com sucesso na lista de órgões que podem ser doados.\")\n",
    "    print(lista_de_orgaos)"
   ]
  },
  {
   "cell_type": "code",
   "execution_count": 24,
   "metadata": {},
   "outputs": [
    {
     "name": "stdout",
     "output_type": "stream",
     "text": [
      "['Coração', 'Rins', 'Fígado', 'Pâncreas', 'Pulmões', 'Dedo', 'Joelho', 'Unhas', 'Cabelo']\n"
     ]
    }
   ],
   "source": [
    "nova_lista_de_orgaos = [\"Dedo\", \"Joelho\", \"Unhas\", \"Cabelo\"]\n",
    "lista_de_orgaos.extend(nova_lista_de_orgaos)\n",
    "print(lista_de_orgaos)"
   ]
  },
  {
   "cell_type": "markdown",
   "metadata": {},
   "source": [
    "## Atividade prática 1:\n",
    "\n",
    "- Observe que o código acima não realiza a validação adequamente e pode inserir órgãos que já estão contido na lista. Desenvolva a validação adequada para que isso não ocorra, ou seja, apenas  órgãos que não estão na lista devem ser adicionados."
   ]
  }
 ],
 "metadata": {
  "kernelspec": {
   "display_name": "py_course (3.12.3)",
   "language": "python",
   "name": "python3"
  },
  "language_info": {
   "codemirror_mode": {
    "name": "ipython",
    "version": 3
   },
   "file_extension": ".py",
   "mimetype": "text/x-python",
   "name": "python",
   "nbconvert_exporter": "python",
   "pygments_lexer": "ipython3",
   "version": "3.12.3"
  },
  "widgets": {
   "application/vnd.jupyter.widget-state+json": {
    "state": {},
    "version_major": 2,
    "version_minor": 0
   }
  }
 },
 "nbformat": 4,
 "nbformat_minor": 4
}
