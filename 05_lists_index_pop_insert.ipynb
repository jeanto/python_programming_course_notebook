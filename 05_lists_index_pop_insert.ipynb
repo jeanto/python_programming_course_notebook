{
 "cells": [
  {
   "cell_type": "markdown",
   "metadata": {},
   "source": [
    "# 5. List methods: .index(), .pop(), and .insert()\n",
    "\n",
    "[Aprenda Python com Jupyter](https://github.com/jeanto/python_programming_course_notebook) by [Jean Nunes](https://jeanto.github.io/jeannunes)   \n",
    "Code license: [GNU-GPL v3](https://www.gnu.org/licenses/gpl-3.0.en.html)"
   ]
  },
  {
   "cell_type": "markdown",
   "metadata": {},
   "source": [
    "---  "
   ]
  },
  {
   "cell_type": "markdown",
   "metadata": {},
   "source": [
    "- Após consultar a lista oficial de órgãos que podem ser doados, a lista do sistema ficou da seguinte forma:"
   ]
  },
  {
   "cell_type": "code",
   "execution_count": null,
   "metadata": {},
   "outputs": [],
   "source": [
    "lista_de_orgaos = [\"Coração\", \"Rins\",  \"Fígado\", \"Pâncreas\", \"Pulmões\", \"Intestino\", \n",
    "                   \"Córneas\", \"Pele\", \"Ossos\", \"Válvulas cardíacas\", \"Cartilagem\", \"Medula Óssea\", \n",
    "                   \"Tendões\", \"Vasos Sanguíneos\", \"Sangue de Cordão Umbilical\", \"Sangue Universal\"]\n",
    "print(lista_de_orgaos)"
   ]
  },
  {
   "cell_type": "markdown",
   "metadata": {},
   "source": [
    "#### Considere que um potencial doador sinalizou a possibilidade doar os seguinte órgãos: Coração, Rins, Córneas e Medula Óssea. Como criar uma lista particular com os órgãos desse potencial doador?"
   ]
  },
  {
   "cell_type": "markdown",
   "metadata": {},
   "source": [
    "### 1. Faça uma cópia da lista de órgãos:"
   ]
  },
  {
   "cell_type": "code",
   "execution_count": null,
   "metadata": {},
   "outputs": [],
   "source": [
    "lista_de_orgaos_potencial_doador = lista_de_orgaos"
   ]
  },
  {
   "cell_type": "markdown",
   "metadata": {},
   "source": [
    "### 2. Encontre a posição do órgão na lista:"
   ]
  },
  {
   "cell_type": "code",
   "execution_count": null,
   "metadata": {},
   "outputs": [],
   "source": [
    "orgao_para_remover_index = lista_de_orgaos_potencial_doador.index(\"Coração\")\n",
    "print(orgao_para_remover_index)"
   ]
  },
  {
   "cell_type": "markdown",
   "metadata": {},
   "source": [
    "### 3. Remova *Fígado* da lista de órgãos do potencial doador:"
   ]
  },
  {
   "cell_type": "code",
   "execution_count": null,
   "metadata": {},
   "outputs": [],
   "source": [
    "help(list.pop)"
   ]
  },
  {
   "cell_type": "code",
   "execution_count": null,
   "metadata": {},
   "outputs": [],
   "source": [
    "lista_de_orgaos_potencial_doador.pop(orgao_para_remover_index)\n",
    "print(lista_de_orgaos_potencial_doador)"
   ]
  },
  {
   "cell_type": "code",
   "execution_count": null,
   "metadata": {},
   "outputs": [],
   "source": [
    "print(lista_de_orgaos)"
   ]
  },
  {
   "cell_type": "markdown",
   "metadata": {},
   "source": [
    "- O que é possível observar ao comparar a duas listas: lista_de_orgaos_potencial_doador e lista_de_orgaos?"
   ]
  },
  {
   "cell_type": "code",
   "execution_count": null,
   "metadata": {},
   "outputs": [],
   "source": [
    "import copy\n",
    "\n",
    "# Lista original com uma lista aninhada\n",
    "original_list = [1, 2, [3, 4]]\n",
    "\n",
    "# Cópia superficial\n",
    "shallow_copy = original_list.copy()\n",
    "\n",
    "# Cópia profunda\n",
    "deep_copy = copy.deepcopy(original_list)\n",
    "\n",
    "# Modificando a lista aninhada na cópia superficial\n",
    "shallow_copy[2][0] = 'a'\n",
    "\n",
    "# Modificando a lista aninhada na cópia profunda\n",
    "deep_copy[2][1] = 'b'\n",
    "\n",
    "print(\"Original List:\", original_list)\n",
    "print(\"Shallow Copy:\", shallow_copy)\n",
    "print(\"Deep Copy:\", deep_copy)"
   ]
  },
  {
   "cell_type": "code",
   "execution_count": null,
   "metadata": {},
   "outputs": [],
   "source": [
    "lista_de_orgaos_potencial_doador = lista_de_orgaos.copy()\n",
    "orgao_para_remover_index = lista_de_orgaos_potencial_doador.index(\"Coração\")\n",
    "print(orgao_para_remover_index)\n",
    "lista_de_orgaos_potencial_doador.pop(orgao_para_remover_index)"
   ]
  },
  {
   "cell_type": "code",
   "execution_count": null,
   "metadata": {},
   "outputs": [],
   "source": [
    "print(lista_de_orgaos_potencial_doador)"
   ]
  },
  {
   "cell_type": "code",
   "execution_count": null,
   "metadata": {},
   "outputs": [],
   "source": [
    "print(lista_de_orgaos)"
   ]
  },
  {
   "cell_type": "markdown",
   "metadata": {},
   "source": [
    "### 4. Caso deseje inserir um órgão em uma posição específica: "
   ]
  },
  {
   "cell_type": "code",
   "execution_count": null,
   "metadata": {},
   "outputs": [],
   "source": [
    "lista_de_orgaos_potencial_doador.insert(10, \"Coração\")\n",
    "print(lista_de_orgaos_potencial_doador)"
   ]
  },
  {
   "cell_type": "markdown",
   "metadata": {},
   "source": [
    "---\n",
    "## Atividade Prática\n",
    "\n",
    "- Utilizando os métodos da Lista e a partir da lista geral de órgãos, crie a seguinte lista de um potencial doador:\n",
    "\n",
    "##### Roberto: Rins, Fígado, Intestino, Medula Óssea"
   ]
  }
 ],
 "metadata": {
  "kernelspec": {
   "display_name": "py_course (3.12.3)",
   "language": "python",
   "name": "python3"
  },
  "language_info": {
   "codemirror_mode": {
    "name": "ipython",
    "version": 3
   },
   "file_extension": ".py",
   "mimetype": "text/x-python",
   "name": "python",
   "nbconvert_exporter": "python",
   "pygments_lexer": "ipython3",
   "version": "3.12.3"
  },
  "widgets": {
   "application/vnd.jupyter.widget-state+json": {
    "state": {},
    "version_major": 2,
    "version_minor": 0
   }
  }
 },
 "nbformat": 4,
 "nbformat_minor": 4
}
