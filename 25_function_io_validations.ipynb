{
 "cells": [
  {
   "cell_type": "markdown",
   "metadata": {},
   "source": [
    "# 25. Validações de entrada\n",
    "\n",
    "[Aprenda Python com Jupyter](https://github.com/jeanto/python_programming_course_notebook) by [Jean Nunes](https://jeanto.github.io/jeannunes)   \n",
    "Code license: [GNU-GPL v3](https://www.gnu.org/licenses/gpl-3.0.en.html)\n",
    "\n",
    "---"
   ]
  },
  {
   "cell_type": "markdown",
   "metadata": {},
   "source": [
    "### Você precisa atualizar o sistema de classificação de gravidade para receptores de órgãos. A atualização é que a gravidade deve ser avaliada com base no órgão necessário e na idade do receptor."
   ]
  },
  {
   "cell_type": "markdown",
   "metadata": {},
   "source": [
    "#### Escreva uma função que receba o prefixo, o nome, o órgão necessário e a idade; verifique os *tipos* e *valores* dessas entradas; e retorne uma mensagem informando o grau de gravidade. "
   ]
  },
  {
   "cell_type": "markdown",
   "metadata": {},
   "source": [
    "- Se o receptor precisa de coração, pulmão ou rins e tem mais de 60 anos, a gravidade é alta. \n",
    "\n",
    "- Se o receptor precisa de coração, pulmão ou rins e tiver entre 40 e 60 anos, a gravidade é média. Se o receptor tiver menos de 40 anos ou não precisa de coração, pulmão ou rins, a \n",
    "gravidade é baixa."
   ]
  },
  {
   "cell_type": "code",
   "execution_count": 15,
   "metadata": {},
   "outputs": [],
   "source": [
    "def estado_gravidade(prefixo, nome, orgao, idade):\n",
    "    \"\"\"\n",
    "    Recebe o prefixo, o nome, o órgão necessário e a idade; verifica os tipos e valores dessas entradas;\n",
    "    e retorna uma mensagem informando o grau de gravidade.\n",
    "\n",
    "    Parâmetros\n",
    "    ----------\n",
    "    prefixo : string\n",
    "        Prefixo do receptor (Sr., Sra., Dr., etc.)\n",
    "    nome : string\n",
    "        Nome do receptor\n",
    "    orgao : string\n",
    "        Órgão necessário (coração, pulmão, rins, etc.)\n",
    "    idade : int\n",
    "        Idade do receptor\n",
    "\n",
    "    Retorna\n",
    "    -------\n",
    "    string\n",
    "        Mensagem informando o grau de gravidade.\n",
    "    \"\"\"\n",
    "    \n",
    "    # --- Verificar tipos de entrada ---\n",
    "    if not isinstance(prefixo, str):\n",
    "        raise TypeError(\"O prefixo deve ser uma string.\")\n",
    "    \n",
    "    if not isinstance(nome, str):\n",
    "        raise TypeError(\"O nome deve ser uma string.\")\n",
    "    \n",
    "    if not isinstance(orgao, str):\n",
    "        raise TypeError(\"O órgão deve ser uma string.\")\n",
    "    \n",
    "    if not isinstance(idade, int):\n",
    "        raise TypeError(\"A idade deve ser um número inteiro.\")\n",
    "    \n",
    "    # --- Verificar valores de entrada ---\n",
    "    if prefixo not in [\"Sr.\", \"Sra.\", \"Dr.\", \"Dra.\"]:\n",
    "        raise ValueError(\"O prefixo deve ser 'Sr.', 'Sra.', 'Dr.' ou 'Dra.'.\")\n",
    "    \n",
    "    if not nome.isalpha():\n",
    "        raise ValueError(\"O nome deve conter apenas letras.\")\n",
    "    \n",
    "    if idade < 0 or idade > 125:\n",
    "        raise ValueError(\"A idade deve estar entre 0 e 125.\")\n",
    "    \n",
    "    # Lista de órgãos críticos\n",
    "    orgaos_criticos = [\"coração\", \"pulmão\", \"rins\"]\n",
    "    \n",
    "    # --- Determinar a gravidade ---\n",
    "    orgao = orgao.lower()  # Normalizar o órgão para letras minúsculas\n",
    "    if orgao in orgaos_criticos:\n",
    "        if idade > 60:\n",
    "            gravidade = \"alta\"\n",
    "        elif 40 <= idade <= 60:\n",
    "            gravidade = \"média\"\n",
    "        else:\n",
    "            gravidade = \"baixa\"\n",
    "    else:\n",
    "        gravidade = \"baixa\"\n",
    "    \n",
    "    # Retornar mensagem de gravidade\n",
    "    if gravidade == \"baixa\":\n",
    "        return f\"{prefixo} {nome}, a gravidade para o órgão '{orgao}' é {\"alta\" if orgao in orgaos_criticos else \"baixa\"}. Em razão da sua idade, você pode esperar um pouco mais.\"\n",
    "    elif gravidade == \"média\":\n",
    "        return f\"{prefixo} {nome}, a gravidade para o órgão '{orgao}' é {\"alta\" if orgao in orgaos_criticos else \"media\"}. Em razão da sua idade, você está na fila de espera.\"\n",
    "    else:\n",
    "        return f\"{prefixo} {nome}, a gravidade para o órgão '{orgao}' é alta. Em razão da sua idade, você é prioridade na fila de espera.\""
   ]
  },
  {
   "cell_type": "markdown",
   "metadata": {},
   "source": [
    "---\n",
    "- Chame a função verificando os *tipos* dos parâmetros:"
   ]
  },
  {
   "cell_type": "code",
   "execution_count": null,
   "metadata": {},
   "outputs": [],
   "source": [
    "# verificando o tipo do prefixo\n",
    "msg = estado_gravidade(1, \"Roberto\", \"Coração\", 86)\n",
    "print(msg)"
   ]
  },
  {
   "cell_type": "code",
   "execution_count": null,
   "metadata": {},
   "outputs": [],
   "source": [
    "# verificando o tipo do nome\n",
    "msg = estado_gravidade(\"Sr.\", 1.2, \"Coração\", 86)\n",
    "print(msg)"
   ]
  },
  {
   "cell_type": "code",
   "execution_count": null,
   "metadata": {},
   "outputs": [],
   "source": [
    "# verificando o tipo do orgão\n",
    "msg = estado_gravidade(\"Sr.\", \"Roberto\", 1, 86)\n",
    "print(msg)"
   ]
  },
  {
   "cell_type": "code",
   "execution_count": null,
   "metadata": {},
   "outputs": [],
   "source": [
    "# verificando o tipo da idade\n",
    "msg = estado_gravidade(\"Sr.\", \"Roberto\", \"Coração\", \"86\")\n",
    "print(msg)"
   ]
  },
  {
   "cell_type": "markdown",
   "metadata": {},
   "source": [
    "---\n",
    "- Chame a função verificando os *valores* dos parâmetros:"
   ]
  },
  {
   "cell_type": "code",
   "execution_count": null,
   "metadata": {},
   "outputs": [],
   "source": [
    "# verificando o valor do prefixo\n",
    "msg = estado_gravidade(\"Sr\", \"Roberto\", \"Coração\", 86)\n",
    "print(msg)"
   ]
  },
  {
   "cell_type": "code",
   "execution_count": null,
   "metadata": {},
   "outputs": [],
   "source": [
    "# verificando o valor do nome\n",
    "msg = estado_gravidade(\"Sr.\", \"Roberto1\", \"Coração\", 86)\n",
    "print(msg)"
   ]
  },
  {
   "cell_type": "code",
   "execution_count": null,
   "metadata": {},
   "outputs": [],
   "source": [
    "# verificando o valor da idade\n",
    "msg = estado_gravidade(\"Sr.\", \"Roberto\", \"Coração\", -86)\n",
    "print(msg)"
   ]
  },
  {
   "cell_type": "markdown",
   "metadata": {},
   "source": [
    "---\n",
    "- Chame a função testando os três possíveis retornos:"
   ]
  },
  {
   "cell_type": "code",
   "execution_count": 16,
   "metadata": {},
   "outputs": [
    {
     "name": "stdout",
     "output_type": "stream",
     "text": [
      "Sr. Roberto, a gravidade para o órgão 'coração' é alta. Em razão da sua idade, você é prioridade na fila de espera.\n"
     ]
    }
   ],
   "source": [
    "# pessoa com gravidade alta\n",
    "msg = estado_gravidade(\"Sr.\", \"Roberto\", \"Coração\", 86)\n",
    "print(msg)"
   ]
  },
  {
   "cell_type": "code",
   "execution_count": 18,
   "metadata": {},
   "outputs": [
    {
     "name": "stdout",
     "output_type": "stream",
     "text": [
      "Sr. Roberto, a gravidade para o órgão 'córnea' é baixa. Em razão da sua idade, você pode esperar um pouco mais.\n"
     ]
    }
   ],
   "source": [
    "# pessoa com gravidade média\n",
    "msg = estado_gravidade(\"Sr.\", \"Roberto\", \"Córnea\", 50)\n",
    "print(msg)"
   ]
  },
  {
   "cell_type": "code",
   "execution_count": 19,
   "metadata": {},
   "outputs": [
    {
     "name": "stdout",
     "output_type": "stream",
     "text": [
      "Sr. Roberto, a gravidade para o órgão 'fígado' é baixa. Em razão da sua idade, você pode esperar um pouco mais.\n"
     ]
    }
   ],
   "source": [
    "# pessoa com gravidade baixa\n",
    "msg = estado_gravidade(\"Sr.\", \"Roberto\", \"Fígado\", 30)\n",
    "print(msg)"
   ]
  }
 ],
 "metadata": {
  "kernelspec": {
   "display_name": "Python 3",
   "language": "python",
   "name": "python3"
  },
  "language_info": {
   "codemirror_mode": {
    "name": "ipython",
    "version": 3
   },
   "file_extension": ".py",
   "mimetype": "text/x-python",
   "name": "python",
   "nbconvert_exporter": "python",
   "pygments_lexer": "ipython3",
   "version": "3.13.1"
  },
  "widgets": {
   "application/vnd.jupyter.widget-state+json": {
    "state": {},
    "version_major": 2,
    "version_minor": 0
   }
  }
 },
 "nbformat": 4,
 "nbformat_minor": 4
}
