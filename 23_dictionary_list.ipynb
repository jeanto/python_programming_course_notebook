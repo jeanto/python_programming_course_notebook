{
 "cells": [
  {
   "cell_type": "markdown",
   "metadata": {},
   "source": [
    "# 23. Dictionary with lists as values\n",
    "\n",
    "\n",
    "[Aprenda Python com Jupyter](https://github.com/jeanto/python_programming_course_notebook) by [Jean Nunes](https://jeanto.github.io/jeannunes)   \n",
    "Code license: [GNU-GPL v3](https://www.gnu.org/licenses/gpl-3.0.en.html)\n",
    "\n",
    "---\n"
   ]
  },
  {
   "cell_type": "markdown",
   "metadata": {},
   "source": [
    "### Você deseja criar um catálogo com os livros dos principais autores brasileiros:"
   ]
  },
  {
   "cell_type": "code",
   "execution_count": 2,
   "metadata": {},
   "outputs": [],
   "source": [
    "autores = {}"
   ]
  },
  {
   "cell_type": "code",
   "execution_count": 3,
   "metadata": {},
   "outputs": [
    {
     "name": "stdout",
     "output_type": "stream",
     "text": [
      "{'assis': ['Dom Casmurro', 'Memórias Póstumas de Brás Cubas', 'Quincas Borba', 'Helena'], 'lispector': ['A Hora da Estrela', 'Laços de Família', 'Perto do Coração Selvagem', 'A Paixão Segundo G.H.']}\n"
     ]
    }
   ],
   "source": [
    "autores[\"assis\"]        = [\"Dom Casmurro\", \"Memórias Póstumas de Brás Cubas\", \"Quincas Borba\", \"Helena\"]\n",
    "autores[\"lispector\"]    = [\"A Hora da Estrela\", \"Laços de Família\", \"Perto do Coração Selvagem\", \"A Paixão Segundo G.H.\"]\n",
    "print(autores)"
   ]
  },
  {
   "cell_type": "markdown",
   "metadata": {},
   "source": [
    "### Você deseja adicionar mais dois livros de Machado de Assis:"
   ]
  },
  {
   "cell_type": "markdown",
   "metadata": {},
   "source": [
    "- usando [] e .append() (síntaxe 1)"
   ]
  },
  {
   "cell_type": "code",
   "execution_count": 4,
   "metadata": {},
   "outputs": [
    {
     "name": "stdout",
     "output_type": "stream",
     "text": [
      "{'assis': ['Dom Casmurro', 'Memórias Póstumas de Brás Cubas', 'Quincas Borba', 'Helena', 'Esaú e Jacó'], 'lispector': ['A Hora da Estrela', 'Laços de Família', 'Perto do Coração Selvagem', 'A Paixão Segundo G.H.']}\n"
     ]
    }
   ],
   "source": [
    "autores[\"assis\"].append(\"Esaú e Jacó\")\t# adiciona um novo elemento à lista de autores[\"assis\"]\n",
    "print(autores)"
   ]
  },
  {
   "cell_type": "markdown",
   "metadata": {},
   "source": [
    "- usando [] e concatenação de listas (sintaxe 2)"
   ]
  },
  {
   "cell_type": "code",
   "execution_count": 5,
   "metadata": {},
   "outputs": [
    {
     "name": "stdout",
     "output_type": "stream",
     "text": [
      "{'assis': ['Dom Casmurro', 'Memórias Póstumas de Brás Cubas', 'Quincas Borba', 'Helena', 'Esaú e Jacó', 'Iaiá Garcia'], 'lispector': ['A Hora da Estrela', 'Laços de Família', 'Perto do Coração Selvagem', 'A Paixão Segundo G.H.']}\n"
     ]
    }
   ],
   "source": [
    "autores[\"assis\"] += [\"Iaiá Garcia\"] # adiciona um novo elemento à lista de autores[\"assis\"]\n",
    "print(autores)"
   ]
  },
  {
   "cell_type": "markdown",
   "metadata": {},
   "source": [
    "- usando get e .append() (sintaxe 3)"
   ]
  },
  {
   "cell_type": "code",
   "execution_count": null,
   "metadata": {},
   "outputs": [
    {
     "name": "stdout",
     "output_type": "stream",
     "text": [
      "{'assis': ['Dom Casmurro', 'Memórias Póstumas de Brás Cubas', 'Quincas Borba', 'Helena', 'Esaú e Jacó', 'Iaiá Garcia', 'O Alienista'], 'lispector': ['A Hora da Estrela', 'Laços de Família', 'Perto do Coração Selvagem', 'A Paixão Segundo G.H.']}\n"
     ]
    }
   ],
   "source": [
    "autores.get(\"assis\").append(\"O Alienista\") # adiciona um novo elemento à lista de autores[\"assis\"]\n",
    "print(autores)"
   ]
  },
  {
   "cell_type": "markdown",
   "metadata": {},
   "source": [
    "- usando get e concatenação de listas (sintaxe 4)"
   ]
  },
  {
   "cell_type": "code",
   "execution_count": 7,
   "metadata": {},
   "outputs": [
    {
     "name": "stdout",
     "output_type": "stream",
     "text": [
      "{'assis': ['Dom Casmurro', 'Memórias Póstumas de Brás Cubas', 'Quincas Borba', 'Helena', 'Esaú e Jacó', 'Iaiá Garcia', 'O Alienista', 'Capitães da Areia'], 'lispector': ['A Hora da Estrela', 'Laços de Família', 'Perto do Coração Selvagem', 'A Paixão Segundo G.H.']}\n"
     ]
    }
   ],
   "source": [
    "autores[\"assis\"] = autores.get(\"assis\") + [\"Capitães da Areia\"] # adiciona um novo elemento à lista de autores[\"assis\"]\n",
    "print(autores)"
   ]
  },
  {
   "cell_type": "markdown",
   "metadata": {},
   "source": [
    "### Você quer verificar se o dicionário está correto, então você imprime todos os itens um por um:"
   ]
  },
  {
   "cell_type": "code",
   "execution_count": 8,
   "metadata": {},
   "outputs": [
    {
     "name": "stdout",
     "output_type": "stream",
     "text": [
      "assis: ['Dom Casmurro', 'Memórias Póstumas de Brás Cubas', 'Quincas Borba', 'Helena', 'Esaú e Jacó', 'Iaiá Garcia', 'O Alienista', 'Capitães da Areia']\n",
      "lispector: ['A Hora da Estrela', 'Laços de Família', 'Perto do Coração Selvagem', 'A Paixão Segundo G.H.']\n"
     ]
    }
   ],
   "source": [
    "for chave, valor in autores.items():\n",
    "    print(f\"{chave}: {valor}\")"
   ]
  },
  {
   "cell_type": "markdown",
   "metadata": {},
   "source": [
    "- Finalmente, você melhora a impressão para uma melhor legibilidade:"
   ]
  },
  {
   "cell_type": "code",
   "execution_count": 9,
   "metadata": {},
   "outputs": [
    {
     "name": "stdout",
     "output_type": "stream",
     "text": [
      "assis     : ['Dom Casmurro', 'Memórias Póstumas de Brás Cubas', 'Quincas Borba', 'Helena', 'Esaú e Jacó', 'Iaiá Garcia', 'O Alienista', 'Capitães da Areia']\n",
      "lispector : ['A Hora da Estrela', 'Laços de Família', 'Perto do Coração Selvagem', 'A Paixão Segundo G.H.']\n"
     ]
    }
   ],
   "source": [
    "for chave, valor in autores.items():\n",
    "    print(f\"{chave.ljust(10)}: {valor}\")"
   ]
  },
  {
   "cell_type": "code",
   "execution_count": 10,
   "metadata": {},
   "outputs": [
    {
     "name": "stdout",
     "output_type": "stream",
     "text": [
      "['Dom Casmurro', 'Memórias Póstumas de Brás Cubas', 'Quincas Borba', 'Helena', 'Esaú e Jacó', 'Iaiá Garcia', 'O Alienista', 'Capitães da Areia']\n",
      "['A Hora da Estrela', 'Laços de Família', 'Perto do Coração Selvagem', 'A Paixão Segundo G.H.']\n"
     ]
    }
   ],
   "source": [
    "for valor in autores.values():\n",
    "    print(valor)"
   ]
  },
  {
   "cell_type": "markdown",
   "metadata": {},
   "source": [
    "- Após verificar a lista de livros de Machado de Assis, você percebe que o livro \"Capitães de Areia\" não pertence ao autor. Então, você remove da lista e adiciona em outra:"
   ]
  },
  {
   "cell_type": "code",
   "execution_count": 11,
   "metadata": {},
   "outputs": [],
   "source": [
    "autores[\"assis\"].remove(\"Capitães da Areia\")"
   ]
  },
  {
   "cell_type": "code",
   "execution_count": 12,
   "metadata": {},
   "outputs": [
    {
     "data": {
      "text/plain": [
       "{'assis': ['Dom Casmurro',\n",
       "  'Memórias Póstumas de Brás Cubas',\n",
       "  'Quincas Borba',\n",
       "  'Helena',\n",
       "  'Esaú e Jacó',\n",
       "  'Iaiá Garcia',\n",
       "  'O Alienista'],\n",
       " 'lispector': ['A Hora da Estrela',\n",
       "  'Laços de Família',\n",
       "  'Perto do Coração Selvagem',\n",
       "  'A Paixão Segundo G.H.'],\n",
       " 'amado': ['Capitães da Areia']}"
      ]
     },
     "execution_count": 12,
     "metadata": {},
     "output_type": "execute_result"
    }
   ],
   "source": [
    "autores[\"amado\"] = [\"Capitães da Areia\"] # adiciona um novo autor à lista de autores\n",
    "autores"
   ]
  },
  {
   "cell_type": "code",
   "execution_count": 13,
   "metadata": {},
   "outputs": [
    {
     "name": "stdout",
     "output_type": "stream",
     "text": [
      "assis     : ['Dom Casmurro', 'Memórias Póstumas de Brás Cubas', 'Quincas Borba', 'Helena', 'Esaú e Jacó', 'Iaiá Garcia', 'O Alienista']\n",
      "lispector : ['A Hora da Estrela', 'Laços de Família', 'Perto do Coração Selvagem', 'A Paixão Segundo G.H.']\n",
      "amado     : ['Capitães da Areia']\n"
     ]
    }
   ],
   "source": [
    "for chave, valor in autores.items():\n",
    "    print(f\"{chave.ljust(10)}: {valor}\")"
   ]
  },
  {
   "cell_type": "markdown",
   "metadata": {},
   "source": [
    "### Ordene os itens do dicionário:"
   ]
  },
  {
   "cell_type": "markdown",
   "metadata": {},
   "source": [
    "- de acordo com as *chaves*"
   ]
  },
  {
   "cell_type": "code",
   "execution_count": 14,
   "metadata": {},
   "outputs": [
    {
     "name": "stdout",
     "output_type": "stream",
     "text": [
      "{'amado': ['Capitães da Areia'], 'assis': ['Dom Casmurro', 'Memórias Póstumas de Brás Cubas', 'Quincas Borba', 'Helena', 'Esaú e Jacó', 'Iaiá Garcia', 'O Alienista'], 'lispector': ['A Hora da Estrela', 'Laços de Família', 'Perto do Coração Selvagem', 'A Paixão Segundo G.H.']}\n"
     ]
    }
   ],
   "source": [
    "# criar um novo dicionário\n",
    "autores_ordenados = {}\n",
    "\n",
    "# ordenar as chaves\n",
    "chaves_ordenadas = list(autores.keys())\n",
    "chaves_ordenadas.sort()\n",
    "\n",
    "# preencher o novo dicionário\n",
    "for chave in chaves_ordenadas:\n",
    "    autores_ordenados[chave] = autores[chave]\n",
    "    \n",
    "print(autores_ordenados)"
   ]
  },
  {
   "cell_type": "markdown",
   "metadata": {},
   "source": [
    "- de acordo com os *valores*"
   ]
  },
  {
   "cell_type": "code",
   "execution_count": 15,
   "metadata": {},
   "outputs": [
    {
     "name": "stdout",
     "output_type": "stream",
     "text": [
      "{'lispector': ['A Hora da Estrela', 'Laços de Família', 'Perto do Coração Selvagem', 'A Paixão Segundo G.H.'], 'amado': ['Capitães da Areia'], 'assis': ['Dom Casmurro', 'Memórias Póstumas de Brás Cubas', 'Quincas Borba', 'Helena', 'Esaú e Jacó', 'Iaiá Garcia', 'O Alienista']}\n"
     ]
    }
   ],
   "source": [
    "# criar um novo dicionário\n",
    "autores_ordenados = {}\n",
    "\n",
    "# ordenar as chaves de acordo com os valores\n",
    "chaves_ordenadas = sorted(autores, key=lambda k: autores[k])\n",
    "\n",
    "# preencher o novo dicionário\n",
    "for k in chaves_ordenadas:\n",
    "    autores_ordenados[k] = autores[k]\n",
    "\n",
    "print(autores_ordenados)"
   ]
  },
  {
   "cell_type": "markdown",
   "metadata": {},
   "source": [
    "- internamente"
   ]
  },
  {
   "cell_type": "code",
   "execution_count": 16,
   "metadata": {},
   "outputs": [
    {
     "name": "stdout",
     "output_type": "stream",
     "text": [
      "{'assis': ['Dom Casmurro', 'Esaú e Jacó', 'Helena', 'Iaiá Garcia', 'Memórias Póstumas de Brás Cubas', 'O Alienista', 'Quincas Borba'], 'lispector': ['A Hora da Estrela', 'A Paixão Segundo G.H.', 'Laços de Família', 'Perto do Coração Selvagem'], 'amado': ['Capitães da Areia']}\n"
     ]
    }
   ],
   "source": [
    "for chave in autores:\n",
    "    autores[chave].sort()\n",
    "\n",
    "print(autores)"
   ]
  },
  {
   "cell_type": "markdown",
   "metadata": {},
   "source": [
    "---\n",
    "## Atividade Prática\n"
   ]
  },
  {
   "cell_type": "markdown",
   "metadata": {},
   "source": [
    "- Considerando os dados já utilizados até então, a saber: Órgãos, Tipos de órgãos, Capitais, Regiões e Centros de Distribuição, disponha esses dados utilizando dicionários."
   ]
  }
 ],
 "metadata": {
  "kernelspec": {
   "display_name": "py_course (3.12.3)",
   "language": "python",
   "name": "python3"
  },
  "language_info": {
   "codemirror_mode": {
    "name": "ipython",
    "version": 3
   },
   "file_extension": ".py",
   "mimetype": "text/x-python",
   "name": "python",
   "nbconvert_exporter": "python",
   "pygments_lexer": "ipython3",
   "version": "3.12.3"
  },
  "widgets": {
   "application/vnd.jupyter.widget-state+json": {
    "state": {},
    "version_major": 2,
    "version_minor": 0
   }
  }
 },
 "nbformat": 4,
 "nbformat_minor": 4
}
