{
 "cells": [
  {
   "cell_type": "markdown",
   "metadata": {},
   "source": [
    "# 17. The while loop\n",
    "\n",
    "[Aprenda Python com Jupyter](https://github.com/jeanto/python_programming_course_notebook) by [Jean Nunes](https://jeanto.github.io/jeannunes)   \n",
    "Code license: [GNU-GPL v3](https://www.gnu.org/licenses/gpl-3.0.en.html)\n",
    "\n",
    "---"
   ]
  },
  {
   "cell_type": "code",
   "execution_count": null,
   "metadata": {},
   "outputs": [],
   "source": [
    "# inicializa as variáveis \n",
    "numero_de_orgaos = 0 \n",
    "\n",
    "# imprima o número inicial de órgãos\n",
    "print(f\"Você tem {str(numero_de_orgaos)} órgãos adicionados.\")\n",
    "\n",
    "# pergunta se o usuário quer adicionar um novo órgão para possível doação\n",
    "novo_orgao = input(\"Deseja adicionar um novo orgão para doação (sim/não)?\")\n",
    "\n",
    "# contanto que a resposta seja sim: \n",
    "while novo_orgao == \"sim\":  \n",
    "    \n",
    "    # adicione um órgão\n",
    "    numero_de_orgaos += 1 \n",
    "    \n",
    "    # imprime o número atual de órgãos\n",
    "    print(f\"Você tem {numero_de_orgaos} órgãos adicionados.\")\n",
    "    \n",
    "    # pergunta novamente se o usuário quer adicionar um novo órgão para possível doação\n",
    "    novo_orgao = input(\"Deseja adicionar um novo orgão para doação (sim/não)?\")\n",
    "\n",
    "# imprime o número atual de órgãos\n",
    "print(f\"Você tem um total de {str(numero_de_orgaos)} órgãos adicionados.\")"
   ]
  }
 ],
 "metadata": {
  "kernelspec": {
   "display_name": "Python 3",
   "language": "python",
   "name": "python3"
  },
  "language_info": {
   "codemirror_mode": {
    "name": "ipython",
    "version": 3
   },
   "file_extension": ".py",
   "mimetype": "text/x-python",
   "name": "python",
   "nbconvert_exporter": "python",
   "pygments_lexer": "ipython3",
   "version": "3.13.1"
  },
  "widgets": {
   "application/vnd.jupyter.widget-state+json": {
    "state": {},
    "version_major": 2,
    "version_minor": 0
   }
  }
 },
 "nbformat": 4,
 "nbformat_minor": 4
}
