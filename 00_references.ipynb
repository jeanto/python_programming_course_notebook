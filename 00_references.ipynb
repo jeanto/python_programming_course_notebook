{
 "cells": [
  {
   "cell_type": "markdown",
   "metadata": {},
   "source": [
    "## Referências  \n",
    "\n",
    "- Introdução à Programação com Python: Algoritmos e Lógica de Programação Para Iniciantes - Um guia inicial para quem está começando na programação\n",
    "- Pense em Python - Um livro que aborda conceitos fundamentais de programação com Python: https://penseallen.github.io/PensePython2e/\n",
    "- Use a Cabeça! Python: https://grupoeditorialaltabooks.com.br/download/Material_Online_Use%20a%20Cabeca_Python.zip?_ga=2.18996344.1353528624.1739298910-826091632.1739298910\n",
    "- Notebooks Jupyter - Prof. Jean: https://github.com/jeanto/python_programming_course_notebook"
   ]
  }
 ],
 "metadata": {
  "language_info": {
   "name": "python"
  }
 },
 "nbformat": 4,
 "nbformat_minor": 2
}
