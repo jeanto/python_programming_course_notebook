{
 "cells": [
  {
   "cell_type": "markdown",
   "metadata": {},
   "source": [
    "# 8. For loop with if... == ... / else\n",
    "\n",
    "[Aprenda Python com Jupyter](https://github.com/jeanto/python_programming_course_notebook) by [Jean Nunes](https://jeanto.github.io/jeannunes)   \n",
    "Code license: [GNU-GPL v3](https://www.gnu.org/licenses/gpl-3.0.en.html)\n",
    "\n",
    "----"
   ]
  },
  {
   "cell_type": "markdown",
   "metadata": {},
   "source": [
    "- Retomamos a lista de órgãos considerando que você deseja fazer verificações dentro do \"for loop\":"
   ]
  },
  {
   "cell_type": "code",
   "execution_count": null,
   "metadata": {},
   "outputs": [],
   "source": [
    "lista_de_orgaos = [\"Coração\", \"Rins\",  \"Fígado\", \"Pâncreas\", \"Pulmões\", \"Intestino\", \n",
    "                   \"Córneas\", \"Pele\", \"Ossos\", \"Válvulas cardíacas\", \"Cartilagem\", \"Medula Óssea\", \n",
    "                   \"Tendões\", \"Vasos Sanguíneos\", \"Sangue de Cordão Umbilical\", \"Sangue Universal\"]\n",
    "print(lista_de_orgaos)"
   ]
  },
  {
   "cell_type": "markdown",
   "metadata": {},
   "source": [
    "- Depois você imprime os órgãos um por um:"
   ]
  },
  {
   "cell_type": "code",
   "execution_count": null,
   "metadata": {},
   "outputs": [],
   "source": [
    "# para cada posição na lista\n",
    "for i in range(len(lista_de_orgaos)):\n",
    "    print(\"-- Começo do loop --\")\n",
    "    # imprima cada elemento e sua posição\n",
    "    print(f\"[{str(i)}]: {lista_de_orgaos[i]}\")"
   ]
  },
  {
   "cell_type": "markdown",
   "metadata": {},
   "source": [
    "- Vamos imprimir um texto no começo do loop e outro no final (duas formas):"
   ]
  },
  {
   "cell_type": "code",
   "execution_count": null,
   "metadata": {},
   "outputs": [],
   "source": [
    "# para cada posição na lista\n",
    "for i in range(len(lista_de_orgaos)):\n",
    "    if i == 0:\n",
    "        print(\"-- Começo do loop --\")\n",
    "    # imprima cada elemento e sua posição\n",
    "    print(f\"[{str(i)}]: {lista_de_orgaos[i]}\")\n",
    "\n",
    "    if i == len(lista_de_orgaos) - 1:\n",
    "        print(\"-- Final do loop --\")"
   ]
  },
  {
   "cell_type": "code",
   "execution_count": null,
   "metadata": {},
   "outputs": [],
   "source": [
    "print(\"-- Começo do loop --\")\n",
    "# para cada posição na lista\n",
    "for i in range(len(lista_de_orgaos)):\n",
    "    # imprima cada elemento e sua posição\n",
    "    print(f\"[{str(i)}]: {lista_de_orgaos[i]}\")\n",
    "        \n",
    "print(\"-- Final do loop --\")"
   ]
  },
  {
   "cell_type": "markdown",
   "metadata": {},
   "source": [
    "- Você quer imprimir uma mensagem personalizada para um órgão específico:"
   ]
  },
  {
   "cell_type": "code",
   "execution_count": null,
   "metadata": {},
   "outputs": [],
   "source": [
    "orgao_especifico = \"Coração\""
   ]
  },
  {
   "cell_type": "markdown",
   "metadata": {},
   "source": [
    "- Um vez que você define o órgão específico, você cria a mensagem personalizada:\n"
   ]
  },
  {
   "cell_type": "code",
   "execution_count": null,
   "metadata": {},
   "outputs": [],
   "source": [
    "# para cada posição na lista\n",
    "for i in range(len(lista_de_orgaos)):\n",
    "    # se o órgão atual é o que você realmente quer\n",
    "    if lista_de_orgaos[i] == orgao_especifico:\n",
    "        # imprima a mensagem personalizada\n",
    "        print(f\"[{str(i)}]: {lista_de_orgaos[i]} (Tempo de isquemia: 04 horas)\")\n",
    "    else:\n",
    "        # imprima o texto comum\n",
    "        print(f\"[{str(i)}]: {lista_de_orgaos[i]}\")"
   ]
  },
  {
   "cell_type": "markdown",
   "metadata": {},
   "source": [
    "## Atividade Prática\n",
    "1. Considere a tabela abaixo com o tempo de esquemia dos seguintes órgãos:\n",
    "\n",
    "| Órgão             | Coração   | Pulmão        | Rim\t    | Fígado    | Pâncreas\t| Instestino    |\n",
    "|-------------------|-----------|---------------|-----------|-----------|-----------|---------------|\n",
    "| Tempo de isquemia | 04 horas\t| 04 a 06 horas\t| 48 horas\t| 12 horas  | 12 horas\t| 04 a 06 horas |\n",
    "\n",
    "Imprima uma mensagem personaliza para os órgãos que possuem tempos de esquemia conforme essa tabela."
   ]
  }
 ],
 "metadata": {
  "kernelspec": {
   "display_name": "py_course (3.12.3)",
   "language": "python",
   "name": "python3"
  },
  "language_info": {
   "codemirror_mode": {
    "name": "ipython",
    "version": 3
   },
   "file_extension": ".py",
   "mimetype": "text/x-python",
   "name": "python",
   "nbconvert_exporter": "python",
   "pygments_lexer": "ipython3",
   "version": "3.12.3"
  },
  "widgets": {
   "application/vnd.jupyter.widget-state+json": {
    "state": {},
    "version_major": 2,
    "version_minor": 0
   }
  }
 },
 "nbformat": 4,
 "nbformat_minor": 4
}
