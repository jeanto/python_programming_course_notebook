{
 "cells": [
  {
   "cell_type": "markdown",
   "metadata": {
    "tags": []
   },
   "source": [
    "# 20. Booleanos\n",
    "\n",
    "[Aprenda Python com Jupyter](https://github.com/jeanto/python_programming_course_notebook) by [Jean Nunes](https://jeanto.github.io/jeannunes)   \n",
    "Code license: [GNU-GPL v3](https://www.gnu.org/licenses/gpl-3.0.en.html)\n",
    "\n",
    "---"
   ]
  },
  {
   "cell_type": "markdown",
   "metadata": {},
   "source": [
    "### 1. Comparação ou condição única"
   ]
  },
  {
   "cell_type": "markdown",
   "metadata": {},
   "source": [
    "- Dada a seguinte atribuição:  "
   ]
  },
  {
   "cell_type": "code",
   "execution_count": null,
   "metadata": {},
   "outputs": [],
   "source": [
    "numero = 5"
   ]
  },
  {
   "cell_type": "markdown",
   "metadata": {},
   "source": [
    "- Qual é o resultado da seguinte operação de comparação?"
   ]
  },
  {
   "cell_type": "code",
   "execution_count": null,
   "metadata": {},
   "outputs": [],
   "source": [
    "print(numero > 3)"
   ]
  },
  {
   "cell_type": "markdown",
   "metadata": {},
   "source": [
    "- Atribua a operação acima a uma variável e imprima-a. Qual é o tipo dela?"
   ]
  },
  {
   "cell_type": "code",
   "execution_count": null,
   "metadata": {},
   "outputs": [],
   "source": [
    "resultado = numero > 3\n",
    "print(resultado)\n",
    "type(resultado)"
   ]
  },
  {
   "cell_type": "markdown",
   "metadata": {},
   "source": [
    "- Qual é o resultado da seguinte operação de comparação?"
   ]
  },
  {
   "cell_type": "code",
   "execution_count": null,
   "metadata": {},
   "outputs": [],
   "source": [
    "print(numero < 3)"
   ]
  },
  {
   "cell_type": "markdown",
   "metadata": {},
   "source": [
    "- Atribua a operação acima a uma variável e imprima-a. Qual é o tipo dela?"
   ]
  },
  {
   "cell_type": "code",
   "execution_count": null,
   "metadata": {},
   "outputs": [],
   "source": [
    "resultado = numero < 3\n",
    "print(resultado)\n",
    "type(resultado)"
   ]
  },
  {
   "cell_type": "markdown",
   "metadata": {
    "tags": []
   },
   "source": [
    "### 2. Combinando comparações ou condições"
   ]
  },
  {
   "cell_type": "markdown",
   "metadata": {},
   "source": [
    "- Qual é o resultado das seguintes operações de comparação? "
   ]
  },
  {
   "cell_type": "code",
   "execution_count": 1,
   "metadata": {},
   "outputs": [
    {
     "name": "stdout",
     "output_type": "stream",
     "text": [
      "True\n",
      "True\n",
      "True\n"
     ]
    }
   ],
   "source": [
    "numero = 3\n",
    "print(numero > 1)           \n",
    "print(numero < 5)           \n",
    "print(numero > 1 and numero < 5) "
   ]
  },
  {
   "cell_type": "markdown",
   "metadata": {},
   "source": [
    "- O que acontece se mudarmos a primeira condição para ser falsa?"
   ]
  },
  {
   "cell_type": "code",
   "execution_count": 2,
   "metadata": {},
   "outputs": [
    {
     "name": "stdout",
     "output_type": "stream",
     "text": [
      "False\n",
      "True\n",
      "False\n"
     ]
    }
   ],
   "source": [
    "numero = 3\n",
    "print(numero > 4)           \n",
    "print(numero < 5)           \n",
    "print(numero > 4 and numero < 5) "
   ]
  },
  {
   "cell_type": "markdown",
   "metadata": {},
   "source": [
    "- O que acontece se mudarmos a segunda condição para ser falsa?"
   ]
  },
  {
   "cell_type": "code",
   "execution_count": 3,
   "metadata": {},
   "outputs": [
    {
     "name": "stdout",
     "output_type": "stream",
     "text": [
      "True\n",
      "False\n",
      "False\n"
     ]
    }
   ],
   "source": [
    "numero = 3\n",
    "print(numero > 1)           \n",
    "print(numero < 2)           \n",
    "print(numero > 1 and numero < 2) "
   ]
  },
  {
   "cell_type": "markdown",
   "metadata": {},
   "source": [
    "- Finalmente, o que acontece se mudarmos ambas as condições para serem falsas?"
   ]
  },
  {
   "cell_type": "code",
   "execution_count": 4,
   "metadata": {},
   "outputs": [
    {
     "name": "stdout",
     "output_type": "stream",
     "text": [
      "False\n",
      "False\n",
      "False\n"
     ]
    }
   ],
   "source": [
    "numero = 3\n",
    "print(numero > 4)           \n",
    "print(numero < 2)           \n",
    "print(numero > 4 and numero < 2) "
   ]
  },
  {
   "cell_type": "markdown",
   "metadata": {},
   "source": [
    "--- \n",
    "\n",
    "### 3. Onde mais usamos booleanos? \n",
    "  "
   ]
  },
  {
   "cell_type": "markdown",
   "metadata": {},
   "source": [
    "- Veja esta versão modificada do exemplo *Adicionar novo órgão para doação* do Notebook 17:"
   ]
  },
  {
   "cell_type": "code",
   "execution_count": null,
   "metadata": {},
   "outputs": [],
   "source": [
    "# inicializa as variáveis \n",
    "numero_de_orgaos = 0 \n",
    "\n",
    "# usa o booleano como uma flag\n",
    "flag = True\n",
    "\n",
    "# imprima o número inicial de órgãos\n",
    "print(f\"Você tem {numero_de_orgaos} órgãos adicionados.\")\n",
    "\n",
    "# enquanto a flat for True (= um sinal verde): \n",
    "while flag:  \n",
    "    \n",
    "    # pergunta se o usuário quer adicionar um novo órgão para possível doação\n",
    "    novo_orgao = input(\"Deseja adicionar um novo orgão para doação (sim/não)?\")\n",
    "    \n",
    "    # se a resposta for sim\n",
    "    if novo_orgao == \"sim\":\n",
    "        \n",
    "        # adiciona um orgão ao número total de órgãos\n",
    "        numero_de_orgaos += 1 \n",
    "    \n",
    "        # imprime o número atual de órgãos\n",
    "        print(f\"Você tem {numero_de_orgaos} órgãos adicionados.\")\n",
    "    \n",
    "    # se a resposta for não\n",
    "    else:\n",
    "    \n",
    "        # imprime o número final de órgãos\n",
    "        print(f\"Você tem um total de {numero_de_orgaos} órgãos adicionados.\")\n",
    "        \n",
    "        # para o loop atribuindo False à flag (= um sinal vermelho)\n",
    "        flag = False"
   ]
  },
  {
   "cell_type": "markdown",
   "metadata": {},
   "source": [
    "- Aqui está o código do Capítulo 17 para comparação:"
   ]
  },
  {
   "cell_type": "code",
   "execution_count": null,
   "metadata": {},
   "outputs": [],
   "source": [
    "# inicializa as variáveis \n",
    "numero_de_orgaos = 0 \n",
    "\n",
    "# imprima o número inicial de órgãos\n",
    "print(f\"Você tem {str(numero_de_orgaos)} órgãos adicionados.\")\n",
    "\n",
    "# pergunta se o usuário quer adicionar um novo órgão para possível doação\n",
    "novo_orgao = input(\"Deseja adicionar um novo orgão para doação (sim/não)?\")\n",
    "\n",
    "# contanto que a resposta seja sim: \n",
    "while novo_orgao == \"sim\":  \n",
    "    \n",
    "    # adicione um órgão\n",
    "    numero_de_orgaos += 1 \n",
    "    \n",
    "    # imprime o número atual de órgãos\n",
    "    print(f\"Você tem {str(numero_de_orgaos)} órgãos adicionados.\")\n",
    "    \n",
    "    # pergunta novamente se o usuário quer adicionar um novo órgão para possível doação\n",
    "    novo_orgao = input(\"Deseja adicionar um novo orgão para doação (sim/não)?\")\n",
    "\n",
    "# imprime o número atual de órgãos\n",
    "print(f\"Você tem um total de {str(numero_de_orgaos)} órgãos adicionados.\")"
   ]
  }
 ],
 "metadata": {
  "kernelspec": {
   "display_name": "py_course (3.12.3)",
   "language": "python",
   "name": "python3"
  },
  "language_info": {
   "codemirror_mode": {
    "name": "ipython",
    "version": 3
   },
   "file_extension": ".py",
   "mimetype": "text/x-python",
   "name": "python",
   "nbconvert_exporter": "python",
   "pygments_lexer": "ipython3",
   "version": "3.12.3"
  },
  "widgets": {
   "application/vnd.jupyter.widget-state+json": {
    "state": {},
    "version_major": 2,
    "version_minor": 0
   }
  }
 },
 "nbformat": 4,
 "nbformat_minor": 4
}
