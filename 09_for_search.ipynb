{
 "cells": [
  {
   "cell_type": "markdown",
   "metadata": {},
   "source": [
    "# 9.  For loop for searching\n",
    "\n",
    "[Aprenda Python com Jupyter](https://github.com/jeanto/python_programming_course_notebook) by [Jean Nunes](https://jeanto.github.io/jeannunes)   \n",
    "Code license: [GNU-GPL v3](https://www.gnu.org/licenses/gpl-3.0.en.html)\n",
    "\n",
    "---"
   ]
  },
  {
   "cell_type": "markdown",
   "metadata": {},
   "source": [
    "- Retomamos a lista de órgãos considerando que você deseja fazer outras verificações dentro do \"for loop\":"
   ]
  },
  {
   "cell_type": "code",
   "execution_count": null,
   "metadata": {},
   "outputs": [],
   "source": [
    "lista_de_orgaos = [\"Coração\", \"Rins\",  \"Fígado\", \"Pâncreas\", \"Pulmões\", \"Intestino\", \n",
    "                   \"Córneas\", \"Pele\", \"Ossos\", \"Válvulas cardíacas\", \"Cartilagem\", \"Medula Óssea\", \n",
    "                   \"Tendões\", \"Vasos Sanguíneos\", \"Sangue de Cordão Umbilical\", \"Sangue Universal\"]\n",
    "print(lista_de_orgaos)"
   ]
  },
  {
   "cell_type": "markdown",
   "metadata": {},
   "source": [
    "- Depois você imprime os órgãos um por um:"
   ]
  },
  {
   "cell_type": "code",
   "execution_count": null,
   "metadata": {},
   "outputs": [],
   "source": [
    "# para cada posição na lista\n",
    "for i, orgao in enumerate(lista_de_orgaos):\n",
    "    # imprima cada elemento e sua posição\n",
    "    print(f\"[{i}]: {orgao}\")"
   ]
  },
  {
   "cell_type": "markdown",
   "metadata": {},
   "source": [
    "### 1. Imprima os órgãos cujos nomes são **composto por** X caracteres e sua posição na lista:"
   ]
  },
  {
   "cell_type": "code",
   "execution_count": null,
   "metadata": {},
   "outputs": [],
   "source": [
    "# para cada posição na lista\n",
    "for i in range(len(lista_de_orgaos)):\n",
    "    # se o número de caracteres do elemento é igual a X caracteres\n",
    "    if len(lista_de_orgaos[i]) == 5:\n",
    "        # imprima o elemento, sua posição e seu número de caracteres\n",
    "        print(f\"[{i}]: {lista_de_orgaos[i]} [ {len(lista_de_orgaos[i])} caracteres] \")"
   ]
  },
  {
   "cell_type": "markdown",
   "metadata": {},
   "source": [
    "### 2. Imprima os órgãos cujos nomes são compostos por **menos de** X caracteres:"
   ]
  },
  {
   "cell_type": "code",
   "execution_count": null,
   "metadata": {},
   "outputs": [],
   "source": [
    "# para cada posição na lista\n",
    "for i in range(len(lista_de_orgaos)):\n",
    "    # se o número de caracteres do elemento é composto por menos de X caracteres\n",
    "    if len(lista_de_orgaos[i]) < 5:\n",
    "        # imprima o elemento, sua posição e seu número de caracteres\n",
    "        print(f\"[{i}]: {lista_de_orgaos[i]} [ {len(lista_de_orgaos[i])} caracteres ][ número de caracteres < 5 ]\")"
   ]
  },
  {
   "cell_type": "markdown",
   "metadata": {},
   "source": [
    "### 3. Imprima os órgãos cujos nomes são compostos por **mais de** X caracteres:"
   ]
  },
  {
   "cell_type": "code",
   "execution_count": null,
   "metadata": {},
   "outputs": [],
   "source": [
    "# definindo o limite\n",
    "n_de_caracteres = 5\n",
    "# para cada posição na lista\n",
    "for i in range(len(lista_de_orgaos)):\n",
    "    # se o número de caracteres do elemento é composto por mais de X caracteres\n",
    "    if len(lista_de_orgaos[i]) > n_de_caracteres:\n",
    "        # imprima o elemento, sua posição e seu número de caracteres\n",
    "        print(f\"[{i}]: {lista_de_orgaos[i]} [ {len(lista_de_orgaos[i])} caracteres ] [ número de caracteres > {n_de_caracteres} ]\")"
   ]
  },
  {
   "cell_type": "markdown",
   "metadata": {},
   "source": [
    "### 4. Imprima os órgãos cujos nomes são compostos por um número de caracteres **diferente de** X:"
   ]
  },
  {
   "cell_type": "code",
   "execution_count": null,
   "metadata": {
    "tags": []
   },
   "outputs": [],
   "source": [
    "# definindo o limite\n",
    "n_de_caracteres = 7\n",
    "# para cada posição na lista\n",
    "for i in range(len(lista_de_orgaos)):\n",
    "    # se o número de caracteres do elemento é composto por mais de X caracteres\n",
    "    if len(lista_de_orgaos[i]) != n_de_caracteres:\n",
    "        # imprima o elemento, sua posição e seu número de caracteres\n",
    "        print(f\"[{i}]: {lista_de_orgaos[i]} [ {len(lista_de_orgaos[i])} caracteres ] [ número de caracteres != {n_de_caracteres} ]\")"
   ]
  },
  {
   "cell_type": "markdown",
   "metadata": {},
   "source": [
    "### 5. Imprima os órgãos cuja posição é **menor ou igual a** X:"
   ]
  },
  {
   "cell_type": "code",
   "execution_count": null,
   "metadata": {
    "tags": []
   },
   "outputs": [],
   "source": [
    "# definindo o limite\n",
    "posicao = 7\n",
    "# para cada posição na lista\n",
    "for i in range(len(lista_de_orgaos)):\n",
    "    # # se a posição do elemento for menor ou igual ao limite\n",
    "    if i <= posicao:\n",
    "        # imprima o elemento, sua posição e seu número de caracteres\n",
    "        print(f\"[{i}]: {lista_de_orgaos[i].ljust(10)} [ posição {str(i)} ] [ posição <= {posicao} ]\")        "
   ]
  },
  {
   "cell_type": "markdown",
   "metadata": {},
   "source": [
    "### 6. Imprima os órgãos cuja posição é **pelo menos** X:"
   ]
  },
  {
   "cell_type": "code",
   "execution_count": null,
   "metadata": {
    "tags": []
   },
   "outputs": [],
   "source": [
    "# definindo o limite\n",
    "posicao = 7\n",
    "# para cada posição na lista\n",
    "for i in range(len(lista_de_orgaos)):\n",
    "    # # se a posição do elemento for menor ou igual ao limite\n",
    "    if i >= posicao:\n",
    "        # imprima o elemento, sua posição e seu número de caracteres\n",
    "        print(f\"[{i}]: {lista_de_orgaos[i].ljust(30)} [ posição {str(i)} ] [ posição >= {posicao} ]\")  "
   ]
  },
  {
   "cell_type": "markdown",
   "metadata": {},
   "source": [
    "## Atividade Prática\n",
    "1. Você quer imprimir uma mensagem personalizada para os órgãos com tempo de isquemia igual a 4 horas:\n",
    "\n",
    "| Órgão             | Coração   | Pulmão        | Rim\t    | Fígado    | Pâncreas\t| Instestino    |\n",
    "|-------------------|-----------|---------------|-----------|-----------|-----------|---------------|\n",
    "| Tempo de isquemia | 04 horas\t| 04 a 06 horas\t| 48 horas\t| 12 horas  | 12 horas\t| 04 a 06 horas |"
   ]
  },
  {
   "cell_type": "markdown",
   "metadata": {},
   "source": [
    "2. Você quer imprimir uma mensagem personalizada para os órgãos com tempo de isquemia menor que 12 horas:\n",
    "\n",
    "| Órgão             | Coração   | Pulmão        | Rim\t    | Fígado    | Pâncreas\t| Instestino    |\n",
    "|-------------------|-----------|---------------|-----------|-----------|-----------|---------------|\n",
    "| Tempo de isquemia | 04 horas\t| 04 a 06 horas\t| 48 horas\t| 12 horas  | 12 horas\t| 04 a 06 horas |"
   ]
  }
 ],
 "metadata": {
  "kernelspec": {
   "display_name": "py_course (3.12.3)",
   "language": "python",
   "name": "python3"
  },
  "language_info": {
   "codemirror_mode": {
    "name": "ipython",
    "version": 3
   },
   "file_extension": ".py",
   "mimetype": "text/x-python",
   "name": "python",
   "nbconvert_exporter": "python",
   "pygments_lexer": "ipython3",
   "version": "3.12.3"
  },
  "widgets": {
   "application/vnd.jupyter.widget-state+json": {
    "state": {},
    "version_major": 2,
    "version_minor": 0
   }
  }
 },
 "nbformat": 4,
 "nbformat_minor": 4
}
