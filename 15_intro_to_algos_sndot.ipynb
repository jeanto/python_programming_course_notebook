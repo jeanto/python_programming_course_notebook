{
 "cells": [
  {
   "cell_type": "markdown",
   "metadata": {},
   "source": [
    "# 15. Introduction to algorithms: SNDOT\n",
    "\n",
    "[Aprenda Python com Jupyter](https://github.com/jeanto/python_programming_course_notebook) by [Jean Nunes](https://jeanto.github.io/jeannunes)   \n",
    "Code license: [GNU-GPL v3](https://www.gnu.org/licenses/gpl-3.0.en.html)\n",
    "\n",
    "---"
   ]
  },
  {
   "cell_type": "markdown",
   "metadata": {},
   "source": [
    "### Menu"
   ]
  },
  {
   "cell_type": "code",
   "execution_count": null,
   "metadata": {},
   "outputs": [],
   "source": [
    "print(\"🆂🅽🅳🅾🆃: 𝕾𝖎𝖘𝖙𝖊𝖒𝖆 𝕹𝖆𝖈𝖎𝖔𝖓𝖆𝖑 𝖉𝖊 𝕯𝖔𝖆𝖈̧𝖆̃𝖔 𝖉𝖊 𝕺́𝖗𝖌𝖆̃𝖔𝖘 𝖊 𝕿𝖊𝖈𝖎𝖉𝖔𝖘\")\n",
    "print('''O SNDOT deve permitir: \n",
    "    1.  Cadastrar doador\n",
    "    2.  Adicionar doações \n",
    "    3.  Processar doação (encaminhar para transplante) \n",
    "    4.  Exibir estoque atual dos Centros de Distribuição\n",
    "    5.  Exibir histórico de doações\n",
    "    6.  Finalizar aplicação''')"
   ]
  },
  {
   "cell_type": "markdown",
   "metadata": {},
   "source": [
    "### Verifica a opção"
   ]
  },
  {
   "cell_type": "markdown",
   "metadata": {},
   "source": [
    "- Se opção for \"Cadastrar doador\":"
   ]
  },
  {
   "cell_type": "code",
   "execution_count": null,
   "metadata": {},
   "outputs": [],
   "source": [
    "import os\n",
    "import time\n",
    "import random\n",
    "\n",
    "# Nome, Idade, Sexo, Data de Nascimento, Local de Nascimento, CPF, Profissão, Cidade, Estado, Estado Civil\n",
    "lista_de_potenciais_doadores = []\n",
    "lista_de_doacoes = []\n",
    "\n",
    "lista_de_orgaos = [\"Coração\", \"Rins\",  \"Fígado\", \"Pâncreas\", \"Pulmões\", \"Intestino\", \n",
    "                   \"Córneas\", \"Pele\", \"Ossos\", \"Válvulas cardíacas\", \"Cartilagem\", \"Medula Óssea\", \n",
    "                   \"Tendões\", \"Vasos Sanguíneos\", \"Sangue de Cordão Umbilical\", \"Sangue Universal\"]\n",
    "\n",
    "lista_de_tipos_de_orgao = [\"Órgão\", \"Órgão\", \"Órgão\", \"Órgão\", \"Órgão\", \"Órgão\",\n",
    "                           \"Tecido\", \"Tecido\", \"Tecido\", \"Tecido\", \"Tecido\", \"Tecido\",\n",
    "                           \"Tecido\", \"Tecido\", \"Sangue\", \"Sangue\"]\n",
    "\n",
    "centros_de_distribuicao = [\"Fortaleza\", \"Salvador\", \"Rio de Janeiro\", \"São Paulo\", \"Brasilia\"]"
   ]
  },
  {
   "cell_type": "code",
   "execution_count": null,
   "metadata": {},
   "outputs": [],
   "source": [
    "opcao = 1\n",
    "if opcao == 1: \n",
    "    titulo = \"Cadastrar potencial doador\"\n",
    "    linha = '*' * (len(titulo))\n",
    "    print(f\"{linha}\\n{titulo}\\n{linha}\\n\")\n",
    "\n",
    "    nome =  input('Digite o nome do potencial doador: ')\n",
    "    idade = input(f'Digite a idade do potencial doador {nome}: ')\n",
    "    sexo = input(f'Digite o sexo do potencial doador {nome} (M ou F): ')\n",
    "    data_de_nascimento = input(f'Digite a data de nascimento do potencial doador {nome}: ')\n",
    "    cidade_de_nascimento = input(f'Digite a cidade de nascimento do potencial doador {nome}: ')\n",
    "    estado_de_nascimento = input(f'Digite o estado de nascimento do potencial doador {nome}: ')\n",
    "    cpf = input(f'Digite o CPF do potencial doador {nome}: ')\n",
    "    profissao = input(f'Digite a profissão do potencial doador {nome}: ')\n",
    "    cidade_de_residencia = input(f'Digite a cidade de residência do potencial doador {nome}: ')\n",
    "    estado_de_residencia = input(f'Digite o estado de residência do potencial doador {nome}: ')\n",
    "    estado_civil = input(f'Digite o estado civil do potencial doador {nome}: ')\n",
    "\n",
    "    lista_de_potenciais_doadores.append([nome, idade, sexo, data_de_nascimento, cidade_de_nascimento, estado_de_nascimento, cpf, profissao, cidade_de_residencia, estado_de_nascimento, estado_civil])\n",
    "\n",
    "    os.system('cls' if os.name == 'nt' else 'clear')\n",
    "    print(f'O potencial doador {nome}, CPF {cpf}, residente em {cidade_de_residencia}-{estado_de_residencia} foi cadastrado com sucesso!')\n",
    "    print(f'Lista de pontenciais doadores: {lista_de_potenciais_doadores}')"
   ]
  },
  {
   "cell_type": "markdown",
   "metadata": {},
   "source": [
    "- Se opção for \"Adicionar doações\""
   ]
  },
  {
   "cell_type": "code",
   "execution_count": null,
   "metadata": {},
   "outputs": [],
   "source": [
    "opcao = 2\n",
    "if opcao == 2: \n",
    "    titulo = \"Adicionar doações\"\n",
    "    linha = '*' * (len(titulo))\n",
    "    print(f\"{linha}\\n{titulo}\\n{linha}\\n\")\n",
    "\n",
    "    cpf =  input('Informe o CPF do potencial doador: ')\n",
    "\n",
    "    # Extrai a coluna CPF da lista\n",
    "    lista_de_potenciais_doadores_por_cpf = [doador[6] for doador in lista_de_potenciais_doadores]\n",
    "    print(lista_de_potenciais_doadores_por_cpf)\n",
    "\n",
    "    if (cpf in lista_de_potenciais_doadores_por_cpf):\n",
    "        print(f'O CPF {cpf} foi encontrado na lista de potenciais doadores!')\n",
    "        print('Agora, vamos adicionar os órgãos que serão doados.')\n",
    "        print('Os órgãos disponíveis para doação são:')\n",
    "        for i, (orgao, tipo_de_orgao) in enumerate(zip(lista_de_orgaos, lista_de_tipos_de_orgao)):\n",
    "            print(f\"[{i}]: {orgao} do tipo {tipo_de_orgao}\")\n",
    "        orgao = input('Digite o órgão que será doado: ')\n",
    "        if (orgao in lista_de_orgaos):\n",
    "            lista_de_doacoes.append([cpf, orgao])\n",
    "            os.system('cls' if os.name == 'nt' else 'clear')\n",
    "            print(f'O órgão {orgao} foi adicionado com sucesso como doação feita pelo doador {cpf}!')\n",
    "            print(f'Lista de doações: {lista_de_doacoes}')\n",
    "            print('Vamos encaminhar a doação para um centro de distribuição!')\n",
    "\n",
    "            # Encaminha a doação para um centro de distribuição\n",
    "            # escolha um índice de CD\n",
    "            CD_index = random.randint(0, len(centros_de_distribuicao) - 1)\n",
    "            print(f'A doação será encaminhada para o centro de distribuição {centros_de_distribuicao[CD_index]}!')\n",
    "        else:\n",
    "            print(f'O órgão {orgao} não está disponível para doação!')\n",
    "    else:\n",
    "        print(f'O CPF {cpf} não foi encontrado na lista de potenciais doadores!')\n",
    "        print(f'Escolha a Opção 1 caso queira cadastrar o potencial doador com CPF {cpf}.')\n"
   ]
  },
  {
   "cell_type": "markdown",
   "metadata": {},
   "source": [
    "- Se opção for \"Processar doação (encaminhar para transplante)\""
   ]
  },
  {
   "cell_type": "code",
   "execution_count": null,
   "metadata": {},
   "outputs": [],
   "source": [
    "if opcao == 3: \n",
    "    titulo = \"Processar doação (encaminhar para transplante)\"\n",
    "    linha = '*' * (len(titulo))\n",
    "    print(f\"{linha}\\n{titulo}\\n{linha}\\n\")\n",
    "\n",
    "    orgao_desejado = input('Digite o órgão que deseja transplantar: ')\n",
    "    print(f'Buscando o órgão {orgao_desejado} nos centros de distribuição...')\n",
    "    time.sleep(2)\n",
    "    CD_index = random.randint(0, len(centros_de_distribuicao) - 1)\n",
    "    print(f'O órgão {orgao_desejado} foi encontrado no centro de distribuição {centros_de_distribuicao[CD_index]}!')\n",
    "    cidade_origem_orgao_desejado = input(f'Digite a cidade de origem do órgão desejado {orgao_desejado}: ')\n",
    "    estado_origem_orgao_desejado = input(f'Digite o estado de origem do órgão desejado {orgao_desejado}: ')\n",
    "    print(f'O órgão {orgao_desejado} será transplantado do centro de destribuição de {CD_index} para a cidade de {cidade_origem_orgao_desejado}-{estado_origem_orgao_desejado}!')"
   ]
  },
  {
   "cell_type": "markdown",
   "metadata": {},
   "source": [
    "- Se opção for \"Exibir estoque atual dos Centros de Distribuição\""
   ]
  },
  {
   "cell_type": "code",
   "execution_count": null,
   "metadata": {},
   "outputs": [],
   "source": [
    "if opcao == 4: \n",
    "    print(\"Exibir estoque atual dos Centros de Distribuição\")"
   ]
  },
  {
   "cell_type": "markdown",
   "metadata": {},
   "source": [
    "- Se opção for \"Exibir histórico de doações\""
   ]
  },
  {
   "cell_type": "code",
   "execution_count": null,
   "metadata": {},
   "outputs": [],
   "source": [
    "if opcao == 5: \n",
    "    print(\"Exibir histórico de doações\")"
   ]
  },
  {
   "cell_type": "markdown",
   "metadata": {},
   "source": [
    "- Se opção for \"Finalizar aplicação\""
   ]
  },
  {
   "cell_type": "code",
   "execution_count": null,
   "metadata": {},
   "outputs": [],
   "source": [
    "if opcao == 6: \n",
    "    print(\"Finalizar aplicação\")"
   ]
  },
  {
   "cell_type": "markdown",
   "metadata": {},
   "source": [
    "### Mesclando o código\n",
    "- Vamos mesclar o código:"
   ]
  },
  {
   "cell_type": "code",
   "execution_count": null,
   "metadata": {},
   "outputs": [],
   "source": [
    "import random\n",
    "import os\n",
    "import time\n",
    "\n",
    "# Nome, Idade, Sexo, Data de Nascimento, Local de Nascimento, CPF, Profissão, Cidade, Estado, Estado Civil\n",
    "lista_de_potenciais_doadores = []\n",
    "lista_de_doacoes = []\n",
    "\n",
    "lista_de_orgaos = [\"Coração\", \"Rins\",  \"Fígado\", \"Pâncreas\", \"Pulmões\", \"Intestino\", \n",
    "                   \"Córneas\", \"Pele\", \"Ossos\", \"Válvulas cardíacas\", \"Cartilagem\", \"Medula Óssea\", \n",
    "                   \"Tendões\", \"Vasos Sanguíneos\", \"Sangue de Cordão Umbilical\", \"Sangue Universal\"]\n",
    "\n",
    "lista_de_tipos_de_orgao = [\"Órgão\", \"Órgão\", \"Órgão\", \"Órgão\", \"Órgão\", \"Órgão\",\n",
    "                           \"Tecido\", \"Tecido\", \"Tecido\", \"Tecido\", \"Tecido\", \"Tecido\",\n",
    "                           \"Tecido\", \"Tecido\", \"Sangue\", \"Sangue\"]\n",
    "\n",
    "centros_de_distribuicao = [\"Fortaleza\", \"Salvador\", \"Rio de Janeiro\", \"São Paulo\", \"Brasilia\"]\n",
    "\n",
    "# munu principal\n",
    "print(\"🆂🅽🅳🅾🆃: 𝕾𝖎𝖘𝖙𝖊𝖒𝖆 𝕹𝖆𝖈𝖎𝖔𝖓𝖆𝖑 𝖉𝖊 𝕯𝖔𝖆𝖈̧𝖆̃𝖔 𝖉𝖊 𝕺́𝖗𝖌𝖆̃𝖔𝖘 𝖊 𝕿𝖊𝖈𝖎𝖉𝖔𝖘\")\n",
    "print('''O SNDOT deve permitir: \n",
    "    1.  Cadastrar doador\n",
    "    2.  Adicionar doações \n",
    "    3.  Processar doação (encaminhar para transplante) \n",
    "    4.  Exibir estoque atual dos Centros de Distribuição\n",
    "    5.  Exibir histórico de doações\n",
    "    6.  Finalizar aplicação''')\n",
    "\n",
    "# escolha aleatória do computador\n",
    "# lista de opções\n",
    "'''\n",
    "opcoes = [1,2,3,4,5,6]\n",
    "\n",
    "opcao = random.choice(opcoes)\n",
    "print(opcao)\n",
    "'''\n",
    "\n",
    "# usuário escolhe uma opção\n",
    "opcao = input(\"Escolha uma opção: \")\n",
    "print(opcao)\n",
    "\n",
    "if opcao == 1: \n",
    "    titulo = \"Cadastrar potencial doador\"\n",
    "    linha = '*' * (len(titulo))\n",
    "    print(f\"{linha}\\n{titulo}\\n{linha}\\n\")\n",
    "\n",
    "    nome =  input('Digite o nome do potencial doador: ')\n",
    "    idade = input(f'Digite a idade do potencial doador {nome}: ')\n",
    "    sexo = input(f'Digite o sexo do potencial doador {nome} (M ou F): ')\n",
    "    data_de_nascimento = input(f'Digite a data de nascimento do potencial doador {nome}: ')\n",
    "    cidade_de_nascimento = input(f'Digite a cidade de nascimento do potencial doador {nome}: ')\n",
    "    estado_de_nascimento = input(f'Digite o estado de nascimento do potencial doador {nome}: ')\n",
    "    cpf = input(f'Digite o CPF do potencial doador {nome}: ')\n",
    "    profissao = input(f'Digite a profissão do potencial doador {nome}: ')\n",
    "    cidade_de_residencia = input(f'Digite a cidade de residência do potencial doador {nome}: ')\n",
    "    estado_de_residencia = input(f'Digite o estado de residência do potencial doador {nome}: ')\n",
    "    estado_civil = input(f'Digite o estado civil do potencial doador {nome}: ')\n",
    "\n",
    "    lista_de_potenciais_doadores.append([nome, idade, sexo, data_de_nascimento, cidade_de_nascimento, estado_de_nascimento, cpf, profissao, cidade_de_residencia, estado_de_nascimento, estado_civil])\n",
    "\n",
    "    os.system('cls' if os.name == 'nt' else 'clear')\n",
    "    print(f'O potencial doador {nome}, CPF {cpf}, residente em {cidade_de_residencia}-{estado_de_residencia} foi cadastrado com sucesso!')\n",
    "    print(lista_de_potenciais_doadores)\n",
    "\n",
    "elif opcao == 2: \n",
    "    titulo = \"Adicionar doações\"\n",
    "    linha = '*' * (len(titulo))\n",
    "    print(f\"{linha}\\n{titulo}\\n{linha}\\n\")\n",
    "\n",
    "    cpf =  input('Informe o CPF do potencial doador: ')\n",
    "\n",
    "    # Extrai a coluna CPF da lista\n",
    "    lista_de_potenciais_doadores_por_cpf = [doador[6] for doador in lista_de_potenciais_doadores]\n",
    "    print(lista_de_potenciais_doadores_por_cpf)\n",
    "\n",
    "    if (cpf in lista_de_potenciais_doadores_por_cpf):\n",
    "        print(f'O CPF {cpf} foi encontrado na lista de potenciais doadores!')\n",
    "        print('Agora, vamos adicionar os órgãos que serão doados.')\n",
    "        print('Os órgãos disponíveis para doação são:')\n",
    "        for i, (orgao, tipo_de_orgao) in enumerate(zip(lista_de_orgaos, lista_de_tipos_de_orgao)):\n",
    "            print(f\"[{i}]: {orgao} do tipo {tipo_de_orgao}\")\n",
    "        orgao = input('Digite o órgão que será doado: ')\n",
    "        if (orgao in lista_de_orgaos):\n",
    "            lista_de_doacoes.append([cpf, orgao])\n",
    "            os.system('cls' if os.name == 'nt' else 'clear')\n",
    "            print(f'O órgão {orgao} foi adicionado com sucesso como doação feita pelo doador {cpf}!')\n",
    "            print(f'Lista de doações: {lista_de_doacoes}')\n",
    "            print('Vamos encaminhar a doação para um centro de distribuição!')\n",
    "\n",
    "            # Encaminha a doação para um centro de distribuição\n",
    "            # escolha um índice de CD\n",
    "            CD_index = random.randint(0, len(centros_de_distribuicao) - 1)\n",
    "            print(f'A doação será encaminhada para o centro de distribuição {centros_de_distribuicao[CD_index]}!')\n",
    "        else:\n",
    "            print(f'O órgão {orgao} não está disponível para doação!')\n",
    "    else:\n",
    "        print(f'O CPF {cpf} não foi encontrado na lista de potenciais doadores!')\n",
    "        print(f'Escolha a Opção 1 caso queira cadastrar o potencial doador com CPF {cpf}.')\n",
    "\n",
    "\n",
    "elif opcao == 3:\n",
    "    print(\"Processar doação (encaminhar para transplante)\")\n",
    "elif opcao == 4: \n",
    "    print(\"Exibir estoque atual dos Centros de Distribuição\")\n",
    "elif opcao == 5:\n",
    "    print(\"Exibir histórico de doações\")\n",
    "else: \n",
    "    print(\"Finalizar aplicação\")"
   ]
  },
  {
   "cell_type": "markdown",
   "metadata": {},
   "source": [
    "## Atividade Prática\n",
    "1. Realize as validações na Opção 1, caso necessário\n",
    "2. Realize as validações na Opção 2, caso necessário\n",
    "3. Crie e gerencie as listas de doações dos centros de distribuição\n",
    "4. Gerencie adequadamente o processamento das doações considerando o estoque dos centros de distribuição "
   ]
  }
 ],
 "metadata": {
  "kernelspec": {
   "display_name": "Python 3",
   "language": "python",
   "name": "python3"
  },
  "language_info": {
   "codemirror_mode": {
    "name": "ipython",
    "version": 3
   },
   "file_extension": ".py",
   "mimetype": "text/x-python",
   "name": "python",
   "nbconvert_exporter": "python",
   "pygments_lexer": "ipython3",
   "version": "3.13.1"
  },
  "widgets": {
   "application/vnd.jupyter.widget-state+json": {
    "state": {},
    "version_major": 2,
    "version_minor": 0
   }
  }
 },
 "nbformat": 4,
 "nbformat_minor": 4
}
