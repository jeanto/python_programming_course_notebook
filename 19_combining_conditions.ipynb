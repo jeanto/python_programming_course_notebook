{
 "cells": [
  {
   "cell_type": "markdown",
   "metadata": {},
   "source": [
    "\n",
    "# 19. and, or, not, not in\n",
    "\n",
    "## Combinando condições\n",
    "\n",
    "[Aprenda Python com Jupyter](https://github.com/jeanto/python_programming_course_notebook) by [Jean Nunes](https://jeanto.github.io/jeannunes)   \n",
    "Code license: [GNU-GPL v3](https://www.gnu.org/licenses/gpl-3.0.en.html)\n",
    "\n",
    "---"
   ]
  },
  {
   "cell_type": "markdown",
   "metadata": {},
   "source": [
    "## and\n",
    "\n",
    "- Dada a seguinte lista de inteiros:"
   ]
  },
  {
   "cell_type": "code",
   "execution_count": 2,
   "metadata": {},
   "outputs": [],
   "source": [
    "numeros = [1, 5, 7, 2, 8, 19]"
   ]
  },
  {
   "cell_type": "markdown",
   "metadata": {},
   "source": [
    "- Imprima os números que estão entre 5 **e** 10:"
   ]
  },
  {
   "cell_type": "code",
   "execution_count": 3,
   "metadata": {},
   "outputs": [
    {
     "name": "stdout",
     "output_type": "stream",
     "text": [
      "O número 5 está entre 5 e 10\n",
      "O número 7 está entre 5 e 10\n",
      "O número 8 está entre 5 e 10\n"
     ]
    }
   ],
   "source": [
    "# para cada posição na lista\n",
    "for i in range(len(numeros)):\n",
    "    \n",
    "    # se o número atual estiver entre 5 e 10\n",
    "    if numeros[i] >= 5 and numeros[i] <=10 :\n",
    "        # imprima o número atual\n",
    "        print(f\"O número {numeros[i]} está entre 5 e 10\")"
   ]
  },
  {
   "cell_type": "code",
   "execution_count": null,
   "metadata": {},
   "outputs": [],
   "source": [
    "i = 0\n",
    "\n",
    "while i < len(numeros):\n",
    "        if numeros[i] >= 5 and numeros[i] <= 10:\n",
    "                print(f\"O número {numeros[i]} está entre 5 e 10\")\n",
    "        i += 1"
   ]
  },
  {
   "cell_type": "markdown",
   "metadata": {},
   "source": [
    "---\n",
    "## or  \n",
    "\n",
    "- Dada a seguinte string: "
   ]
  },
  {
   "cell_type": "code",
   "execution_count": 10,
   "metadata": {},
   "outputs": [],
   "source": [
    "mensagem = \"O Palmeiras é o maior campeão do Brasil!!!\""
   ]
  },
  {
   "cell_type": "markdown",
   "metadata": {},
   "source": [
    "- E dado toda a pontuação:"
   ]
  },
  {
   "cell_type": "code",
   "execution_count": 11,
   "metadata": {},
   "outputs": [],
   "source": [
    "pontuacao = r\"\\'\\/'()[]{}<>.,;:?!^@∼#$%&*_-\""
   ]
  },
  {
   "cell_type": "markdown",
   "metadata": {},
   "source": [
    "- Imprima e conte o número de caracteres que são pontuação **ou** vogais:"
   ]
  },
  {
   "cell_type": "code",
   "execution_count": null,
   "metadata": {},
   "outputs": [],
   "source": [
    "# string de vogais\n",
    "vogais = \"aeiou\"\n",
    "\n",
    "# inicializa contador\n",
    "contador = 0\n",
    "\n",
    "# para cada posição na mensagem\n",
    "for i in range(len(mensagem)):\n",
    "    \n",
    "    # se o elemento atual for pontuação ou vogal\n",
    "    if mensagem[i] in pontuacao or mensagem[i] in vogais:\n",
    "        \n",
    "        # imprime a mensagem\n",
    "        print(f\"{mensagem[i]} é uma vogal ou pontuação!\")\n",
    "        \n",
    "        # incrementa o contador\n",
    "        contador += 1\n",
    "        \n",
    "# imprime a quantidade final\n",
    "print(f\"A quantidade total de pontuação ou vogais é {contador}\")"
   ]
  },
  {
   "cell_type": "code",
   "execution_count": null,
   "metadata": {},
   "outputs": [],
   "source": [
    "# string de vogais\n",
    "vogais = \"aeiou\"\n",
    "\n",
    "# inicializa contador\n",
    "contador = 0\n",
    "i = 0\n",
    "\n",
    "# para cada posição na mensagem\n",
    "while i < len(mensagem):\n",
    "    \n",
    "    # se o elemento atual for pontuação ou vogal\n",
    "    if mensagem[i] in pontuacao or mensagem[i] in vogais:\n",
    "        \n",
    "        # imprime a mensagem\n",
    "        print(f\"{mensagem[i]} é uma vogal ou pontuação!\")\n",
    "        \n",
    "        # incrementa o contador\n",
    "        contador += 1\n",
    "        \n",
    "    i += 1\n",
    "        \n",
    "# imprime a quantidade final\n",
    "print(f\"A quantidade total de pontuação ou vogais é {contador}\")"
   ]
  },
  {
   "cell_type": "markdown",
   "metadata": {},
   "source": [
    "---\n",
    "## not"
   ]
  },
  {
   "cell_type": "markdown",
   "metadata": {},
   "source": [
    "- Dada a seguinte lista de inteiros:"
   ]
  },
  {
   "cell_type": "code",
   "execution_count": null,
   "metadata": {},
   "outputs": [],
   "source": [
    "numeros = [4, 6, 7, 9]"
   ]
  },
  {
   "cell_type": "markdown",
   "metadata": {},
   "source": [
    "- Imprima os números que **não** são divisíveis por 2:"
   ]
  },
  {
   "cell_type": "code",
   "execution_count": 15,
   "metadata": {},
   "outputs": [
    {
     "name": "stdout",
     "output_type": "stream",
     "text": [
      "1\n",
      "5\n",
      "7\n",
      "19\n"
     ]
    }
   ],
   "source": [
    "# para cada posição da lista\n",
    "for i in range(len(numeros)):\n",
    "    \n",
    "    # se o número atual não for par\n",
    "    if not numeros[i] % 2 == 0:\n",
    "        \n",
    "        # imprima o número atual\n",
    "        print(numeros[i])"
   ]
  },
  {
   "cell_type": "markdown",
   "metadata": {},
   "source": [
    "- Solução alternativa:"
   ]
  },
  {
   "cell_type": "code",
   "execution_count": null,
   "metadata": {},
   "outputs": [],
   "source": [
    "# para cada número na lista \n",
    "for i in range(len(numeros)):\n",
    "    \n",
    "    # se o número atual for ímpar\n",
    "    if numeros[i] % 2 != 0:\n",
    "        \n",
    "        # imprima o número atual\n",
    "        print(numeros[i])"
   ]
  },
  {
   "cell_type": "markdown",
   "metadata": {},
   "source": [
    "---\n",
    "## not in\n",
    "- Gere 5 números aleatórios entre 0 e 10. Se os números aleatórios **não** estiverem já **na** lista a seguir, adicione-os:"
   ]
  },
  {
   "cell_type": "code",
   "execution_count": null,
   "metadata": {},
   "outputs": [],
   "source": [
    "numeros = [1,4,7]"
   ]
  },
  {
   "cell_type": "code",
   "execution_count": null,
   "metadata": {},
   "outputs": [],
   "source": [
    "import random\n",
    "\n",
    "# por 5 vezes\n",
    "for _ in range(5):\n",
    "    \n",
    "    # gere um número aleatório entre 0 e 10\n",
    "    numero = random.randint(0,10)\n",
    "    # imprima o número para conferir\n",
    "    print(numero)\n",
    "        \n",
    "    # se o novo número não estiver em números\n",
    "    if numero not in numeros:\n",
    "        # adicione o número em números\n",
    "        numeros.append(numero)\n",
    "\n",
    "# imprima a lista final\n",
    "print(numeros)"
   ]
  }
 ],
 "metadata": {
  "kernelspec": {
   "display_name": "py_course (3.12.3)",
   "language": "python",
   "name": "python3"
  },
  "language_info": {
   "codemirror_mode": {
    "name": "ipython",
    "version": 3
   },
   "file_extension": ".py",
   "mimetype": "text/x-python",
   "name": "python",
   "nbconvert_exporter": "python",
   "pygments_lexer": "ipython3",
   "version": "3.12.3"
  },
  "widgets": {
   "application/vnd.jupyter.widget-state+json": {
    "state": {},
    "version_major": 2,
    "version_minor": 0
   }
  }
 },
 "nbformat": 4,
 "nbformat_minor": 4
}
