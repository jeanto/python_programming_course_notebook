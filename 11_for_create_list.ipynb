{
 "cells": [
  {
   "cell_type": "markdown",
   "metadata": {},
   "source": [
    "# 11. For loop to create new lists\n",
    "\n",
    "[Aprenda Python com Jupyter](https://github.com/jeanto/python_programming_course_notebook) by [Jean Nunes](https://jeanto.github.io/jeannunes)   \n",
    "Code license: [GNU-GPL v3](https://www.gnu.org/licenses/gpl-3.0.en.html)\n",
    "\n",
    "----"
   ]
  },
  {
   "cell_type": "markdown",
   "metadata": {},
   "source": [
    "- Como observando na Notebook [07_for_range.ipynb](07_for_range.ipynb), nós temos três categorias que podem ser doados: órgãos, tecidos e sangue."
   ]
  },
  {
   "cell_type": "code",
   "execution_count": null,
   "metadata": {},
   "outputs": [],
   "source": [
    "lista_de_orgaos = [\"Coração\", \"Rins\",  \"Fígado\", \"Pâncreas\", \"Pulmões\", \"Intestino\", \n",
    "                   \"Córneas\", \"Pele\", \"Ossos\", \"Válvulas cardíacas\", \"Cartilagem\", \"Medula Óssea\", \n",
    "                   \"Tendões\", \"Vasos Sanguíneos\", \"Sangue de Cordão Umbilical\", \"Sangue Universal\"]\n",
    "lista_de_tipos_de_orgao = [\"Órgão\", \"Órgão\", \"Órgão\", \"Órgão\", \"Órgão\", \"Órgão\",\n",
    "                           \"Tecido\", \"Tecido\", \"Tecido\", \"Tecido\", \"Tecido\", \"Tecido\",\n",
    "                           \"Tecido\", \"Tecido\", \"Sangue\", \"Sangue\"]"
   ]
  },
  {
   "cell_type": "markdown",
   "metadata": {},
   "source": [
    "- Então seria interessante criar 3 listas de acordo com as categorias:"
   ]
  },
  {
   "cell_type": "code",
   "execution_count": null,
   "metadata": {},
   "outputs": [],
   "source": [
    "# inicializa as variáveis ​​como listas vazias\n",
    "orgaos  = []\n",
    "tecidos = []\n",
    "sangue  = []\n",
    "\n",
    "# para cada posição na lista\n",
    "for i in range(len(lista_de_orgaos)):\n",
    "    \n",
    "    # obtem orgao e tipo de órgão\n",
    "    orgao           = lista_de_orgaos[i]\n",
    "    tipo_de_orgao   = lista_de_tipos_de_orgao[i] \n",
    "    # imprime o elemento atual\n",
    "    print(f\"[{i}] {orgao} [{tipo_de_orgao}]\")\n",
    "    \n",
    "    # verifica se é \"Órgão\", \"Tecido\" ou \"Sangue\"\n",
    "    # verifica se é \"Órgão\n",
    "    if tipo_de_orgao == \"Órgão\": \n",
    "        # adiciona elemento a lista: orgaos\n",
    "        orgaos.append(orgao)\n",
    "        print(f\"A lista \\\"orgãos\\\" contem um novo elemento: {orgaos}\\n\")\n",
    "    \n",
    "    # verifica se é \"Tecido\"\n",
    "    elif tipo_de_orgao == \"Tecido\":\n",
    "        # adiciona elemento a lista: tecidos\n",
    "        tecidos.append(orgao)\n",
    "        print(f\"A lista \\\"tecidos\\\" contem um novo elemento: {tecidos}\\n\")\n",
    "\n",
    "    # caso contrário, é \"Sangue\"\n",
    "    else:\n",
    "        # adiciona elemento a lista: sangue\n",
    "        sangue.append(orgao)\n",
    "        print(f\"A lista \\\"sangue\\\" contem um novo elemento: {sangue}\\n\")\n",
    "\n",
    "\n",
    "# imprime as listas de orgãos e tecidos\n",
    "print(f\"Lista de Órgãos {orgaos}\")\n",
    "print(f\"Lista de Tecidos {tecidos}\")      \n",
    "print(f\"Lista de Sangue {sangue}\")"
   ]
  },
  {
   "cell_type": "code",
   "execution_count": null,
   "metadata": {},
   "outputs": [],
   "source": [
    "# inicializa as variáveis ​​como listas vazias\n",
    "orgaos  = []\n",
    "tecidos = []\n",
    "sangue  = []\n",
    "\n",
    "# para cada posição na lista\n",
    "for i, (orgao, tipo_de_orgao) in enumerate(zip(lista_de_orgaos, lista_de_tipos_de_orgao)):\n",
    "    \n",
    "    # imprime o elemento atual\n",
    "    print(f\"[{i}] {orgao} [{tipo_de_orgao}]\")\n",
    "    \n",
    "    # verifica se é \"Órgão\", \"Tecido\" ou \"Sangue\"\n",
    "    # verifica se é \"Órgão\n",
    "    if tipo_de_orgao == \"Órgão\": \n",
    "        # adiciona elemento a lista: orgaos\n",
    "        orgaos.append(orgao)\n",
    "        print(f\"A lista \\\"orgãos\\\" contem um novo elemento: {orgaos}\\n\")\n",
    "    \n",
    "    # verifica se é \"Tecido\"\n",
    "    elif tipo_de_orgao == \"Tecido\":\n",
    "        # adiciona elemento a lista: tecidos\n",
    "        tecidos.append(orgao)\n",
    "        print(f\"A lista \\\"tecidos\\\" contem um novo elemento: {tecidos}\\n\")\n",
    "\n",
    "    # caso contrário, é \"Sangue\"\n",
    "    else:\n",
    "        # adiciona elemento a lista: sangue\n",
    "        sangue.append(orgao)\n",
    "        print(f\"A lista \\\"sangue\\\" contem um novo elemento: {sangue}\\n\")\n",
    "\n",
    "\n",
    "# imprime as listas de orgãos e tecidos\n",
    "print(f\"Lista de Órgãos {orgaos}\")\n",
    "print(f\"Lista de Tecidos {tecidos}\")      \n",
    "print(f\"Lista de Sangue {sangue}\")"
   ]
  },
  {
   "cell_type": "markdown",
   "metadata": {},
   "source": [
    "## Atividade Prática\n",
    "1. Considerando a lista de capitais, crie listas de capitais de acordo com os estados brasileiros (norte, nordeste, centro-oeste, sudeste, sul e distrito federal):\n"
   ]
  }
 ],
 "metadata": {
  "kernelspec": {
   "display_name": "Python 3",
   "language": "python",
   "name": "python3"
  },
  "language_info": {
   "codemirror_mode": {
    "name": "ipython",
    "version": 3
   },
   "file_extension": ".py",
   "mimetype": "text/x-python",
   "name": "python",
   "nbconvert_exporter": "python",
   "pygments_lexer": "ipython3",
   "version": "3.13.1"
  },
  "widgets": {
   "application/vnd.jupyter.widget-state+json": {
    "state": {},
    "version_major": 2,
    "version_minor": 0
   }
  }
 },
 "nbformat": 4,
 "nbformat_minor": 4
}
