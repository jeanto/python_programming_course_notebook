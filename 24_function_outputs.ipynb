{
 "cells": [
  {
   "cell_type": "markdown",
   "metadata": {},
   "source": [
    "# 24. Usernames and passwords: Function outputs and modular design\n",
    "\n",
    "[Aprenda Python com Jupyter](https://github.com/jeanto/python_programming_course_notebook) by [Jean Nunes](https://jeanto.github.io/jeannunes)   \n",
    "Code license: [GNU-GPL v3](https://www.gnu.org/licenses/gpl-3.0.en.html)\n",
    "\n",
    "---"
   ]
  },
  {
   "cell_type": "markdown",
   "metadata": {},
   "source": [
    "- Você precisa armazenar com segurança os nomes de usuário e senhas dos administradores do sistema. Crie um banco de dados onde os nomes de usuário sejam compostos pela inicial do primeiro nome do usuário seguida de seu sobrenome, e as senhas consistam em um código de quatro dígitos.\n"
   ]
  },
  {
   "cell_type": "markdown",
   "metadata": {},
   "source": [
    "\n",
    "## 1. Criando um username"
   ]
  },
  {
   "cell_type": "markdown",
   "metadata": {},
   "source": [
    "- Escreva uma função que crie um nome de usuário composto pela inicial do primeiro nome e o sobrenome:"
   ]
  },
  {
   "cell_type": "code",
   "execution_count": 1,
   "metadata": {},
   "outputs": [],
   "source": [
    "def criar_username(primeiro_nome, sobrenome):\n",
    "    \"\"\"Cria um nome de usuário em letras minúsculas composto pela inicial do primeiro nome e o sobrenome\n",
    "    \n",
    "    Parâmetros\n",
    "    ----------\n",
    "    primeiro_nome: string \n",
    "        Primeiro nome de uma pessoa\n",
    "    sobrenome: string\n",
    "        Sobrenome de uma pessoa\n",
    "        \n",
    "    Retorna    \n",
    "    -------\n",
    "    username: string\n",
    "        Nome de usuário criado    \n",
    "    \"\"\"\n",
    "    \n",
    "    # concatenar a inicial do primeiro nome com o sobrenome\n",
    "    username = primeiro_nome[0] + sobrenome\n",
    "    # garantir que o nome de usuário esteja em letras minúsculas\n",
    "    username = username.lower()\n",
    "    \n",
    "    # retornar o nome de usuário\n",
    "    return username"
   ]
  },
  {
   "cell_type": "markdown",
   "metadata": {},
   "source": [
    "- Teste a função"
   ]
  },
  {
   "cell_type": "code",
   "execution_count": 3,
   "metadata": {},
   "outputs": [
    {
     "name": "stdout",
     "output_type": "stream",
     "text": [
      "askywalker\n"
     ]
    }
   ],
   "source": [
    "admin1 = criar_username(\"Anakin\", \"Skywalker\")  \n",
    "print(admin1)"
   ]
  },
  {
   "cell_type": "code",
   "execution_count": 4,
   "metadata": {},
   "outputs": [
    {
     "name": "stdout",
     "output_type": "stream",
     "text": [
      "okenobi\n"
     ]
    }
   ],
   "source": [
    "admin2 = criar_username(\"Obi-Wan\", \"Kenobi\")\n",
    "print(admin2)"
   ]
  },
  {
   "cell_type": "markdown",
   "metadata": {},
   "source": [
    "---\n",
    "## 2. Criando uma senha\n",
    "- Escreva uma função que crie uma senha composta por quatro números inteiros aleatórios:"
   ]
  },
  {
   "cell_type": "code",
   "execution_count": 5,
   "metadata": {},
   "outputs": [],
   "source": [
    "import random\n",
    "\n",
    "def criar_senha():\n",
    "    \"\"\"Cria uma senha composta por quatro números inteiros aleatórios \n",
    "        \n",
    "    Retorna    \n",
    "    -------\n",
    "    senha: string\n",
    "        Senha criada  \n",
    "    \"\"\"\n",
    "    \n",
    "    # cria um número aleatório com quatro dígitos\n",
    "    senha = str(random.randint(1000, 9999))\n",
    "     \n",
    "    # retorna a senha\n",
    "    return senha"
   ]
  },
  {
   "cell_type": "markdown",
   "metadata": {},
   "source": [
    "- Teste a função"
   ]
  },
  {
   "cell_type": "code",
   "execution_count": 7,
   "metadata": {},
   "outputs": [
    {
     "name": "stdout",
     "output_type": "stream",
     "text": [
      "7812\n"
     ]
    }
   ],
   "source": [
    "senha1 = criar_senha()\n",
    "print(senha1)"
   ]
  },
  {
   "cell_type": "markdown",
   "metadata": {},
   "source": [
    "---\n",
    "## 3. Criando um banco de dados\n",
    "\n",
    "- Escreva uma função que, dada uma lista de listas de usuários, crie e retorne um banco de dados (ou seja, um dicionário) de nomes de usuário e senhas. A função também retorna o número de usuários no banco de dados:\n"
   ]
  },
  {
   "cell_type": "code",
   "execution_count": 8,
   "metadata": {},
   "outputs": [],
   "source": [
    "def criar_banco_de_dados(usuarios): \n",
    "    \"\"\"Cria um banco de dados como um dicionário com nomes de usuário (chaves) e senhas (valores)  \n",
    "    \n",
    "    Parâmetros\n",
    "    ----------\n",
    "    usuarios : lista de listas\n",
    "        Cada sublista contém o primeiro nome e o sobrenome de um usuário\n",
    "        \n",
    "    Retorna    \n",
    "    -------\n",
    "    bd : dicionário\n",
    "        Banco de dados criado (abreviado como bd)\n",
    "    n_usuarios : int\n",
    "        Número de usuarios no banco de dados\n",
    "    \"\"\"\n",
    "    \n",
    "    # inicializa o dicionário (ou seja, o banco de dados)\n",
    "    bd = {}\n",
    "    \n",
    "    # para cada cliente\n",
    "    for usuario in usuarios:\n",
    "\n",
    "        # cria o nome de usuário\n",
    "        nome_usuario = criar_username(usuario[0], usuario[1])\n",
    "\n",
    "        # cria a senha\n",
    "        senha = criar_senha()  \n",
    "        \n",
    "        # adiciona o nome de usuário e a senha ao banco de dados\n",
    "        bd[nome_usuario] = senha\n",
    "        \n",
    "    # calcula o número de usuarios\n",
    "    n_usuarios = len(bd)\n",
    "\n",
    "    # retorna o dicionário e seu tamanho\n",
    "    return bd, n_usuarios"
   ]
  },
  {
   "cell_type": "markdown",
   "metadata": {},
   "source": [
    "- Dada a seguinte lista de usuários:"
   ]
  },
  {
   "cell_type": "code",
   "execution_count": 9,
   "metadata": {},
   "outputs": [],
   "source": [
    "usuarios = [[\"Anakin\", \"Skywalker\"], [\"Obi-Wan\", \"Kenobi\"], [\"Imperador\", \"Palpatine\"], [\"Mestre\", \"Yoda\"]]"
   ]
  },
  {
   "cell_type": "markdown",
   "metadata": {},
   "source": [
    "#### Crie o banco de dados usando duas sintaxes diferentes:"
   ]
  },
  {
   "cell_type": "markdown",
   "metadata": {},
   "source": [
    "- Retornos separados"
   ]
  },
  {
   "cell_type": "code",
   "execution_count": 10,
   "metadata": {},
   "outputs": [
    {
     "name": "stdout",
     "output_type": "stream",
     "text": [
      "Banco de Dados: {'askywalker': '9540', 'okenobi': '3349', 'ipalpatine': '7403', 'myoda': '1632'}\n",
      "Número de Usuários: 4\n"
     ]
    }
   ],
   "source": [
    "banco_de_dados, numero_usuarios = criar_banco_de_dados(usuarios)\n",
    "\n",
    "# imprime os resultados\n",
    "print(\"Banco de Dados:\", banco_de_dados)\n",
    "print(\"Número de Usuários:\", numero_usuarios)       "
   ]
  },
  {
   "cell_type": "markdown",
   "metadata": {},
   "source": [
    "- Retorno simples"
   ]
  },
  {
   "cell_type": "code",
   "execution_count": 11,
   "metadata": {},
   "outputs": [
    {
     "name": "stdout",
     "output_type": "stream",
     "text": [
      "tupla de saida: ({'askywalker': '8598', 'okenobi': '2849', 'ipalpatine': '8558', 'myoda': '3521'}, 4)\n"
     ]
    }
   ],
   "source": [
    "# cria o banco de dados - retorno único dados\n",
    "saida = criar_banco_de_dados(usuarios)\n",
    "print (f\"tupla de saida: {saida}\")      "
   ]
  },
  {
   "cell_type": "code",
   "execution_count": 12,
   "metadata": {},
   "outputs": [
    {
     "name": "stdout",
     "output_type": "stream",
     "text": [
      "Banco de dados: {'askywalker': '8598', 'okenobi': '2849', 'ipalpatine': '8558', 'myoda': '3521'}\n"
     ]
    }
   ],
   "source": [
    "# obtém e imprime o banco de dados\n",
    "database = saida[0]\n",
    "print(f\"Banco de dados: {database}\")"
   ]
  },
  {
   "cell_type": "code",
   "execution_count": 13,
   "metadata": {},
   "outputs": [
    {
     "name": "stdout",
     "output_type": "stream",
     "text": [
      "Numero de usuarios: 4\n"
     ]
    }
   ],
   "source": [
    "# obtém e imprime o número de usuários\n",
    "numero_usuarios = saida[1]\n",
    "print(f\"Numero de usuarios: {numero_usuarios}\")    "
   ]
  }
 ],
 "metadata": {
  "kernelspec": {
   "display_name": "Python 3",
   "language": "python",
   "name": "python3"
  },
  "language_info": {
   "codemirror_mode": {
    "name": "ipython",
    "version": 3
   },
   "file_extension": ".py",
   "mimetype": "text/x-python",
   "name": "python",
   "nbconvert_exporter": "python",
   "pygments_lexer": "ipython3",
   "version": "3.13.1"
  },
  "widgets": {
   "application/vnd.jupyter.widget-state+json": {
    "state": {},
    "version_major": 2,
    "version_minor": 0
   }
  }
 },
 "nbformat": 4,
 "nbformat_minor": 4
}
