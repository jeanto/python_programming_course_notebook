{
 "cells": [
  {
   "cell_type": "markdown",
   "metadata": {},
   "source": [
    "# 13. Introduction to algorithms\n",
    "\n",
    "[Aprenda Python com Jupyter](https://github.com/jeanto/python_programming_course_notebook) by [Jean Nunes](https://jeanto.github.io/jeannunes)   \n",
    "Code license: [GNU-GPL v3](https://www.gnu.org/licenses/gpl-3.0.en.html)\n",
    "\n",
    "---"
   ]
  },
  {
   "cell_type": "markdown",
   "metadata": {},
   "source": [
    "### 1. Escolha do computador\n",
    "- Faça o computador escolher entre *pedra*, *papel* ou *tesoura*:"
   ]
  },
  {
   "cell_type": "code",
   "execution_count": 1,
   "metadata": {},
   "outputs": [
    {
     "name": "stdout",
     "output_type": "stream",
     "text": [
      "papel\n"
     ]
    }
   ],
   "source": [
    "import random\n",
    "\n",
    "# lista de possibilidades do jogo\n",
    "possibilidades = [\"pedra\", \"papel\", \"tesoura\"]\n",
    "\n",
    "# escolha aleatória do computador\n",
    "escolha_computador = random.choice(possibilidades)\n",
    "print(escolha_computador)"
   ]
  },
  {
   "cell_type": "markdown",
   "metadata": {},
   "source": [
    "### 2. Escolha do jogador\n",
    "- Faça o jogador escolher entre *pedra*, *papel* ou *tesoura*:"
   ]
  },
  {
   "cell_type": "code",
   "execution_count": 2,
   "metadata": {},
   "outputs": [
    {
     "name": "stdout",
     "output_type": "stream",
     "text": [
      "papel\n"
     ]
    }
   ],
   "source": [
    "# pedindo ao jogador para fazer sua escolha\n",
    "escolha_jogador = input(\"Pedra, papel, ou tesoura?\")\n",
    "escolha_jogador = escolha_jogador.lower()\n",
    "\n",
    "if escolha_jogador in possibilidades: \n",
    "    print(escolha_jogador)\n",
    "else:\n",
    "    print(\"Opção indisponível. Escolha novamente\")"
   ]
  },
  {
   "cell_type": "markdown",
   "metadata": {},
   "source": [
    "### 3. Determine quem vence"
   ]
  },
  {
   "cell_type": "markdown",
   "metadata": {},
   "source": [
    "- Se o computador escolher *pedra*:"
   ]
  },
  {
   "cell_type": "code",
   "execution_count": 5,
   "metadata": {},
   "outputs": [],
   "source": [
    "if escolha_computador == \"pedra\":\n",
    "    # compare com a escolha do jogador\n",
    "    if escolha_jogador == \"pedra\":\n",
    "        print(\"Empate!\")       \n",
    "    elif escolha_jogador == \"papel\": \n",
    "        print(\"Você venceu!\")\n",
    "    else:\n",
    "        print(\"O computador venceu!\")"
   ]
  },
  {
   "cell_type": "markdown",
   "metadata": {},
   "source": [
    "- Se o computador escolher *papel*:"
   ]
  },
  {
   "cell_type": "code",
   "execution_count": 6,
   "metadata": {},
   "outputs": [
    {
     "name": "stdout",
     "output_type": "stream",
     "text": [
      "Empate!\n"
     ]
    }
   ],
   "source": [
    "if escolha_computador == \"papel\":\n",
    "    # compare com a escolha do jogador\n",
    "    if escolha_jogador == \"papel\":\n",
    "        print(\"Empate!\")       \n",
    "    elif escolha_jogador == \"tesoura\": \n",
    "        print(\"Você venceu!\")\n",
    "    else: \n",
    "        print(\"O computador venceu!\")"
   ]
  },
  {
   "cell_type": "markdown",
   "metadata": {},
   "source": [
    "- Se o computador escolher *tesoura*:"
   ]
  },
  {
   "cell_type": "code",
   "execution_count": 7,
   "metadata": {},
   "outputs": [],
   "source": [
    "if escolha_computador == \"tesoura\":    \n",
    "    # compare com a escolha do jogador\n",
    "    if escolha_jogador == \"tesoura\":\n",
    "        print(\"Empate!\")  \n",
    "    elif escolha_jogador == \"pedra\":\n",
    "        print(\"Você venceu!\")\n",
    "    else:\n",
    "        print(\"O computador venceu!\")"
   ]
  },
  {
   "cell_type": "markdown",
   "metadata": {},
   "source": [
    "### Mesclando o código\n",
    "- Vamos mesclar o código:"
   ]
  },
  {
   "cell_type": "code",
   "execution_count": null,
   "metadata": {},
   "outputs": [],
   "source": [
    "import random\n",
    "\n",
    "# lista de possibilidades do jogo\n",
    "possibilidades = [\"pedra\", \"papel\", \"tesoura\"]\n",
    "\n",
    "# escolha aleatória do computador\n",
    "escolha_computador = random.choice(possibilidades)\n",
    "print(escolha_computador)\n",
    "\n",
    "# pedindo ao jogador para fazer sua escolha\n",
    "escolha_jogador = input(\"Pedra, papel, ou tesoura?\")\n",
    "escolha_jogador = escolha_jogador.lower()\n",
    "\n",
    "if escolha_jogador in possibilidades: \n",
    "    print(escolha_jogador)\n",
    "else:\n",
    "    print(\"Opção indisponível. Escolha novamente\")\n",
    "\n",
    "# determina quem vence\n",
    "\n",
    "# se o computador escolhe \"pedra\"\n",
    "if escolha_computador == \"pedra\":\n",
    "    # compare com a escolha do jogador\n",
    "    if escolha_jogador == \"pedra\":\n",
    "        print(\"Empate!\")       \n",
    "    elif escolha_jogador == \"papel\": \n",
    "        print(\"Você venceu!\")\n",
    "    else:\n",
    "        print(\"O computador venceu!\")\n",
    "\n",
    "# se o computador escolhe \"papel\"\n",
    "if escolha_computador == \"papel\":\n",
    "    # compare com a escolha do jogador\n",
    "    if escolha_jogador == \"papel\":\n",
    "        print(\"Empate!\")       \n",
    "    elif escolha_jogador == \"tesoura\": \n",
    "        print(\"Você venceu!\")\n",
    "    else: \n",
    "        print(\"O computador venceu!\")\n",
    "\n",
    "# if o computador escolhe \"tesoura\"        \n",
    "if escolha_computador == \"tesoura\":    \n",
    "    # compare com a escolha do jogador\n",
    "    if escolha_jogador == \"tesoura\":\n",
    "        print(\"Empate!\")  \n",
    "    elif escolha_jogador == \"pedra\":\n",
    "        print(\"Você venceu!\")\n",
    "    else:\n",
    "        print(\"O computador venceu!\")"
   ]
  }
 ],
 "metadata": {
  "kernelspec": {
   "display_name": "py_course (3.12.3)",
   "language": "python",
   "name": "python3"
  },
  "language_info": {
   "codemirror_mode": {
    "name": "ipython",
    "version": 3
   },
   "file_extension": ".py",
   "mimetype": "text/x-python",
   "name": "python",
   "nbconvert_exporter": "python",
   "pygments_lexer": "ipython3",
   "version": "3.12.3"
  },
  "widgets": {
   "application/vnd.jupyter.widget-state+json": {
    "state": {},
    "version_major": 2,
    "version_minor": 0
   }
  }
 },
 "nbformat": 4,
 "nbformat_minor": 4
}
