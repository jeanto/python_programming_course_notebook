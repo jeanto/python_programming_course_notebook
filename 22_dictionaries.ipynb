{
 "cells": [
  {
   "cell_type": "markdown",
   "metadata": {},
   "source": [
    "# 24. Dictionary\n",
    "\n",
    "[Aprenda Python com Jupyter](https://github.com/jeanto/python_programming_course_notebook) by [Jean Nunes](https://jeanto.github.io/jeannunes)   \n",
    "Code license: [GNU-GPL v3](https://www.gnu.org/licenses/gpl-3.0.en.html)\n",
    "\n",
    "---"
   ]
  },
  {
   "cell_type": "markdown",
   "metadata": {},
   "source": [
    "## 1. Dicionários"
   ]
  },
  {
   "cell_type": "markdown",
   "metadata": {},
   "source": [
    "- Você é o dono de uma livraria, e estes são alguns clássicos que você vende:"
   ]
  },
  {
   "cell_type": "code",
   "execution_count": 1,
   "metadata": {},
   "outputs": [
    {
     "name": "stdout",
     "output_type": "stream",
     "text": [
      "{'Assis': 'Dom Casmurro', 'Alencar': 'Iracema', 'Ramos': 'Vidas Secas', 'Amado': 'Capitães da Areia', 'Lispector': 'A Hora Estrela'}\n"
     ]
    }
   ],
   "source": [
    "classicos = {\"Assis\": \"Dom Casmurro\",\n",
    "        \"Alencar\": \"Iracema\",\n",
    "        \"Ramos\": \"Vidas Secas\",\n",
    "        \"Amado\": \"Capitães da Areia\",\n",
    "        \"Lispector\": \"A Hora Estrela\"}\n",
    "\n",
    "print(classicos)"
   ]
  },
  {
   "cell_type": "markdown",
   "metadata": {},
   "source": [
    "- Você está realizando um inventário e precisa imprimir autores e títulos:"
   ]
  },
  {
   "cell_type": "code",
   "execution_count": 3,
   "metadata": {},
   "outputs": [
    {
     "name": "stdout",
     "output_type": "stream",
     "text": [
      "dict_items([('Assis', 'Dom Casmurro'), ('Alencar', 'Iracema'), ('Ramos', 'Vidas Secas'), ('Amado', 'Capitães da Areia'), ('Lispector', 'A Hora Estrela')])\n"
     ]
    }
   ],
   "source": [
    "# como dict_items\n",
    "print(classicos.items())"
   ]
  },
  {
   "cell_type": "code",
   "execution_count": 2,
   "metadata": {},
   "outputs": [
    {
     "name": "stdout",
     "output_type": "stream",
     "text": [
      "Help on method_descriptor:\n",
      "\n",
      "items(...) unbound builtins.dict method\n",
      "    D.items() -> a set-like object providing a view on D's items\n",
      "\n"
     ]
    }
   ],
   "source": [
    "help(dict.items)"
   ]
  },
  {
   "cell_type": "code",
   "execution_count": 7,
   "metadata": {},
   "outputs": [],
   "source": [
    "# como uma lista de tuplas\n",
    "lista_classicos = list(classicos.items())"
   ]
  },
  {
   "cell_type": "code",
   "execution_count": 8,
   "metadata": {},
   "outputs": [
    {
     "data": {
      "text/plain": [
       "('Assis', 'Dom Casmurro')"
      ]
     },
     "execution_count": 8,
     "metadata": {},
     "output_type": "execute_result"
    }
   ],
   "source": [
    "lista_classicos[0]"
   ]
  },
  {
   "cell_type": "markdown",
   "metadata": {},
   "source": [
    "- Então, você precisa imprimir autores e títulos separadamente:"
   ]
  },
  {
   "cell_type": "code",
   "execution_count": 11,
   "metadata": {},
   "outputs": [
    {
     "name": "stdout",
     "output_type": "stream",
     "text": [
      "dict_keys(['Assis', 'Alencar', 'Ramos', 'Amado', 'Lispector'])\n"
     ]
    }
   ],
   "source": [
    "# autores como dict_items\n",
    "print(classicos.keys())"
   ]
  },
  {
   "cell_type": "code",
   "execution_count": null,
   "metadata": {},
   "outputs": [
    {
     "name": "stdout",
     "output_type": "stream",
     "text": [
      "['Assis', 'Alencar', 'Ramos', 'Amado', 'Lispector']\n"
     ]
    }
   ],
   "source": [
    "# autores como uma lista \n",
    "print(list(classicos.keys()))\n",
    "#print(list(classicos))"
   ]
  },
  {
   "cell_type": "code",
   "execution_count": 14,
   "metadata": {},
   "outputs": [
    {
     "name": "stdout",
     "output_type": "stream",
     "text": [
      "dict_values(['Dom Casmurro', 'Iracema', 'Vidas Secas', 'Capitães da Areia', 'A Hora Estrela'])\n"
     ]
    }
   ],
   "source": [
    "# títulos como dict_values\n",
    "print(classicos.values())"
   ]
  },
  {
   "cell_type": "code",
   "execution_count": 17,
   "metadata": {},
   "outputs": [
    {
     "name": "stdout",
     "output_type": "stream",
     "text": [
      "['Dom Casmurro', 'Iracema', 'Vidas Secas', 'Capitães da Areia', 'A Hora Estrela']\n"
     ]
    }
   ],
   "source": [
    "# títulos como uma lista\n",
    "print(list(classicos.values()))"
   ]
  },
  {
   "cell_type": "markdown",
   "metadata": {},
   "source": [
    "- Você percebe que o título do último livro está errado, então você o corrige:"
   ]
  },
  {
   "cell_type": "code",
   "execution_count": 18,
   "metadata": {},
   "outputs": [
    {
     "name": "stdout",
     "output_type": "stream",
     "text": [
      "Título errado: A Hora Estrela\n",
      "Título corrigido: A Hora da Estrela\n"
     ]
    }
   ],
   "source": [
    "print(f\"Título errado: {classicos[\"Lispector\"]}\")\n",
    "classicos[\"Lispector\"] = \"A Hora da Estrela\"\n",
    "print(f\"Título corrigido: {classicos[\"Lispector\"]}\")"
   ]
  },
  {
   "cell_type": "markdown",
   "metadata": {},
   "source": [
    "- Então você adiciona dois novos livros que acabaram de chegar: *Grande Sertão: Veredas* de Guimarães Rosa e *Macunaíma* de Mário de Andrade:"
   ]
  },
  {
   "cell_type": "code",
   "execution_count": 19,
   "metadata": {},
   "outputs": [
    {
     "name": "stdout",
     "output_type": "stream",
     "text": [
      "{'Assis': 'Dom Casmurro', 'Alencar': 'Iracema', 'Ramos': 'Vidas Secas', 'Amado': 'Capitães da Areia', 'Lispector': 'A Hora da Estrela', 'Rosa': 'Grande Sertão: Veredas'}\n",
      "{'Assis': 'Dom Casmurro', 'Alencar': 'Iracema', 'Ramos': 'Vidas Secas', 'Amado': 'Capitães da Areia', 'Lispector': 'A Hora da Estrela', 'Rosa': 'Grande Sertão: Veredas', 'Andrade': 'Macunaíma'}\n"
     ]
    }
   ],
   "source": [
    "# adicionando \"Grande Sertão: Veredas\"\n",
    "classicos[\"Rosa\"] = \"Grande Sertão: Veredas\"\n",
    "print(classicos)\n",
    "\n",
    "# adicionando \"Macunaíma\"\n",
    "classicos[\"Andrade\"] = \"Macunaíma\"\n",
    "print(classicos)"
   ]
  },
  {
   "cell_type": "markdown",
   "metadata": {},
   "source": [
    "O que acontece se eu adicionar um título que já existe um autor?"
   ]
  },
  {
   "cell_type": "code",
   "execution_count": 20,
   "metadata": {},
   "outputs": [
    {
     "name": "stdout",
     "output_type": "stream",
     "text": [
      "{'Assis': 'Memórias Póstumas de Brás Cubas', 'Alencar': 'Iracema', 'Ramos': 'Vidas Secas', 'Amado': 'Capitães da Areia', 'Lispector': 'A Hora da Estrela', 'Rosa': 'Grande Sertão: Veredas', 'Andrade': 'Macunaíma'}\n"
     ]
    }
   ],
   "source": [
    "# adicionando o primeiro livro\n",
    "classicos[\"Assis\"] = \"Memórias Póstumas de Brás Cubas\"\n",
    "print(classicos)"
   ]
  },
  {
   "cell_type": "code",
   "execution_count": 21,
   "metadata": {},
   "outputs": [
    {
     "name": "stdout",
     "output_type": "stream",
     "text": [
      "{'Assis': 'Memórias Póstumas de Brás Cubas', 'Alencar': 'O Guarani', 'Ramos': 'Vidas Secas', 'Amado': 'Capitães da Areia', 'Lispector': 'A Hora da Estrela', 'Rosa': 'Grande Sertão: Veredas', 'Andrade': 'Macunaíma'}\n"
     ]
    }
   ],
   "source": [
    "# adicionando o segundo livro\n",
    "classicos[\"Alencar\"] = \"O Guarani\"\n",
    "print(classicos)"
   ]
  },
  {
   "cell_type": "markdown",
   "metadata": {},
   "source": [
    "- Finalmente você remove os livros de Machado de Assis e Jorge Amado porque acabou de vendê-los:"
   ]
  },
  {
   "cell_type": "code",
   "execution_count": 22,
   "metadata": {},
   "outputs": [
    {
     "name": "stdout",
     "output_type": "stream",
     "text": [
      "{'Alencar': 'O Guarani', 'Ramos': 'Vidas Secas', 'Amado': 'Capitães da Areia', 'Lispector': 'A Hora da Estrela', 'Rosa': 'Grande Sertão: Veredas', 'Andrade': 'Macunaíma'}\n"
     ]
    }
   ],
   "source": [
    "# deletando o primeiro livro (sintaxe 1)\n",
    "del classicos[\"Assis\"]\n",
    "print(classicos)"
   ]
  },
  {
   "cell_type": "code",
   "execution_count": 23,
   "metadata": {},
   "outputs": [
    {
     "name": "stdout",
     "output_type": "stream",
     "text": [
      "{'Alencar': 'O Guarani', 'Ramos': 'Vidas Secas', 'Lispector': 'A Hora da Estrela', 'Rosa': 'Grande Sertão: Veredas', 'Andrade': 'Macunaíma'}\n"
     ]
    }
   ],
   "source": [
    "# deletando o segundo livro (sintaxe 2)\n",
    "classicos.pop(\"Amado\")\n",
    "print(classicos)"
   ]
  },
  {
   "cell_type": "code",
   "execution_count": 24,
   "metadata": {},
   "outputs": [],
   "source": [
    "classicos[\"Lispector\"] = \"\""
   ]
  },
  {
   "cell_type": "code",
   "execution_count": 25,
   "metadata": {},
   "outputs": [
    {
     "name": "stdout",
     "output_type": "stream",
     "text": [
      "{'Alencar': 'O Guarani', 'Ramos': 'Vidas Secas', 'Lispector': '', 'Rosa': 'Grande Sertão: Veredas', 'Andrade': 'Macunaíma'}\n"
     ]
    }
   ],
   "source": [
    "print(classicos)"
   ]
  },
  {
   "cell_type": "markdown",
   "metadata": {},
   "source": [
    "## 2. Lista de Dicionários"
   ]
  },
  {
   "cell_type": "markdown",
   "metadata": {},
   "source": [
    "- Você deseja estruturar melhor as listas de dados dos potenciais doadores"
   ]
  },
  {
   "cell_type": "code",
   "execution_count": 26,
   "metadata": {},
   "outputs": [],
   "source": [
    "import random\n",
    "\n",
    "# Função para gerar CPF aleatório\n",
    "def gerar_cpf():\n",
    "    return f\"{random.randint(100, 999)}.{random.randint(100, 999)}.{random.randint(100, 999)}-{random.randint(10, 99)}\""
   ]
  },
  {
   "cell_type": "code",
   "execution_count": 27,
   "metadata": {},
   "outputs": [],
   "source": [
    "potenciais_doadores = [\n",
    "    [\"James Bond\", 40, \"M\", \"11/11/1980\", \"Londres\", \"IN\", gerar_cpf(), \"Agente Secreto\", \"São Paulo\", \"SP\", \"Solteiro\"],\n",
    "    [\"Jason Bourne\", 45, \"M\", \"15/03/1975\", \"Nixa\", \"MO\", gerar_cpf(), \"Agente Secreto\", \"Rio de Janeiro\", \"RJ\", \"Solteiro\"],\n",
    "    [\"Indiana Jones\", 45, \"M\", \"01/07/1975\", \"Princeton\", \"NJ\", gerar_cpf(), \"Arqueólogo\", \"Anápolis\", \"GO\", \"Divorciado\"],\n",
    "    [\"Sarah Connor\", 50, \"F\", \"22/08/1970\", \"Los Angeles\", \"LA\", gerar_cpf(), \"Militar\", \"Porto Alegre\", \"RS\", \"Viúva\"],\n",
    "    [\"Ethan Hunt\", 45, \"M\", \"04/07/1975\", \"Madison\", \"WI\", gerar_cpf(), \"Agente Secreto\", \"Belém\", \"PA\", \"Solteiro\"],\n",
    "    [\"Lara Croft\", 35, \"F\", \"14/02/1985\", \"Wimbledon\", \"IN\", gerar_cpf(), \"Aventureira\", \"Palmas\", \"TO\", \"Solteira\"],\n",
    "    [\"Ellen Ripley\", 38, \"F\", \"26/04/1982\", \"Olympia\", \"WA\", gerar_cpf(), \"Oficial de Voo\", \"Brasília\", \"DF\", \"Viúva\"],\n",
    "    [\"John Rambo\", 70, \"M\", \"06/06/1950\", \"Bowman\", \"ND\", gerar_cpf(), \"Veterano de Guerra\", \"Salvador\", \"BA\", \"Solteiro\"],\n",
    "    [\"Tony Stark\", 48, \"M\", \"29/05/1972\", \"Long Island\", \"NY\", gerar_cpf(), \"Empresário\", \"Fortaleza\", \"CE\", \"Casado\"],\n",
    "    [\"Bruce Wayne\", 42, \"M\", \"19/11/1978\", \"Gotham City\", \"NJ\", gerar_cpf(), \"Empresário\", \"Manaus\", \"AM\", \"Solteiro\"],\n",
    "    [\"Diana Prince\", 30, \"F\", \"17/12/1990\", \"Themyscira\", \"GR\", gerar_cpf(), \"Amazona\", \"Curitiba\", \"PR\", \"Solteira\"],\n",
    "    [\"Peter Parker\", 25, \"M\", \"10/08/1995\", \"Nova York\", \"NY\", gerar_cpf(), \"Estudante\", \"Recife\", \"PE\", \"Solteiro\"],\n",
    "    [\"Selina B. Kyle\", 38, \"F\", \"05/01/1982\", \"Gotham City\", \"NJ\", gerar_cpf(), \"Ladra\", \"João Pessoa\", \"PB\", \"Solteira\"],\n",
    "    [\"Clark\", 35, \"M\", \"18/04/1985\", \"Smallville\", \"KS\", gerar_cpf(), \"Jornalista\", \"Florianópolis\", \"SC\", \"Solteiro\"],\n",
    "]"
   ]
  },
  {
   "cell_type": "code",
   "execution_count": null,
   "metadata": {},
   "outputs": [
    {
     "name": "stdout",
     "output_type": "stream",
     "text": [
      "{'nome': 'James Bond', 'idade': 40, 'sexo': 'M', 'data_nascimento': '11/11/1980', 'cidade_natal': 'Londres', 'estado_natal': 'IN', 'cpf': '274.129.508-52', 'profissao': 'Agente Secreto', 'cidade_atual': 'São Paulo', 'estado_atual': 'SP', 'estado_civil': 'Solteiro'}\n",
      "{'nome': 'Jason Bourne', 'idade': 45, 'sexo': 'M', 'data_nascimento': '15/03/1975', 'cidade_natal': 'Nixa', 'estado_natal': 'MO', 'cpf': '679.280.272-84', 'profissao': 'Agente Secreto', 'cidade_atual': 'Rio de Janeiro', 'estado_atual': 'RJ', 'estado_civil': 'Solteiro'}\n",
      "{'nome': 'Indiana Jones', 'idade': 45, 'sexo': 'M', 'data_nascimento': '01/07/1975', 'cidade_natal': 'Princeton', 'estado_natal': 'NJ', 'cpf': '329.542.745-40', 'profissao': 'Arqueólogo', 'cidade_atual': 'Anápolis', 'estado_atual': 'GO', 'estado_civil': 'Divorciado'}\n",
      "{'nome': 'Sarah Connor', 'idade': 50, 'sexo': 'F', 'data_nascimento': '22/08/1970', 'cidade_natal': 'Los Angeles', 'estado_natal': 'LA', 'cpf': '863.335.622-49', 'profissao': 'Militar', 'cidade_atual': 'Porto Alegre', 'estado_atual': 'RS', 'estado_civil': 'Viúva'}\n",
      "{'nome': 'Ethan Hunt', 'idade': 45, 'sexo': 'M', 'data_nascimento': '04/07/1975', 'cidade_natal': 'Madison', 'estado_natal': 'WI', 'cpf': '329.481.830-54', 'profissao': 'Agente Secreto', 'cidade_atual': 'Belém', 'estado_atual': 'PA', 'estado_civil': 'Solteiro'}\n",
      "{'nome': 'Lara Croft', 'idade': 35, 'sexo': 'F', 'data_nascimento': '14/02/1985', 'cidade_natal': 'Wimbledon', 'estado_natal': 'IN', 'cpf': '717.482.406-24', 'profissao': 'Aventureira', 'cidade_atual': 'Palmas', 'estado_atual': 'TO', 'estado_civil': 'Solteira'}\n",
      "{'nome': 'Ellen Ripley', 'idade': 38, 'sexo': 'F', 'data_nascimento': '26/04/1982', 'cidade_natal': 'Olympia', 'estado_natal': 'WA', 'cpf': '850.205.517-45', 'profissao': 'Oficial de Voo', 'cidade_atual': 'Brasília', 'estado_atual': 'DF', 'estado_civil': 'Viúva'}\n",
      "{'nome': 'John Rambo', 'idade': 70, 'sexo': 'M', 'data_nascimento': '06/06/1950', 'cidade_natal': 'Bowman', 'estado_natal': 'ND', 'cpf': '651.187.978-95', 'profissao': 'Veterano de Guerra', 'cidade_atual': 'Salvador', 'estado_atual': 'BA', 'estado_civil': 'Solteiro'}\n",
      "{'nome': 'Tony Stark', 'idade': 48, 'sexo': 'M', 'data_nascimento': '29/05/1972', 'cidade_natal': 'Long Island', 'estado_natal': 'NY', 'cpf': '840.950.359-28', 'profissao': 'Empresário', 'cidade_atual': 'Fortaleza', 'estado_atual': 'CE', 'estado_civil': 'Casado'}\n",
      "{'nome': 'Bruce Wayne', 'idade': 42, 'sexo': 'M', 'data_nascimento': '19/11/1978', 'cidade_natal': 'Gotham City', 'estado_natal': 'NJ', 'cpf': '771.695.779-68', 'profissao': 'Empresário', 'cidade_atual': 'Manaus', 'estado_atual': 'AM', 'estado_civil': 'Solteiro'}\n",
      "{'nome': 'Diana Prince', 'idade': 30, 'sexo': 'F', 'data_nascimento': '17/12/1990', 'cidade_natal': 'Themyscira', 'estado_natal': 'GR', 'cpf': '563.121.772-28', 'profissao': 'Amazona', 'cidade_atual': 'Curitiba', 'estado_atual': 'PR', 'estado_civil': 'Solteira'}\n",
      "{'nome': 'Peter Parker', 'idade': 25, 'sexo': 'M', 'data_nascimento': '10/08/1995', 'cidade_natal': 'Nova York', 'estado_natal': 'NY', 'cpf': '509.766.857-65', 'profissao': 'Estudante', 'cidade_atual': 'Recife', 'estado_atual': 'PE', 'estado_civil': 'Solteiro'}\n",
      "{'nome': 'Selina B. Kyle', 'idade': 38, 'sexo': 'F', 'data_nascimento': '05/01/1982', 'cidade_natal': 'Gotham City', 'estado_natal': 'NJ', 'cpf': '787.187.500-46', 'profissao': 'Ladra', 'cidade_atual': 'João Pessoa', 'estado_atual': 'PB', 'estado_civil': 'Solteira'}\n",
      "{'nome': 'Clark', 'idade': 35, 'sexo': 'M', 'data_nascimento': '18/04/1985', 'cidade_natal': 'Smallville', 'estado_natal': 'KS', 'cpf': '256.700.589-86', 'profissao': 'Jornalista', 'cidade_atual': 'Florianópolis', 'estado_atual': 'SC', 'estado_civil': 'Solteiro'}\n"
     ]
    }
   ],
   "source": [
    "# Definindo as chaves (keys) para o dicionário\n",
    "keys = [\"nome\", \"idade\", \"sexo\", \"data_nascimento\", \"cidade_natal\", \"estado_natal\", \"cpf\", \"profissao\", \"cidade_atual\", \"estado_atual\", \"estado_civil\"]\n",
    "\n",
    "# Convertendo a lista de listas em uma lista de dicionários\n",
    "potenciais_doadores_dict = [dict(zip(keys, doador)) for doador in potenciais_doadores]\n",
    "\n",
    "# Exibindo o resultado\n",
    "for doador in potenciais_doadores_dict:\n",
    "    print(doador)"
   ]
  },
  {
   "cell_type": "markdown",
   "metadata": {},
   "source": [
    "- Você está realizando um inventário de dados e precisa imprimir nomes e gêneros:"
   ]
  },
  {
   "cell_type": "code",
   "execution_count": 29,
   "metadata": {},
   "outputs": [
    {
     "name": "stdout",
     "output_type": "stream",
     "text": [
      "dict_items([('nome', 'James Bond'), ('idade', 40), ('sexo', 'M'), ('data_nascimento', '11/11/1980'), ('cidade_natal', 'Londres'), ('estado_natal', 'IN'), ('cpf', '274.129.508-52'), ('profissao', 'Agente Secreto'), ('cidade_atual', 'São Paulo'), ('estado_atual', 'SP'), ('estado_civil', 'Solteiro')])\n"
     ]
    }
   ],
   "source": [
    "print(potenciais_doadores_dict[0].items())"
   ]
  },
  {
   "cell_type": "markdown",
   "metadata": {},
   "source": [
    "- Então, você precisa imprimir chaves e valores separadamente:"
   ]
  },
  {
   "cell_type": "code",
   "execution_count": 31,
   "metadata": {},
   "outputs": [
    {
     "name": "stdout",
     "output_type": "stream",
     "text": [
      "dict_keys(['nome', 'idade', 'sexo', 'data_nascimento', 'cidade_natal', 'estado_natal', 'cpf', 'profissao', 'cidade_atual', 'estado_atual', 'estado_civil'])\n",
      "['nome', 'idade', 'sexo', 'data_nascimento', 'cidade_natal', 'estado_natal', 'cpf', 'profissao', 'cidade_atual', 'estado_atual', 'estado_civil']\n",
      "dict_values(['Jason Bourne', 45, 'M', '15/03/1975', 'Nixa', 'MO', '679.280.272-84', 'Agente Secreto', 'Rio de Janeiro', 'RJ', 'Solteiro'])\n",
      "['Jason Bourne', 45, 'M', '15/03/1975', 'Nixa', 'MO', '679.280.272-84', 'Agente Secreto', 'Rio de Janeiro', 'RJ', 'Solteiro']\n"
     ]
    }
   ],
   "source": [
    "# chaves como items do dicionário\n",
    "print(potenciais_doadores_dict[1].keys())\n",
    "# chaves como uma lista \n",
    "print(list(potenciais_doadores_dict[1].keys()))\n",
    "\n",
    "# valores como valores do dicionário\n",
    "print(potenciais_doadores_dict[1].values())\n",
    "# valores como uma lista\n",
    "print(list(potenciais_doadores_dict[1].values()))"
   ]
  },
  {
   "cell_type": "markdown",
   "metadata": {},
   "source": [
    "- Você percebe que o nome do doador \"Clark\" está incompleto, então você o corrige:"
   ]
  },
  {
   "cell_type": "code",
   "execution_count": 33,
   "metadata": {},
   "outputs": [
    {
     "name": "stdout",
     "output_type": "stream",
     "text": [
      "Nome incompleto: Clark\n"
     ]
    }
   ],
   "source": [
    "print(f\"Nome incompleto: {potenciais_doadores_dict[-1][\"nome\"]}\")"
   ]
  },
  {
   "cell_type": "code",
   "execution_count": 34,
   "metadata": {},
   "outputs": [],
   "source": [
    "potenciais_doadores_dict[-1][\"nome\"] = \"Clark Kent\""
   ]
  },
  {
   "cell_type": "code",
   "execution_count": 35,
   "metadata": {},
   "outputs": [
    {
     "name": "stdout",
     "output_type": "stream",
     "text": [
      "Nome completo: Clark Kent\n"
     ]
    }
   ],
   "source": [
    "print(f\"Nome completo: {potenciais_doadores_dict[-1][\"nome\"]}\")"
   ]
  },
  {
   "cell_type": "markdown",
   "metadata": {},
   "source": [
    "- Então você adiciona dois novos potenciais doadores:\n",
    "\n",
    "        - [\"Alice\", 30, \"F\", \"15/01/1990\", \"Raccoon City\", \"AR\", gerar_cpf(), \"Agente de Segurança\", \"Belo Horizonte\", \"MG\", \"Solteira\"]\n",
    "\n",
    "        - [\"Dominic Toretto\", 45, \"M\", \"04/07/1975\", \"Los Angeles\", \"CA\", gerar_cpf(), \"Mecânico\", \"Porto Velho\", \"RO\", \"Casado\"]\n"
   ]
  },
  {
   "cell_type": "code",
   "execution_count": 36,
   "metadata": {},
   "outputs": [
    {
     "name": "stdout",
     "output_type": "stream",
     "text": [
      "{'nome': 'Alice', 'idade': 30, 'sexo': 'F', 'data_nascimento': '15/01/1990', 'cidade_natal': 'Raccoon City', 'estado_natal': 'AR', 'cpf': '595.909.211-38', 'profissao': 'Agente de Segurança', 'cidade_atual': 'Belo Horizonte', 'estado_atual': 'MG', 'estado_civil': 'Solteira'}\n"
     ]
    }
   ],
   "source": [
    "novo_doador = [\"Alice\", 30, \"F\", \"15/01/1990\", \"Raccoon City\", \"AR\", gerar_cpf(), \"Agente de Segurança\", \"Belo Horizonte\", \"MG\", \"Solteira\"]\n",
    "potenciais_doadores_dict.append(dict(zip(keys, novo_doador)))\n",
    "\n",
    "print(potenciais_doadores_dict[-1])"
   ]
  },
  {
   "cell_type": "code",
   "execution_count": 37,
   "metadata": {},
   "outputs": [
    {
     "name": "stdout",
     "output_type": "stream",
     "text": [
      "{'nome': 'Dominic Toretto', 'idade': 45, 'sexo': 'M', 'data_nascimento': '04/07/1975', 'cidade_natal': 'Los Angeles', 'estado_natal': 'CA', 'cpf': '937.657.646-91', 'profissao': 'Mecânico', 'cidade_atual': 'Porto Velho', 'estado_atual': 'RO', 'estado_civil': 'Casado'}\n"
     ]
    }
   ],
   "source": [
    "novo_doador = [\"Dominic Toretto\", 45, \"M\", \"04/07/1975\", \"Los Angeles\", \"CA\", gerar_cpf(), \"Mecânico\", \"Porto Velho\", \"RO\", \"Casado\"]\n",
    "potenciais_doadores_dict.append(dict(zip(keys, novo_doador)))\n",
    "\n",
    "print(potenciais_doadores_dict[-1])"
   ]
  },
  {
   "cell_type": "code",
   "execution_count": 39,
   "metadata": {},
   "outputs": [
    {
     "name": "stdout",
     "output_type": "stream",
     "text": [
      "[{'nome': 'James Bond', 'idade': 40, 'sexo': 'M', 'data_nascimento': '11/11/1980', 'cidade_natal': 'Londres', 'estado_natal': 'IN', 'cpf': '274.129.508-52', 'profissao': 'Agente Secreto', 'cidade_atual': 'São Paulo', 'estado_atual': 'SP', 'estado_civil': 'Solteiro'}, {'nome': 'Jason Bourne', 'idade': 45, 'sexo': 'M', 'data_nascimento': '15/03/1975', 'cidade_natal': 'Nixa', 'estado_natal': 'MO', 'cpf': '679.280.272-84', 'profissao': 'Agente Secreto', 'cidade_atual': 'Rio de Janeiro', 'estado_atual': 'RJ', 'estado_civil': 'Solteiro'}, {'nome': 'Indiana Jones', 'idade': 45, 'sexo': 'M', 'data_nascimento': '01/07/1975', 'cidade_natal': 'Princeton', 'estado_natal': 'NJ', 'cpf': '329.542.745-40', 'profissao': 'Arqueólogo', 'cidade_atual': 'Anápolis', 'estado_atual': 'GO', 'estado_civil': 'Divorciado'}, {'nome': 'Sarah Connor', 'idade': 50, 'sexo': 'F', 'data_nascimento': '22/08/1970', 'cidade_natal': 'Los Angeles', 'estado_natal': 'LA', 'cpf': '863.335.622-49', 'profissao': 'Militar', 'cidade_atual': 'Porto Alegre', 'estado_atual': 'RS', 'estado_civil': 'Viúva'}, {'nome': 'Ethan Hunt', 'idade': 45, 'sexo': 'M', 'data_nascimento': '04/07/1975', 'cidade_natal': 'Madison', 'estado_natal': 'WI', 'cpf': '329.481.830-54', 'profissao': 'Agente Secreto', 'cidade_atual': 'Belém', 'estado_atual': 'PA', 'estado_civil': 'Solteiro'}, {'nome': 'Lara Croft', 'idade': 35, 'sexo': 'F', 'data_nascimento': '14/02/1985', 'cidade_natal': 'Wimbledon', 'estado_natal': 'IN', 'cpf': '717.482.406-24', 'profissao': 'Aventureira', 'cidade_atual': 'Palmas', 'estado_atual': 'TO', 'estado_civil': 'Solteira'}, {'nome': 'Ellen Ripley', 'idade': 38, 'sexo': 'F', 'data_nascimento': '26/04/1982', 'cidade_natal': 'Olympia', 'estado_natal': 'WA', 'cpf': '850.205.517-45', 'profissao': 'Oficial de Voo', 'cidade_atual': 'Brasília', 'estado_atual': 'DF', 'estado_civil': 'Viúva'}, {'nome': 'John Rambo', 'idade': 70, 'sexo': 'M', 'data_nascimento': '06/06/1950', 'cidade_natal': 'Bowman', 'estado_natal': 'ND', 'cpf': '651.187.978-95', 'profissao': 'Veterano de Guerra', 'cidade_atual': 'Salvador', 'estado_atual': 'BA', 'estado_civil': 'Solteiro'}, {'nome': 'Tony Stark', 'idade': 48, 'sexo': 'M', 'data_nascimento': '29/05/1972', 'cidade_natal': 'Long Island', 'estado_natal': 'NY', 'cpf': '840.950.359-28', 'profissao': 'Empresário', 'cidade_atual': 'Fortaleza', 'estado_atual': 'CE', 'estado_civil': 'Casado'}, {'nome': 'Bruce Wayne', 'idade': 42, 'sexo': 'M', 'data_nascimento': '19/11/1978', 'cidade_natal': 'Gotham City', 'estado_natal': 'NJ', 'cpf': '771.695.779-68', 'profissao': 'Empresário', 'cidade_atual': 'Manaus', 'estado_atual': 'AM', 'estado_civil': 'Solteiro'}, {'nome': 'Diana Prince', 'idade': 30, 'sexo': 'F', 'data_nascimento': '17/12/1990', 'cidade_natal': 'Themyscira', 'estado_natal': 'GR', 'cpf': '563.121.772-28', 'profissao': 'Amazona', 'cidade_atual': 'Curitiba', 'estado_atual': 'PR', 'estado_civil': 'Solteira'}, {'nome': 'Peter Parker', 'idade': 25, 'sexo': 'M', 'data_nascimento': '10/08/1995', 'cidade_natal': 'Nova York', 'estado_natal': 'NY', 'cpf': '509.766.857-65', 'profissao': 'Estudante', 'cidade_atual': 'Recife', 'estado_atual': 'PE', 'estado_civil': 'Solteiro'}, {'nome': 'Selina B. Kyle', 'idade': 38, 'sexo': 'F', 'data_nascimento': '05/01/1982', 'cidade_natal': 'Gotham City', 'estado_natal': 'NJ', 'cpf': '787.187.500-46', 'profissao': 'Ladra', 'cidade_atual': 'João Pessoa', 'estado_atual': 'PB', 'estado_civil': 'Solteira'}, {'nome': 'Clark Kent', 'idade': 35, 'sexo': 'M', 'data_nascimento': '18/04/1985', 'cidade_natal': 'Smallville', 'estado_natal': 'KS', 'cpf': '256.700.589-86', 'profissao': 'Jornalista', 'cidade_atual': 'Florianópolis', 'estado_atual': 'SC', 'estado_civil': 'Solteiro'}, {'nome': 'Alice', 'idade': 30, 'sexo': 'F', 'data_nascimento': '15/01/1990', 'cidade_natal': 'Raccoon City', 'estado_natal': 'AR', 'cpf': '595.909.211-38', 'profissao': 'Agente de Segurança', 'cidade_atual': 'Belo Horizonte', 'estado_atual': 'MG', 'estado_civil': 'Solteira'}, {'nome': 'Dominic Toretto', 'idade': 45, 'sexo': 'M', 'data_nascimento': '04/07/1975', 'cidade_natal': 'Los Angeles', 'estado_natal': 'CA', 'cpf': '937.657.646-91', 'profissao': 'Mecânico', 'cidade_atual': 'Porto Velho', 'estado_atual': 'RO', 'estado_civil': 'Casado'}]\n"
     ]
    }
   ],
   "source": [
    "print(potenciais_doadores_dict)"
   ]
  },
  {
   "cell_type": "markdown",
   "metadata": {},
   "source": [
    "- Finalmente você deseja remover os doadores \"Bruce Wayne\" e \"Tony Stark\" porque `morreram`:"
   ]
  },
  {
   "cell_type": "code",
   "execution_count": 40,
   "metadata": {},
   "outputs": [
    {
     "name": "stdout",
     "output_type": "stream",
     "text": [
      "{'nome': 'James Bond', 'idade': 40, 'sexo': 'M', 'data_nascimento': '11/11/1980', 'cidade_natal': 'Londres', 'estado_natal': 'IN', 'cpf': '274.129.508-52', 'profissao': 'Agente Secreto', 'cidade_atual': 'São Paulo', 'estado_atual': 'SP', 'estado_civil': 'Solteiro'}\n",
      "{'nome': 'Jason Bourne', 'idade': 45, 'sexo': 'M', 'data_nascimento': '15/03/1975', 'cidade_natal': 'Nixa', 'estado_natal': 'MO', 'cpf': '679.280.272-84', 'profissao': 'Agente Secreto', 'cidade_atual': 'Rio de Janeiro', 'estado_atual': 'RJ', 'estado_civil': 'Solteiro'}\n",
      "{'nome': 'Indiana Jones', 'idade': 45, 'sexo': 'M', 'data_nascimento': '01/07/1975', 'cidade_natal': 'Princeton', 'estado_natal': 'NJ', 'cpf': '329.542.745-40', 'profissao': 'Arqueólogo', 'cidade_atual': 'Anápolis', 'estado_atual': 'GO', 'estado_civil': 'Divorciado'}\n",
      "{'nome': 'Sarah Connor', 'idade': 50, 'sexo': 'F', 'data_nascimento': '22/08/1970', 'cidade_natal': 'Los Angeles', 'estado_natal': 'LA', 'cpf': '863.335.622-49', 'profissao': 'Militar', 'cidade_atual': 'Porto Alegre', 'estado_atual': 'RS', 'estado_civil': 'Viúva'}\n",
      "{'nome': 'Ethan Hunt', 'idade': 45, 'sexo': 'M', 'data_nascimento': '04/07/1975', 'cidade_natal': 'Madison', 'estado_natal': 'WI', 'cpf': '329.481.830-54', 'profissao': 'Agente Secreto', 'cidade_atual': 'Belém', 'estado_atual': 'PA', 'estado_civil': 'Solteiro'}\n",
      "{'nome': 'Lara Croft', 'idade': 35, 'sexo': 'F', 'data_nascimento': '14/02/1985', 'cidade_natal': 'Wimbledon', 'estado_natal': 'IN', 'cpf': '717.482.406-24', 'profissao': 'Aventureira', 'cidade_atual': 'Palmas', 'estado_atual': 'TO', 'estado_civil': 'Solteira'}\n",
      "{'nome': 'Ellen Ripley', 'idade': 38, 'sexo': 'F', 'data_nascimento': '26/04/1982', 'cidade_natal': 'Olympia', 'estado_natal': 'WA', 'cpf': '850.205.517-45', 'profissao': 'Oficial de Voo', 'cidade_atual': 'Brasília', 'estado_atual': 'DF', 'estado_civil': 'Viúva'}\n",
      "{'nome': 'John Rambo', 'idade': 70, 'sexo': 'M', 'data_nascimento': '06/06/1950', 'cidade_natal': 'Bowman', 'estado_natal': 'ND', 'cpf': '651.187.978-95', 'profissao': 'Veterano de Guerra', 'cidade_atual': 'Salvador', 'estado_atual': 'BA', 'estado_civil': 'Solteiro'}\n",
      "{'nome': 'Tony Stark', 'idade': 48, 'sexo': 'M', 'data_nascimento': '29/05/1972', 'cidade_natal': 'Long Island', 'estado_natal': 'NY', 'cpf': '840.950.359-28', 'profissao': 'Empresário', 'cidade_atual': 'Fortaleza', 'estado_atual': 'CE', 'estado_civil': 'Casado'}\n",
      "{'nome': 'Diana Prince', 'idade': 30, 'sexo': 'F', 'data_nascimento': '17/12/1990', 'cidade_natal': 'Themyscira', 'estado_natal': 'GR', 'cpf': '563.121.772-28', 'profissao': 'Amazona', 'cidade_atual': 'Curitiba', 'estado_atual': 'PR', 'estado_civil': 'Solteira'}\n",
      "{'nome': 'Peter Parker', 'idade': 25, 'sexo': 'M', 'data_nascimento': '10/08/1995', 'cidade_natal': 'Nova York', 'estado_natal': 'NY', 'cpf': '509.766.857-65', 'profissao': 'Estudante', 'cidade_atual': 'Recife', 'estado_atual': 'PE', 'estado_civil': 'Solteiro'}\n",
      "{'nome': 'Selina B. Kyle', 'idade': 38, 'sexo': 'F', 'data_nascimento': '05/01/1982', 'cidade_natal': 'Gotham City', 'estado_natal': 'NJ', 'cpf': '787.187.500-46', 'profissao': 'Ladra', 'cidade_atual': 'João Pessoa', 'estado_atual': 'PB', 'estado_civil': 'Solteira'}\n",
      "{'nome': 'Clark Kent', 'idade': 35, 'sexo': 'M', 'data_nascimento': '18/04/1985', 'cidade_natal': 'Smallville', 'estado_natal': 'KS', 'cpf': '256.700.589-86', 'profissao': 'Jornalista', 'cidade_atual': 'Florianópolis', 'estado_atual': 'SC', 'estado_civil': 'Solteiro'}\n",
      "{'nome': 'Alice', 'idade': 30, 'sexo': 'F', 'data_nascimento': '15/01/1990', 'cidade_natal': 'Raccoon City', 'estado_natal': 'AR', 'cpf': '595.909.211-38', 'profissao': 'Agente de Segurança', 'cidade_atual': 'Belo Horizonte', 'estado_atual': 'MG', 'estado_civil': 'Solteira'}\n",
      "{'nome': 'Dominic Toretto', 'idade': 45, 'sexo': 'M', 'data_nascimento': '04/07/1975', 'cidade_natal': 'Los Angeles', 'estado_natal': 'CA', 'cpf': '937.657.646-91', 'profissao': 'Mecânico', 'cidade_atual': 'Porto Velho', 'estado_atual': 'RO', 'estado_civil': 'Casado'}\n"
     ]
    }
   ],
   "source": [
    "# deletando \"Bruce Wayne\" da lista\n",
    "del potenciais_doadores_dict[9]\n",
    "# Exibindo o resultado\n",
    "for doador in potenciais_doadores_dict:\n",
    "    print(doador)"
   ]
  },
  {
   "cell_type": "code",
   "execution_count": 41,
   "metadata": {},
   "outputs": [
    {
     "name": "stdout",
     "output_type": "stream",
     "text": [
      "{'nome': 'James Bond', 'idade': 40, 'sexo': 'M', 'data_nascimento': '11/11/1980', 'cidade_natal': 'Londres', 'estado_natal': 'IN', 'cpf': '274.129.508-52', 'profissao': 'Agente Secreto', 'cidade_atual': 'São Paulo', 'estado_atual': 'SP', 'estado_civil': 'Solteiro'}\n",
      "{'nome': 'Jason Bourne', 'idade': 45, 'sexo': 'M', 'data_nascimento': '15/03/1975', 'cidade_natal': 'Nixa', 'estado_natal': 'MO', 'cpf': '679.280.272-84', 'profissao': 'Agente Secreto', 'cidade_atual': 'Rio de Janeiro', 'estado_atual': 'RJ', 'estado_civil': 'Solteiro'}\n",
      "{'nome': 'Indiana Jones', 'idade': 45, 'sexo': 'M', 'data_nascimento': '01/07/1975', 'cidade_natal': 'Princeton', 'estado_natal': 'NJ', 'cpf': '329.542.745-40', 'profissao': 'Arqueólogo', 'cidade_atual': 'Anápolis', 'estado_atual': 'GO', 'estado_civil': 'Divorciado'}\n",
      "{'nome': 'Sarah Connor', 'idade': 50, 'sexo': 'F', 'data_nascimento': '22/08/1970', 'cidade_natal': 'Los Angeles', 'estado_natal': 'LA', 'cpf': '863.335.622-49', 'profissao': 'Militar', 'cidade_atual': 'Porto Alegre', 'estado_atual': 'RS', 'estado_civil': 'Viúva'}\n",
      "{'nome': 'Ethan Hunt', 'idade': 45, 'sexo': 'M', 'data_nascimento': '04/07/1975', 'cidade_natal': 'Madison', 'estado_natal': 'WI', 'cpf': '329.481.830-54', 'profissao': 'Agente Secreto', 'cidade_atual': 'Belém', 'estado_atual': 'PA', 'estado_civil': 'Solteiro'}\n",
      "{'nome': 'Lara Croft', 'idade': 35, 'sexo': 'F', 'data_nascimento': '14/02/1985', 'cidade_natal': 'Wimbledon', 'estado_natal': 'IN', 'cpf': '717.482.406-24', 'profissao': 'Aventureira', 'cidade_atual': 'Palmas', 'estado_atual': 'TO', 'estado_civil': 'Solteira'}\n",
      "{'nome': 'Ellen Ripley', 'idade': 38, 'sexo': 'F', 'data_nascimento': '26/04/1982', 'cidade_natal': 'Olympia', 'estado_natal': 'WA', 'cpf': '850.205.517-45', 'profissao': 'Oficial de Voo', 'cidade_atual': 'Brasília', 'estado_atual': 'DF', 'estado_civil': 'Viúva'}\n",
      "{'nome': 'John Rambo', 'idade': 70, 'sexo': 'M', 'data_nascimento': '06/06/1950', 'cidade_natal': 'Bowman', 'estado_natal': 'ND', 'cpf': '651.187.978-95', 'profissao': 'Veterano de Guerra', 'cidade_atual': 'Salvador', 'estado_atual': 'BA', 'estado_civil': 'Solteiro'}\n",
      "{'nome': 'Diana Prince', 'idade': 30, 'sexo': 'F', 'data_nascimento': '17/12/1990', 'cidade_natal': 'Themyscira', 'estado_natal': 'GR', 'cpf': '563.121.772-28', 'profissao': 'Amazona', 'cidade_atual': 'Curitiba', 'estado_atual': 'PR', 'estado_civil': 'Solteira'}\n",
      "{'nome': 'Peter Parker', 'idade': 25, 'sexo': 'M', 'data_nascimento': '10/08/1995', 'cidade_natal': 'Nova York', 'estado_natal': 'NY', 'cpf': '509.766.857-65', 'profissao': 'Estudante', 'cidade_atual': 'Recife', 'estado_atual': 'PE', 'estado_civil': 'Solteiro'}\n",
      "{'nome': 'Selina B. Kyle', 'idade': 38, 'sexo': 'F', 'data_nascimento': '05/01/1982', 'cidade_natal': 'Gotham City', 'estado_natal': 'NJ', 'cpf': '787.187.500-46', 'profissao': 'Ladra', 'cidade_atual': 'João Pessoa', 'estado_atual': 'PB', 'estado_civil': 'Solteira'}\n",
      "{'nome': 'Clark Kent', 'idade': 35, 'sexo': 'M', 'data_nascimento': '18/04/1985', 'cidade_natal': 'Smallville', 'estado_natal': 'KS', 'cpf': '256.700.589-86', 'profissao': 'Jornalista', 'cidade_atual': 'Florianópolis', 'estado_atual': 'SC', 'estado_civil': 'Solteiro'}\n",
      "{'nome': 'Alice', 'idade': 30, 'sexo': 'F', 'data_nascimento': '15/01/1990', 'cidade_natal': 'Raccoon City', 'estado_natal': 'AR', 'cpf': '595.909.211-38', 'profissao': 'Agente de Segurança', 'cidade_atual': 'Belo Horizonte', 'estado_atual': 'MG', 'estado_civil': 'Solteira'}\n",
      "{'nome': 'Dominic Toretto', 'idade': 45, 'sexo': 'M', 'data_nascimento': '04/07/1975', 'cidade_natal': 'Los Angeles', 'estado_natal': 'CA', 'cpf': '937.657.646-91', 'profissao': 'Mecânico', 'cidade_atual': 'Porto Velho', 'estado_atual': 'RO', 'estado_civil': 'Casado'}\n"
     ]
    }
   ],
   "source": [
    "# deletando \"Tony Stark\" da lista\n",
    "potenciais_doadores_dict.pop(8)\n",
    "# Exibindo o resultado\n",
    "for doador in potenciais_doadores_dict:\n",
    "    print(doador)"
   ]
  },
  {
   "cell_type": "markdown",
   "metadata": {},
   "source": [
    "- Como descobri o índice de uma lista de dicionários com base em algum valor do dicionário?\n",
    "\n",
    "Em Python, os dicionários não são indexados por números como listas ou tuplas. Eles são indexados por chaves, que podem ser de qualquer tipo imutável (como strings, números ou tuplas). Portanto, não há um \"índice\" numérico para um dicionário."
   ]
  },
  {
   "cell_type": "markdown",
   "metadata": {},
   "source": [
    "Para descobrir o índice de um dicionário em uma lista de dicionários com base em algum valor do dicionário, você pode usar uma combinação de um loop for com a função enumerate(). Isso permite iterar sobre a lista e acessar tanto o índice quanto o dicionário em cada iteração."
   ]
  },
  {
   "cell_type": "markdown",
   "metadata": {},
   "source": [
    "- Vamos deletar também o doador \"John Rambo\" da lista."
   ]
  },
  {
   "cell_type": "code",
   "execution_count": 42,
   "metadata": {},
   "outputs": [
    {
     "name": "stdout",
     "output_type": "stream",
     "text": [
      "O doador procurado está na posição 7\n"
     ]
    }
   ],
   "source": [
    "doador_procurado = \"John Rambo\"\n",
    "chave = \"nome\"\n",
    "indice = -1\n",
    "\n",
    "for i, dicionario in enumerate(potenciais_doadores_dict):\n",
    "    if dicionario.get(chave) == doador_procurado:\n",
    "        print(f\"O doador procurado está na posição {i}\")\n",
    "        indice = i\n",
    "        break\n",
    "    \n",
    "if not indice == -1:\n",
    "    del potenciais_doadores_dict[indice]\n",
    "else:\n",
    "    print(\"Doador não encontrado\")"
   ]
  },
  {
   "cell_type": "code",
   "execution_count": 43,
   "metadata": {},
   "outputs": [
    {
     "name": "stdout",
     "output_type": "stream",
     "text": [
      "{'nome': 'Diana Prince', 'idade': 30, 'sexo': 'F', 'data_nascimento': '17/12/1990', 'cidade_natal': 'Themyscira', 'estado_natal': 'GR', 'cpf': '563.121.772-28', 'profissao': 'Amazona', 'cidade_atual': 'Curitiba', 'estado_atual': 'PR', 'estado_civil': 'Solteira'}\n"
     ]
    }
   ],
   "source": [
    "print(potenciais_doadores_dict[7])"
   ]
  },
  {
   "cell_type": "markdown",
   "metadata": {},
   "source": [
    "### Principais funções associadas à classe `dict()`\n",
    "\n",
    "A classe `dict()` em Python é usada para criar e manipular dicionários, que são coleções de pares chave-valor. Aqui estão algumas das principais funções associadas a essa classe:\n",
    "\n",
    "1. **clear()**\n",
    "        - **Descrição:** Remove todos os itens do dicionário.\n",
    "        - **Exemplo:**\n",
    "          \n",
    "          ```python\n",
    "          d = {'a': 1, 'b': 2}\n",
    "          d.clear()\n",
    "          print(d)  # Output: {}\n",
    "          ```\n",
    "\n",
    "2. **copy()**\n",
    "        - **Descrição:** Retorna uma cópia rasa do dicionário.\n",
    "        - **Exemplo:**\n",
    "          \n",
    "          ```python\n",
    "          d = {'a': 1, 'b': 2}\n",
    "          d_copy = d.copy()\n",
    "          print(d_copy)  # Output: {'a': 1, 'b': 2}\n",
    "          ```\n",
    "\n",
    "3. **fromkeys()**\n",
    "        - **Descrição:** Cria um novo dicionário com chaves de um iterável e valores definidos como `None` ou um valor especificado.\n",
    "        - **Exemplo:**\n",
    "          \n",
    "          ```python\n",
    "          keys = ['a', 'b', 'c']\n",
    "          d = dict.fromkeys(keys, 0)\n",
    "          print(d)  # Output: {'a': 0, 'b': 0, 'c': 0}\n",
    "          ```\n",
    "\n",
    "4. **get()**\n",
    "        - **Descrição:** Retorna o valor para a chave especificada. Se a chave não existir, retorna um valor padrão (por padrão, `None`).\n",
    "        - **Exemplo:**\n",
    "          \n",
    "          ```python\n",
    "          d = {'a': 1, 'b': 2}\n",
    "          print(d.get('a'))  # Output: 1\n",
    "          print(d.get('c', 0))  # Output: 0\n",
    "          ```\n",
    "\n",
    "5. **items()**\n",
    "        - **Descrição:** Retorna uma visão de objetos dos pares chave-valor do dicionário.\n",
    "        - **Exemplo:**\n",
    "          \n",
    "          ```python\n",
    "          d = {'a': 1, 'b': 2}\n",
    "          print(d.items())  # Output: dict_items([('a', 1), ('b', 2)])\n",
    "          ```\n",
    "\n",
    "6. **keys()**\n",
    "        - **Descrição:** Retorna uma visão de objetos das chaves do dicionário.\n",
    "        - **Exemplo:**\n",
    "          \n",
    "          ```python\n",
    "          d = {'a': 1, 'b': 2}\n",
    "          print(d.keys())  # Output: dict_keys(['a', 'b'])\n",
    "          ```\n",
    "\n",
    "7. **pop()**\n",
    "        - **Descrição:** Remove a chave especificada e retorna o valor correspondente. Se a chave não existir, retorna um valor padrão (por padrão, gera um erro).\n",
    "        - **Exemplo:**\n",
    "          \n",
    "          ```python\n",
    "          d = {'a': 1, 'b': 2}\n",
    "          print(d.pop('a'))  # Output: 1\n",
    "          print(d)  # Output: {'b': 2}\n",
    "          ```\n",
    "\n",
    "8. **popitem()**\n",
    "        - **Descrição:** Remove e retorna um par chave-valor arbitrário do dicionário.\n",
    "        - **Exemplo:**\n",
    "          \n",
    "          ```python\n",
    "          d = {'a': 1, 'b': 2}\n",
    "          print(d.popitem())  # Output: ('a', 1)\n",
    "          print(d)  # Output: {'b': 2}\n",
    "          ```\n",
    "\n",
    "9. **setdefault()**\n",
    "        - **Descrição:** Retorna o valor da chave especificada. Se a chave não existir, insere a chave com um valor padrão e retorna esse valor.\n",
    "        - **Exemplo:**\n",
    "          \n",
    "          ```python\n",
    "          d = {'a': 1}\n",
    "          print(d.setdefault('b', 2))  # Output: 2\n",
    "          print(d)  # Output: {'a': 1, 'b': 2}\n",
    "          ```\n",
    "\n",
    "10. **update()**\n",
    "         - **Descrição:** Atualiza o dicionário com pares chave-valor de outro dicionário ou de um iterável de pares chave-valor.\n",
    "         - **Exemplo:**\n",
    "                \n",
    "                ```python\n",
    "                d = {'a': 1}\n",
    "                d.update({'b': 2, 'c': 3})\n",
    "                print(d)  # Output: {'a': 1, 'b': 2, 'c': 3}\n",
    "                ```\n",
    "\n",
    "11. **values()**\n",
    "         - **Descrição:** Retorna uma visão de objetos dos valores do dicionário.\n",
    "         - **Exemplo:**\n",
    "                \n",
    "                ```python\n",
    "                d = {'a': 1, 'b': 2}\n",
    "                print(d.values())  # Output: dict_values([1, 2])\n",
    "                ```\n",
    "\n",
    "Essas funções permitem uma manipulação eficiente e flexível dos dicionários em Python, facilitando a criação, atualização e consulta de dados estruturados em pares chave-valor."
   ]
  }
 ],
 "metadata": {
  "kernelspec": {
   "display_name": "py_course (3.12.3)",
   "language": "python",
   "name": "python3"
  },
  "language_info": {
   "codemirror_mode": {
    "name": "ipython",
    "version": 3
   },
   "file_extension": ".py",
   "mimetype": "text/x-python",
   "name": "python",
   "nbconvert_exporter": "python",
   "pygments_lexer": "ipython3",
   "version": "3.12.3"
  },
  "widgets": {
   "application/vnd.jupyter.widget-state+json": {
    "state": {},
    "version_major": 2,
    "version_minor": 0
   }
  }
 },
 "nbformat": 4,
 "nbformat_minor": 4
}
