{
 "cells": [
  {
   "cell_type": "markdown",
   "metadata": {},
   "source": [
    "# Atividades Práticas\n",
    "\n",
    "[Aprenda Python com Jupyter](https://github.com/jeanto/python_programming_course_notebook) by [Jean Nunes](https://jeanto.github.io/jeannunes)   \n",
    "Code license: [GNU-GPL v3](https://www.gnu.org/licenses/gpl-3.0.en.html)\n",
    "\n",
    "---"
   ]
  },
  {
   "cell_type": "markdown",
   "metadata": {},
   "source": [
    "### 1. Gestão de Estoque\n",
    "\n",
    "I. Realize as validações na Opção 1, caso necessário;\n",
    "\n",
    "II. Realize as validações na Opção 2, caso necessário;\n",
    "\n",
    "III. Crie e gerencie as listas de doações dos centros de distribuição;\n",
    "\n",
    "IV. Gerencie adequadamente o processamento das doações considerando o estoque dos centros de distribuição;\n",
    "\n",
    "V. (Opcional): Crie uma solução para testar a aplicação automaticamente.\n",
    "\n",
    "#### Referência: [15_intro_to_algos_sndot.ipynb](../15_intro_to_algos_sndot.ipynb)\n",
    "---"
   ]
  },
  {
   "cell_type": "markdown",
   "metadata": {},
   "source": [
    "### 2. Extrai a coluna *CPF* da lista *potenciais_doadores* usando as seguintes estratégias: \n",
    "\n",
    "- 1. *loop for* aninhado através de *índices*;\n",
    "\n",
    "- 2. *loop for* aninhado através de *elementos*;\n",
    "\n",
    "- 3. *loop for* e concatenação de lista e;\n",
    "\n",
    "- 4. *list comprehension*.\n",
    "\n",
    "#### Referência: [16_list_of_lists.ipynb](../16_list_of_lists.ipynb)\n",
    "---"
   ]
  },
  {
   "cell_type": "markdown",
   "metadata": {},
   "source": [
    "### 3. Estruturando o programa em funções\n",
    "\n",
    "1. Refaça o código anterior de modo que as opções sejam tratadas em funções\n",
    "2. E se o potencial doador desejar doar mais de 1 órgão? Inclua essa possibilidade.\n",
    "\n",
    "#### Referência: [21_function_inputs.ipynb](../21_function_inputs.ipynb)\n"
   ]
  },
  {
   "cell_type": "markdown",
   "metadata": {
    "vscode": {
     "languageId": "plaintext"
    }
   },
   "source": [
    "---"
   ]
  },
  {
   "cell_type": "markdown",
   "metadata": {},
   "source": [
    "### 4. Dicionários\n",
    "\n",
    "- Considerando os dados já utilizados até então, a saber: Órgãos, Tipos de órgãos, Capitais, Regiões e Centros de Distribuição, disponha esses dados utilizando dicionários.\n",
    "\n",
    "#### Referência: [22_dictionaries.ipynb](../22_dictionaries.ipynb)\n"
   ]
  },
  {
   "cell_type": "markdown",
   "metadata": {},
   "source": [
    "---"
   ]
  },
  {
   "cell_type": "markdown",
   "metadata": {},
   "source": [
    "### 5. Functions output\n",
    "\n",
    "- Projete as funções da aplicações para realizar as validações de entrada, tanto do tipo quanto do valor.\n",
    "\n",
    "#### Referência: [25_function_io_validations.ipynb](../25_function_io_validations.ipynb)\n"
   ]
  }
 ],
 "metadata": {
  "language_info": {
   "name": "python"
  }
 },
 "nbformat": 4,
 "nbformat_minor": 2
}
