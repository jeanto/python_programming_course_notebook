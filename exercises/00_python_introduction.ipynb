{
 "cells": [
  {
   "cell_type": "markdown",
   "metadata": {},
   "source": [
    "# Atividades Práticas\n",
    "\n",
    "[Aprenda Python com Jupyter](https://github.com/jeanto/python_programming_course_notebook) by [Jean Nunes](https://jeanto.github.io/jeannunes)   \n",
    "Code license: [GNU-GPL v3](https://www.gnu.org/licenses/gpl-3.0.en.html)"
   ]
  },
  {
   "cell_type": "markdown",
   "metadata": {},
   "source": [
    "---\n",
    "### 1. Crie o menu principal do SNDO (Sistema Nacional de Doação de Órgãos e Tecidos) com as seguintes opções:\n",
    "\n",
    "1.  Cadastrar potencial doador\n",
    "2.  Adicionar doação\n",
    "3.  Processar doação (encaminhar para transplante) \n",
    "4.  Exibir estoque atual dos Centros de Distribuição\n",
    "5.  Exibir histórico de doações\n",
    "6.  Finalizar aplicação\n",
    "\n",
    "\n",
    "#### Referência: [01_string_input_print.ipynb](../01_string_input_print.ipynb)\n",
    "---"
   ]
  },
  {
   "cell_type": "markdown",
   "metadata": {},
   "source": [
    "### 2. Crie um formulário de cadastro de pontencial doadores com os seguintes dados:\n",
    "\n",
    "### Dados Pessoais\n",
    "- Nome\n",
    "- Idade\n",
    "- Sexo\n",
    "- Data de Nascimento\n",
    "- Estado de Nascimento\n",
    "- CPF\n",
    "- Estado Civil\n",
    "- Cidade/Estado de Nascimento\n",
    "- Profissão\n",
    "- Tipo Sanguíneo \n",
    "\n",
    "### Contato\n",
    "- Telefone\n",
    "- Email\n",
    "\n",
    "### Endereço Atual\n",
    "- Rua\n",
    "- Número\n",
    "- Cidade\n",
    "- Estado\n",
    "- CEP\n",
    "- Complemento\n",
    "\n",
    "\n",
    "\n",
    "#### Referência: [02_vars.ipynb](../02_vars.ipynb)\n",
    "---"
   ]
  },
  {
   "cell_type": "markdown",
   "metadata": {},
   "source": [
    "### 3. Com o menu principal do SNDOT criado, solicite a opção do menu que o usuário deseja utilizar e faça as verificações usando if, elif e else:"
   ]
  },
  {
   "cell_type": "code",
   "execution_count": null,
   "metadata": {},
   "outputs": [],
   "source": [
    "print(\"🆂🅽🅳🅾🆃: 𝕾𝖎𝖘𝖙𝖊𝖒𝖆 𝕹𝖆𝖈𝖎𝖔𝖓𝖆𝖑 𝖉𝖊 𝕯𝖔𝖆𝖈̧𝖆̃𝖔 𝖉𝖊 𝕺́𝖗𝖌𝖆̃𝖔𝖘 𝖊 𝕿𝖊𝖈𝖎𝖉𝖔𝖘\")\n",
    "print(''' \n",
    "    1.  Cadastrar potencial doador\n",
    "    2.  Adicionar doação\n",
    "    3.  Processar doação (encaminhar para transplante) \n",
    "    4.  Exibir estoque atual dos Centros de Distribuição\n",
    "    5.  Exibir histórico de doações\n",
    "    6.  Finalizar aplicação''')\n",
    "\n",
    "# usuário escolhe uma opção\n",
    "opcao = int(input(\"Escolha uma opção: \"))\n",
    "if opcao == 1: \n",
    "    print(\"Cadastrar potencial doador\")\n"
   ]
  },
  {
   "cell_type": "markdown",
   "metadata": {},
   "source": [
    "### Na opção 01, realize as seguintes validações e controles nos dados de entrada\n",
    "\n",
    "### Dados Pessoais\n",
    "- Nome: deve conter apenas caracteres alfabéticos \n",
    "- Idade: deve conter apenas números, não pode ser negativo e nem superior a 80 anos\n",
    "- Sexo: deve conter apenas um caractere igual a M ou F\n",
    "- Estado de Nascimento: deve conter apenas dois caracteres no formato de um dos 27 estados brasileiros\n",
    "- CPF: deve conter apenas 11 números no seguinte formato: xxx.xxx.xxx-xx\n",
    "\n",
    "### Contato\n",
    "- Telefone: deve conter apenas 10 ou 11 números (ex. 61943235345)\n",
    "\n",
    "\n",
    "\n",
    "#### Referência: [03_lists_if_in_else.ipynb](../03_lists_if_in_else.ipynb)\n",
    "---"
   ]
  },
  {
   "cell_type": "markdown",
   "metadata": {},
   "source": [
    "### 4. Observe que o código abaixo não realiza a validação adequamente e pode inserir órgãos que já estão contidos na lista. Desenvolva a validação adequada para que isso não ocorra, ou seja, apenas órgãos que não estão na lista devem ser adicionados."
   ]
  },
  {
   "cell_type": "code",
   "execution_count": null,
   "metadata": {},
   "outputs": [],
   "source": [
    "lista_de_orgaos = [\"Coração\", \"Rins\",  \"Fígado\", \"Pâncreas\", \"Pulmões\"]\n",
    "\n",
    "orgao_para_adicionar = input(\"Qual órgão você deseja adicionar na lista de órgãos?\\nCaso tenha mais de um órgão, separe-os por vírgula (Ex. 'Coracao, Pulmao, Pele').\")\n",
    "\n",
    "nova_lista_de_orgaos = orgao_para_adicionar.split(\", \")\n",
    "\n",
    "if nova_lista_de_orgaos in lista_de_orgaos:\n",
    "    print(f\"{orgao_para_adicionar} já está na lista de órgões que podem ser doados.\")\n",
    "    print(lista_de_orgaos) \n",
    "else:\n",
    "    lista_de_orgaos.extend(nova_lista_de_orgaos)\n",
    "    print(f\"{orgao_para_adicionar} adicionado com sucesso na lista de órgões que podem ser doados.\")\n",
    "    print(lista_de_orgaos)"
   ]
  },
  {
   "cell_type": "markdown",
   "metadata": {},
   "source": [
    "#### Referência: [04_lists_append_remove.ipynb](../04_lists_append_remove.ipynb)\n",
    "\n",
    "---"
   ]
  },
  {
   "cell_type": "markdown",
   "metadata": {},
   "source": [
    "### 5. Utilizando os métodos da classe <list> e a partir da lista geral de órgãos, crie a seguinte lista de um potencial doador:\n",
    "\n",
    "##### Roberto: Rins, Fígado, Intestino, Medula Óssea\n",
    "\n",
    "\n",
    "#### Referência: [05_lists_index_pop_insert.ipynb](../05_lists_index_pop_insert.ipynb)\n",
    "---"
   ]
  },
  {
   "cell_type": "markdown",
   "metadata": {},
   "source": [
    "### 6. Utilizando slicing, crie uma lista com os 3 centros de distribuição de órgãos (Brasília, Fortaleza e São Paulo) a partir da lista das capitais .\n",
    "\n",
    "\n",
    "#### Referência: [06_lists_slicing.ipynb](../06_lists_slicing.ipynb)\n",
    "---"
   ]
  }
 ],
 "metadata": {
  "language_info": {
   "name": "python"
  }
 },
 "nbformat": 4,
 "nbformat_minor": 2
}
