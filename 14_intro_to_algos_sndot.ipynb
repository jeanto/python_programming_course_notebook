{
 "cells": [
  {
   "cell_type": "markdown",
   "metadata": {},
   "source": [
    "# 14. Introduction to algorithms: SNDOT\n",
    "\n",
    "[Aprenda Python com Jupyter](https://github.com/jeanto/python_programming_course_notebook) by [Jean Nunes](https://jeanto.github.io/jeannunes)   \n",
    "Code license: [GNU-GPL v3](https://www.gnu.org/licenses/gpl-3.0.en.html)\n",
    "\n",
    "---"
   ]
  },
  {
   "cell_type": "markdown",
   "metadata": {},
   "source": [
    "### Menu"
   ]
  },
  {
   "cell_type": "code",
   "execution_count": 1,
   "metadata": {},
   "outputs": [
    {
     "name": "stdout",
     "output_type": "stream",
     "text": [
      "🆂🅽🅳🅾🆃: 𝕾𝖎𝖘𝖙𝖊𝖒𝖆 𝕹𝖆𝖈𝖎𝖔𝖓𝖆𝖑 𝖉𝖊 𝕯𝖔𝖆𝖈̧𝖆̃𝖔 𝖉𝖊 𝕺́𝖗𝖌𝖆̃𝖔𝖘 𝖊 𝕿𝖊𝖈𝖎𝖉𝖔𝖘\n",
      "O SNDOT deve permitir: \n",
      "    1.  Cadastrar potencial doador\n",
      "    2.  Adicionar doação\n",
      "    3.  Processar doação (encaminhar para transplante) \n",
      "    4.  Exibir estoque atual dos Centros de Distribuição\n",
      "    5.  Exibir histórico de doações\n",
      "    6.  Finalizar aplicação\n"
     ]
    }
   ],
   "source": [
    "print(\"🆂🅽🅳🅾🆃: 𝕾𝖎𝖘𝖙𝖊𝖒𝖆 𝕹𝖆𝖈𝖎𝖔𝖓𝖆𝖑 𝖉𝖊 𝕯𝖔𝖆𝖈̧𝖆̃𝖔 𝖉𝖊 𝕺́𝖗𝖌𝖆̃𝖔𝖘 𝖊 𝕿𝖊𝖈𝖎𝖉𝖔𝖘\")\n",
    "print('''O SNDOT deve permitir: \n",
    "    1.  Cadastrar potencial doador\n",
    "    2.  Adicionar doação\n",
    "    3.  Processar doação (encaminhar para transplante) \n",
    "    4.  Exibir estoque atual dos Centros de Distribuição\n",
    "    5.  Exibir histórico de doações\n",
    "    6.  Finalizar aplicação''')"
   ]
  },
  {
   "cell_type": "markdown",
   "metadata": {},
   "source": [
    "### Escolha do computador\n",
    "- Computador escolhe uma das opções:"
   ]
  },
  {
   "cell_type": "code",
   "execution_count": 2,
   "metadata": {},
   "outputs": [
    {
     "name": "stdout",
     "output_type": "stream",
     "text": [
      "5\n"
     ]
    }
   ],
   "source": [
    "# escolha aleatória do computador\n",
    "# lista de opções\n",
    "import random\n",
    "opcoes = [1,2,3,4,5,6]\n",
    "\n",
    "opcao = random.choice(opcoes)\n",
    "print(opcao)"
   ]
  },
  {
   "cell_type": "markdown",
   "metadata": {},
   "source": [
    "### Escolha do usuário\n",
    "- Usuário escolhe uma das opções:"
   ]
  },
  {
   "cell_type": "code",
   "execution_count": 3,
   "metadata": {},
   "outputs": [
    {
     "name": "stdout",
     "output_type": "stream",
     "text": [
      "4\n"
     ]
    }
   ],
   "source": [
    "# usuário escolhe uma opção\n",
    "opcao = input(\"Escolha uma opção: \")\n",
    "print(opcao)"
   ]
  },
  {
   "cell_type": "markdown",
   "metadata": {},
   "source": [
    "### Verifica a opção"
   ]
  },
  {
   "cell_type": "code",
   "execution_count": null,
   "metadata": {},
   "outputs": [],
   "source": [
    "if opcao == 1: \n",
    "    print(\"Cadastrar potencial doador\")\n",
    "elif opcao == 2: \n",
    "    print(\"Adicionar doação\")\n",
    "elif opcao == 3:\n",
    "    print(\"Processar doação (encaminhar para transplante)\")\n",
    "elif opcao == 4: \n",
    "    print(\"Exibir estoque atual dos Centros de Distribuição\")\n",
    "elif opcao == 5:\n",
    "    print(\"Exibir histórico de doações\")\n",
    "else: \n",
    "    print(\"Finalizar aplicação\")"
   ]
  },
  {
   "cell_type": "markdown",
   "metadata": {},
   "source": [
    "- Se opção for \"Cadastrar doador\":"
   ]
  },
  {
   "cell_type": "code",
   "execution_count": null,
   "metadata": {},
   "outputs": [],
   "source": [
    "if opcao == 1: \n",
    "    print(\"Cadastrar potencial doador\")"
   ]
  },
  {
   "cell_type": "markdown",
   "metadata": {},
   "source": [
    "- Se opção for \"Adicionar doações\""
   ]
  },
  {
   "cell_type": "code",
   "execution_count": null,
   "metadata": {},
   "outputs": [],
   "source": [
    "if opcao == 2: \n",
    "    print(\"Adicionar doação\")"
   ]
  },
  {
   "cell_type": "markdown",
   "metadata": {},
   "source": [
    "- Se opção for \"Processar doação (encaminhar para transplante)\""
   ]
  },
  {
   "cell_type": "code",
   "execution_count": null,
   "metadata": {},
   "outputs": [],
   "source": [
    "if opcao == 3: \n",
    "    print(\"Processar doação (encaminhar para transplante)\")"
   ]
  },
  {
   "cell_type": "markdown",
   "metadata": {},
   "source": [
    "- Se opção for \"Exibir estoque atual dos Centros de Distribuição\""
   ]
  },
  {
   "cell_type": "code",
   "execution_count": null,
   "metadata": {},
   "outputs": [],
   "source": [
    "if opcao == 4: \n",
    "    print(\"Exibir estoque atual dos Centros de Distribuição\")"
   ]
  },
  {
   "cell_type": "markdown",
   "metadata": {},
   "source": [
    "- Se opção for \"Exibir histórico de doações\""
   ]
  },
  {
   "cell_type": "code",
   "execution_count": null,
   "metadata": {},
   "outputs": [],
   "source": [
    "if opcao == 5: \n",
    "    print(\"Exibir histórico de doações\")"
   ]
  },
  {
   "cell_type": "markdown",
   "metadata": {},
   "source": [
    "- Se opção for \"Finalizar aplicação\""
   ]
  },
  {
   "cell_type": "code",
   "execution_count": null,
   "metadata": {},
   "outputs": [],
   "source": [
    "if opcao == 6: \n",
    "    print(\"Finalizar aplicação\")"
   ]
  },
  {
   "cell_type": "markdown",
   "metadata": {},
   "source": [
    "### Mesclando o código\n",
    "- Vamos mesclar o código:"
   ]
  },
  {
   "cell_type": "code",
   "execution_count": null,
   "metadata": {},
   "outputs": [],
   "source": [
    "import random\n",
    "\n",
    "# munu principal\n",
    "print(\"🆂🅽🅳🅾🆃: 𝕾𝖎𝖘𝖙𝖊𝖒𝖆 𝕹𝖆𝖈𝖎𝖔𝖓𝖆𝖑 𝖉𝖊 𝕯𝖔𝖆𝖈̧𝖆̃𝖔 𝖉𝖊 𝕺́𝖗𝖌𝖆̃𝖔𝖘 𝖊 𝕿𝖊𝖈𝖎𝖉𝖔𝖘\")\n",
    "print('''O SNDOT deve permitir: \n",
    "    1.  Cadastrar potencial doador\n",
    "    2.  Adicionar doação\n",
    "    3.  Processar doação (encaminhar para transplante) \n",
    "    4.  Exibir estoque atual dos Centros de Distribuição\n",
    "    5.  Exibir histórico de doações\n",
    "    6.  Finalizar aplicação''')\n",
    "\n",
    "# escolha aleatória do computador\n",
    "# lista de opções\n",
    "'''\n",
    "opcoes = [1,2,3,4,5,6]\n",
    "\n",
    "opcao = random.choice(opcoes)\n",
    "print(opcao)\n",
    "'''\n",
    "\n",
    "# usuário escolhe uma opção\n",
    "opcao = input(\"Escolha uma opção: \")\n",
    "print(opcao)\n",
    "\n",
    "if opcao == 1: \n",
    "    print(\"Cadastrar potencial doador\")\n",
    "elif opcao == 2: \n",
    "    print(\"Adicionar doação\")\n",
    "elif opcao == 3:\n",
    "    print(\"Processar doação (encaminhar para transplante)\")\n",
    "elif opcao == 4: \n",
    "    print(\"Exibir estoque atual dos Centros de Distribuição\")\n",
    "elif opcao == 5:\n",
    "    print(\"Exibir histórico de doações\")\n",
    "else: \n",
    "    print(\"Finalizar aplicação\")"
   ]
  }
 ],
 "metadata": {
  "kernelspec": {
   "display_name": "py_course (3.12.3)",
   "language": "python",
   "name": "python3"
  },
  "language_info": {
   "codemirror_mode": {
    "name": "ipython",
    "version": 3
   },
   "file_extension": ".py",
   "mimetype": "text/x-python",
   "name": "python",
   "nbconvert_exporter": "python",
   "pygments_lexer": "ipython3",
   "version": "3.12.3"
  },
  "widgets": {
   "application/vnd.jupyter.widget-state+json": {
    "state": {},
    "version_major": 2,
    "version_minor": 0
   }
  }
 },
 "nbformat": 4,
 "nbformat_minor": 4
}
