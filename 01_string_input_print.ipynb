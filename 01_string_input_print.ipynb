{
 "cells": [
  {
   "cell_type": "markdown",
   "metadata": {
    "tags": []
   },
   "source": [
    "# Variáveis, strings and print()\n",
    "\n",
    "[Aprenda Python com Jupyter](https://github.com/jeanto/python_programming_course_notebook) by [Jean Nunes](https://jeanto.github.io/jeannunes)   \n",
    "Code license: [GNU-GPL v3](https://www.gnu.org/licenses/gpl-3.0.en.html)"
   ]
  },
  {
   "cell_type": "markdown",
   "metadata": {},
   "source": [
    "---\n",
    "## 1. Introdução a Strings"
   ]
  },
  {
   "cell_type": "markdown",
   "metadata": {},
   "source": [
    "- Uma string é uma sequência de caracteres usada para representar texto. Podem incluir letras, números, símbolos e espaços. Elas são amplamente utilizadas em quase todas as linguagens de programação para manipular e processar texto.\n",
    "- As strings são contidas por aspas simples ou duplas."
   ]
  },
  {
   "cell_type": "code",
   "execution_count": null,
   "metadata": {},
   "outputs": [],
   "source": [
    "\"Isso é uma string\""
   ]
  },
  {
   "cell_type": "code",
   "execution_count": null,
   "metadata": {},
   "outputs": [],
   "source": [
    "'Tudo que você escreve entre aspas é uma string'"
   ]
  },
  {
   "cell_type": "markdown",
   "metadata": {},
   "source": [
    "---\n",
    "## 2. Variáveis\n",
    "\n",
    "Uma variável armazena um valor. Ela é atribuída a esse valor com um sinal de igual (=)."
   ]
  },
  {
   "cell_type": "code",
   "execution_count": null,
   "metadata": {},
   "outputs": [],
   "source": [
    "voce_sabia = \"Você sabia que o Sol é tão grande que, se fosse oco, caberiam cerca de 1,3 milhão de Terras dentro dele?\"\n",
    "print(voce_sabia)"
   ]
  },
  {
   "cell_type": "markdown",
   "metadata": {},
   "source": [
    "### Regras para Definir Nomes de Variáveis em Python\n",
    "\n",
    "1. **Iniciar com uma letra ou sublinhado (_)**: O nome de uma variável deve começar com uma letra (a-z, A-Z) ou um sublinhado (_). Não pode começar com um número.\n",
    "\n",
    "2. **Caracteres permitidos**: Após o primeiro caractere, você pode usar letras, números e sublinhados. Por exemplo, `nome`, `idade2`, e `_endereco` são nomes válidos.\n",
    "\n",
    "3. **Sensível a maiúsculas e minúsculas**: Python diferencia maiúsculas de minúsculas, então `variavel`, `Variavel` e `VARIAVEL` são três variáveis diferentes.\n",
    "\n",
    "4. **Palavras reservadas**: Não use palavras reservadas de Python como nomes de variáveis. Palavras reservadas são palavras que Python usa para funções internas, como `class`, `for`, `if`, `else`, `try`, etc.\n",
    "\n",
    "5. **Nomes descritivos**: É uma boa prática usar nomes de variáveis descritivos que indiquem o propósito da variável. Por exemplo, `idade` é mais descritivo que `x`.\n",
    "\n",
    "6. **Evitar caracteres especiais**: Não use caracteres especiais como `!`, `@`, `#`, `$`, `%`, etc., em nomes de variáveis.\n",
    "\n",
    "Exemplos de nomes válidos:\n",
    "- `nome`\n",
    "- `idade`\n",
    "- `_endereco`\n",
    "- `numero_de_telefone`\n",
    "\n",
    "Exemplos de nomes inválidos:\n",
    "- `2nome` (não pode começar com um número)\n",
    "- `nome!` (não pode conter caracteres especiais)\n",
    "- `class` (palavra reservada)"
   ]
  },
  {
   "cell_type": "code",
   "execution_count": null,
   "metadata": {},
   "outputs": [],
   "source": [
    "string_aspas_duplas = \"String com aspas duplas.\"\n",
    "string_aspas_simples = 'String com aspas simples.'"
   ]
  },
  {
   "cell_type": "markdown",
   "metadata": {},
   "source": [
    "Isso nos permite criar strings que contenham aspas."
   ]
  },
  {
   "cell_type": "code",
   "execution_count": null,
   "metadata": {},
   "outputs": [],
   "source": [
    "citacao = \"Albert Einstein uma vez disse: \\\n",
    "         'A imaginação é mais importante que o conhecimento.'\"\n",
    "print(citacao)"
   ]
  },
  {
   "cell_type": "markdown",
   "metadata": {},
   "source": [
    "A função `type()` em Python é usada para determinar o tipo de um objeto ou variável. \n",
    "Quando você passa um objeto ou variável como argumento para a função `type()`, ela retorna o tipo desse objeto. \n",
    "Isso é útil para verificar o tipo de dados de uma variável, especialmente quando você está lidando com entradas dinâmicas ou depurando seu código."
   ]
  },
  {
   "cell_type": "code",
   "execution_count": null,
   "metadata": {},
   "outputs": [],
   "source": [
    "# Exemplo de uso da função type()\n",
    "tipo_mensagem = type(citacao)\n",
    "print(tipo_mensagem)"
   ]
  },
  {
   "cell_type": "code",
   "execution_count": null,
   "metadata": {},
   "outputs": [],
   "source": [
    "outro_tipo_variavel = type(tipo_mensagem)\n",
    "print(outro_tipo_variavel)"
   ]
  },
  {
   "cell_type": "markdown",
   "metadata": {},
   "source": [
    "### Strings multilinhas\n",
    "\n",
    "Caso precisemos criar uma string multilinha, podemos usar **aspas triplas**:"
   ]
  },
  {
   "cell_type": "code",
   "execution_count": null,
   "metadata": {},
   "outputs": [],
   "source": [
    "string_multilinha = '''As galinhas têm um sistema\n",
    "Para botar ovo sem fazer festa:\n",
    "Ficam quietinhas no seu canto,\n",
    "E põem o ovo sem alarde.\n",
    "\n",
    "Já os humanos são diferentes:\n",
    "Para fazer qualquer coisa,\n",
    "Precisam de um grande aparato,\n",
    "E fazem um barulho infernal.\n",
    "\n",
    "Millôr Fernandes\n",
    "'''\n",
    "\n",
    "print(string_multilinha)"
   ]
  },
  {
   "cell_type": "markdown",
   "metadata": {},
   "source": [
    "## 3. String methods\n",
    "---\n",
    "\n",
    "A função `len()` em Python é usada para obter o comprimento (número de itens) de um objeto. Ela pode ser aplicada a diferentes tipos de dados, como strings, listas, tuplas, dicionários, etc."
   ]
  },
  {
   "cell_type": "code",
   "execution_count": null,
   "metadata": {},
   "outputs": [],
   "source": [
    "len(string_multilinha)"
   ]
  },
  {
   "cell_type": "markdown",
   "metadata": {},
   "source": [
    "Se você não sabe como funciona, você sempre pode verificar a função `help`:"
   ]
  },
  {
   "cell_type": "code",
   "execution_count": null,
   "metadata": {},
   "outputs": [],
   "source": [
    "help(len)"
   ]
  },
  {
   "cell_type": "markdown",
   "metadata": {},
   "source": [
    "A função `str.find()` em Python é usada para encontrar a posição de uma substring dentro de uma string. Ela retorna o índice da primeira ocorrência da substring. Se a substring não for encontrada, a função retorna -1."
   ]
  },
  {
   "cell_type": "code",
   "execution_count": null,
   "metadata": {},
   "outputs": [],
   "source": [
    "help(str.find)"
   ]
  },
  {
   "cell_type": "code",
   "execution_count": 14,
   "metadata": {},
   "outputs": [
    {
     "name": "stdout",
     "output_type": "stream",
     "text": [
      "27\n"
     ]
    }
   ],
   "source": [
    "# Localiza o índice inicial do trecho desejado\n",
    "indice_inicial = string_multilinha.find(\"Para botar ovo sem fazer festa\")\n",
    "print(indice_inicial)"
   ]
  },
  {
   "cell_type": "code",
   "execution_count": 15,
   "metadata": {},
   "outputs": [
    {
     "name": "stdout",
     "output_type": "stream",
     "text": [
      "30\n"
     ]
    }
   ],
   "source": [
    "# Define o comprimento do trecho desejado\n",
    "comprimento_trecho = len(\"Para botar ovo sem fazer festa\")\n",
    "print(comprimento_trecho)"
   ]
  },
  {
   "cell_type": "code",
   "execution_count": 16,
   "metadata": {},
   "outputs": [
    {
     "name": "stdout",
     "output_type": "stream",
     "text": [
      "Para botar ovo sem fazer festa\n"
     ]
    }
   ],
   "source": [
    "passphrase = string_multilinha[indice_inicial:indice_inicial + comprimento_trecho]\n",
    "print(passphrase)"
   ]
  },
  {
   "cell_type": "code",
   "execution_count": null,
   "metadata": {},
   "outputs": [],
   "source": [
    "# Localiza o índice inicial do trecho desejado\n",
    "indice_inicial = string_multilinha.find(\"As galinhas têm um sistema\")\n",
    "print(indice_inicial)\n",
    "\n",
    "# Define o comprimento do trecho desejado\n",
    "comprimento_trecho = len(\"As galinhas têm um sistema\")\n",
    "\n",
    "# Extrai o trecho usando fatiamento\n",
    "passphrase = string_multilinha[indice_inicial:indice_inicial + comprimento_trecho]\n",
    "\n",
    "print(passphrase)"
   ]
  },
  {
   "cell_type": "markdown",
   "metadata": {},
   "source": [
    "A função `str.split()` em Python é usada para dividir uma string em uma lista de substrings com base em um delimitador especificado. Se nenhum delimitador for especificado, o padrão é dividir com base em espaços em branco."
   ]
  },
  {
   "cell_type": "code",
   "execution_count": null,
   "metadata": {},
   "outputs": [],
   "source": [
    "help(str.split)"
   ]
  },
  {
   "cell_type": "code",
   "execution_count": 18,
   "metadata": {},
   "outputs": [],
   "source": [
    "# Divide a string em linhas\n",
    "linhas = string_multilinha.split('\\n')"
   ]
  },
  {
   "cell_type": "code",
   "execution_count": null,
   "metadata": {},
   "outputs": [],
   "source": [
    "# Extrai a primeira linha\n",
    "passphrase = linhas[100]\n",
    "print(passphrase)"
   ]
  },
  {
   "cell_type": "code",
   "execution_count": 23,
   "metadata": {},
   "outputs": [
    {
     "name": "stdout",
     "output_type": "stream",
     "text": [
      "12\n"
     ]
    }
   ],
   "source": [
    "print(len(linhas))"
   ]
  },
  {
   "cell_type": "code",
   "execution_count": 25,
   "metadata": {},
   "outputs": [
    {
     "name": "stdout",
     "output_type": "stream",
     "text": [
      "As galinhas têm um sistema\n"
     ]
    }
   ],
   "source": [
    "# Divide a string em linhas\n",
    "linhas = string_multilinha.split('\\n')\n",
    "\n",
    "# Extrai a primeira linha\n",
    "passphrase = linhas[0]\n",
    "\n",
    "print(passphrase)"
   ]
  },
  {
   "cell_type": "code",
   "execution_count": null,
   "metadata": {},
   "outputs": [],
   "source": [
    "print(type(linhas))"
   ]
  },
  {
   "cell_type": "code",
   "execution_count": null,
   "metadata": {},
   "outputs": [],
   "source": [
    "print(linhas)"
   ]
  },
  {
   "cell_type": "markdown",
   "metadata": {},
   "source": [
    "A função `str.replace()` em Python é usada para substituir partes de uma string por outra string. Ela retorna uma nova string com todas as ocorrências de uma substring substituídas por uma nova substring."
   ]
  },
  {
   "cell_type": "code",
   "execution_count": null,
   "metadata": {},
   "outputs": [],
   "source": [
    "help(str.replace)"
   ]
  },
  {
   "cell_type": "code",
   "execution_count": 29,
   "metadata": {},
   "outputs": [
    {
     "name": "stdout",
     "output_type": "stream",
     "text": [
      "As g4linh4s têm um sistem4\n"
     ]
    }
   ],
   "source": [
    "print(passphrase.replace(\"a\", \"4\"))"
   ]
  },
  {
   "cell_type": "code",
   "execution_count": 30,
   "metadata": {},
   "outputs": [
    {
     "name": "stdout",
     "output_type": "stream",
     "text": [
      "As g4l1nh4s têm um s1st3m4\n"
     ]
    }
   ],
   "source": [
    "print(passphrase.replace(\"a\", \"4\").replace(\"e\", \"3\").replace(\"i\", \"1\").replace(\"o\", \"0\"))"
   ]
  },
  {
   "cell_type": "markdown",
   "metadata": {},
   "source": [
    "## Atividade prática\n",
    "---"
   ]
  },
  {
   "cell_type": "markdown",
   "metadata": {},
   "source": [
    "Vamos usar o poema de Millôr Fernandes como exemplo para criar frases secretas difíceis de decifrar:\n",
    "\n",
    "1. Manipule a string para fazer substituições simples como nos exemplos abaixo:\n",
    "    - Letras por números:\n",
    "        - As galinhas têm um sistema → As g4l1nh4s têm um s1st3m4\n",
    "        - Para fazer qualquer coisa → P4r4 f4z3r qu4lqu3r c01s4\n",
    "    - Letras por símbolos:\n",
    "        - As galinhas têm um sistema → As g@l1nh@s têm um s1st3m@\n",
    "        - Para fazer qualquer coisa → P@r@ f@z3r qu@lqu3r c01s@\n",
    "    - Vogais por números/símbolos:\n",
    "        - As galinhas têm um sistema → As g4l1nh4s têm um s1st3m4\n",
    "        - Para fazer qualquer coisa → P4r4 f4z3r qu4lqu3r c01s4\n"
   ]
  },
  {
   "cell_type": "markdown",
   "metadata": {},
   "source": [
    "### Desafio\n",
    "2. Manipule a string para fazer substituições usando cifras de césar como nos exemplos abaixo:\n",
    "    - Deslocamento de letras:\n",
    "        - As galinhas têm um sistema (deslocamento 3) → Dv jdolqkdvh têm xp vlvwhpd\n",
    "        - Para fazer qualquer coisa (deslocamento 5) → Ufwd gdgjwdj wxguxhu frlvd"
   ]
  },
  {
   "cell_type": "markdown",
   "metadata": {
    "tags": ["hide-cell"]
   },
   "source": [
    "A função `str.translate()` em Python é usada para substituir caracteres em uma string com base em uma tabela de mapeamento. A tabela de mapeamento é criada usando a função `str.maketrans()`, que define quais caracteres serão substituídos e por quais caracteres eles serão substituídos. A função `str.translate()` retorna uma nova string com as substituições aplicadas."
   ]
  },
  {
   "cell_type": "code",
   "execution_count": null,
   "metadata": {},
   "outputs": [],
   "source": [
    "# Criar uma tabela de mapeamento\n",
    "tabela = str.maketrans(\"aeiou\", \"12345\")\n",
    "\n",
    "# Aplicar a tradução\n",
    "passphrase_traduzida = passphrase.translate(tabela)\n",
    "\n",
    "print(passphrase_traduzida)"
   ]
  },
  {
   "cell_type": "code",
   "execution_count": null,
   "metadata": {
    "tags": ["hide-cell"]
   },
   "outputs": [],
   "source": [
    "deslocamento = 3\n",
    "alfabeto = 'abcdefghijklmnopqrstuvwxyz'\n",
    "alfabeto_deslocado = alfabeto[deslocamento:] + alfabeto[:deslocamento]\n",
    "tabela = str.maketrans(alfabeto, alfabeto_deslocado) \n",
    "passphrase_traduzida = passphrase.translate(tabela)\n",
    "\n",
    "print(passphrase)\n",
    "print(passphrase_traduzida)"
   ]
  },
  {
   "cell_type": "markdown",
   "metadata": {},
   "source": [
    "A função `str.join()` em Python é usada para concatenar uma sequência de strings com um delimitador especificado. Ela retorna uma nova string que é a concatenação das strings na sequência, separadas pelo delimitador."
   ]
  },
  {
   "cell_type": "code",
   "execution_count": null,
   "metadata": {},
   "outputs": [],
   "source": [
    "help(str.join)"
   ]
  },
  {
   "cell_type": "code",
   "execution_count": null,
   "metadata": {},
   "outputs": [],
   "source": [
    "# Atribuir trechos do poema a diferentes strings\n",
    "trecho1 = \"As galinhas têm um sistema\"\n",
    "trecho2 = \"Para botar ovo sem fazer festa:\"\n",
    "trecho3 = \"Ficam quietinhas no seu canto,\"\n",
    "trecho4 = \"E põem o ovo sem alarde.\"\n",
    "\n",
    "# Juntar os trechos usando str.join\n",
    "verso1 = '\\n'.join([trecho1, trecho2, trecho3, trecho4])\n",
    "\n",
    "print(verso1)"
   ]
  },
  {
   "cell_type": "code",
   "execution_count": null,
   "metadata": {},
   "outputs": [],
   "source": [
    "verso2 = '\\n'.join([linhas[5], linhas[6], linhas[7], linhas[8]])\n",
    "print(verso2)"
   ]
  },
  {
   "cell_type": "markdown",
   "metadata": {},
   "source": [
    "A função `str.upper()` em Python é usada para converter todos os caracteres de uma string para letras maiúsculas. Ela retorna uma nova string com todos os caracteres em maiúsculas."
   ]
  },
  {
   "cell_type": "code",
   "execution_count": null,
   "metadata": {},
   "outputs": [],
   "source": [
    "help(str.upper)"
   ]
  },
  {
   "cell_type": "code",
   "execution_count": null,
   "metadata": {},
   "outputs": [],
   "source": [
    "print(passphrase.upper())"
   ]
  },
  {
   "cell_type": "markdown",
   "metadata": {},
   "source": [
    "A função `str.lower()` em Python é usada para converter todos os caracteres de uma string para letras minúsculas. Ela retorna uma nova string com todos os caracteres em minúsculas."
   ]
  },
  {
   "cell_type": "code",
   "execution_count": null,
   "metadata": {},
   "outputs": [],
   "source": [
    "help(str.lower)"
   ]
  },
  {
   "cell_type": "code",
   "execution_count": null,
   "metadata": {},
   "outputs": [],
   "source": [
    "print(passphrase.lower())"
   ]
  },
  {
   "cell_type": "markdown",
   "metadata": {},
   "source": [
    "A função `str.title()` em Python é usada para converter o primeiro caractere de cada palavra em uma string para maiúscula e todos os outros caracteres para minúscula. Ela retorna uma nova string com essa formatação aplicada. É útil para formatar títulos ou cabeçalhos de texto."
   ]
  },
  {
   "cell_type": "code",
   "execution_count": null,
   "metadata": {},
   "outputs": [],
   "source": [
    "help(str.title)"
   ]
  },
  {
   "cell_type": "code",
   "execution_count": null,
   "metadata": {},
   "outputs": [],
   "source": [
    "print(passphrase.title())"
   ]
  },
  {
   "cell_type": "markdown",
   "metadata": {},
   "source": [
    "### Principais funções da classe `str`\n",
    "\n",
    "As principais funções da classe `str` em Python incluem:\n",
    "\n",
    "1. `str.upper()`: Converte todos os caracteres da string para maiúsculas.\n",
    "2. `str.lower()`: Converte todos os caracteres da string para minúsculas.\n",
    "3. `str.capitalize()`: Converte o primeiro caractere da string para maiúscula.\n",
    "4. `str.title()`: Converte o primeiro caractere de cada palavra para maiúscula.\n",
    "5. `str.strip()`: Remove espaços em branco do início e do fim da string.\n",
    "6. `str.lstrip()`: Remove espaços em branco do início da string.\n",
    "7. `str.rstrip()`: Remove espaços em branco do fim da string.\n",
    "8. `str.split()`: Divide a string em uma lista de substrings com base em um delimitador especificado.\n",
    "9. `str.join()`: Concatena uma sequência de strings com um delimitador especificado.\n",
    "10. `str.replace()`: Substitui partes da string por outra string.\n",
    "11. `str.find()`: Encontra a posição de uma substring dentro da string.\n",
    "12. `str.startswith()`: Verifica se a string começa com uma substring especificada.\n",
    "13. `str.endswith()`: Verifica se a string termina com uma substring especificada.\n",
    "14. `str.isdigit()`: Verifica se todos os caracteres da string são dígitos.\n",
    "15. `str.isalpha()`: Verifica se todos os caracteres da string são letras.\n",
    "16. `str.isalnum()`: Verifica se todos os caracteres da string são letras ou dígitos.\n",
    "17. `str.islower()`: Verifica se todos os caracteres da string são minúsculas.\n",
    "18. `str.isupper()`: Verifica se todos os caracteres da string são maiúsculas.\n",
    "\n",
    "Você pode usar a função `help(str)` para obter uma lista completa de métodos disponíveis para objetos do tipo `str` em Python. "
   ]
  },
  {
   "cell_type": "markdown",
   "metadata": {},
   "source": [
    "## 4. FSymbols/coolsymbols: print()\n",
    "---"
   ]
  },
  {
   "cell_type": "markdown",
   "metadata": {},
   "source": [
    " \n",
    "- A função print() em Python é usada para exibir mensagens ou valores no console. É uma das funções mais básicas e amplamente utilizadas na linguagem. "
   ]
  },
  {
   "cell_type": "code",
   "execution_count": null,
   "metadata": {},
   "outputs": [],
   "source": [
    "print(\"🅷🆃🆃🅿🆂://🅵🆂🆈🅼🅱🅾🅻🆂.🅲🅾🅼/\")"
   ]
  },
  {
   "cell_type": "code",
   "execution_count": null,
   "metadata": {},
   "outputs": [],
   "source": [
    "print('''𝕻𝖞𝖙𝖍𝖔𝖓 𝖊́ 𝖆𝖒𝖕𝖑𝖆𝖒𝖊𝖓𝖙𝖊 𝖗𝖊𝖈𝖔𝖓𝖍𝖊𝖈𝖎𝖉𝖆 𝖈𝖔𝖒𝖔 𝖚𝖒𝖆 𝖉𝖆𝖘 𝖒𝖊𝖑𝖍𝖔𝖗𝖊𝖘 𝖑𝖎𝖓𝖌𝖚𝖆𝖌𝖊𝖓𝖘 𝖉𝖊 𝖕𝖗𝖔𝖌𝖗𝖆𝖒𝖆𝖈̧𝖆̃𝖔, 𝖊 𝖆𝖖𝖚𝖎 𝖊𝖘𝖙𝖆̃𝖔 𝖆𝖑𝖌𝖚𝖒𝖆𝖘 𝖗𝖆𝖟𝖔̃𝖊𝖘 𝖖𝖚𝖊 𝖊𝖝𝖕𝖑𝖎𝖈𝖆𝖒 𝖕𝖔𝖗 𝖖𝖚𝖊 𝖊𝖑𝖆 𝖊́ 𝖙𝖆̃𝖔 𝖛𝖆𝖑𝖔𝖗𝖎𝖟𝖆𝖉𝖆:\n",
    "\n",
    "• 𝔖𝔦𝔪𝔭𝔩𝔦𝔠𝔦𝔡𝔞𝔡𝔢 𝔢 𝔏𝔢𝔤𝔦𝔟𝔦𝔩𝔦𝔡𝔞𝔡𝔢: Python foi projetada com a simplicidade em mente. Sua sintaxe clara e legível permite que os desenvolvedores escrevam e \n",
    "      compreendam o código com mais facilidade, o que é especialmente útil para iniciantes. A legibilidade do código Python também facilita a \n",
    "      manutenção e a colaboração em projetos.\n",
    "\n",
    "• 𝒱ℯ𝓇𝓈𝒶𝓉𝒾𝓁𝒾𝒹𝒶𝒹ℯ: Python é uma linguagem de propósito geral, o que significa que pode ser usada para uma ampla variedade de aplicações, \n",
    "      desde desenvolvimento web e automação de scripts até ciência de dados, inteligência artificial e desenvolvimento de jogos. Essa versatilidade \n",
    "      torna Python uma escolha popular em diversas indústrias.\n",
    "\n",
    "• Ⲃⲓⲃ𝓵ⲓⲟⲧⲉⲥⲁ𝛓 ⲉ 𝓕ꞅⲁⲙⲉⲱⲟꞅⲕ𝛓: Python possui uma vasta coleção de bibliotecas e frameworks que aceleram o desenvolvimento. \n",
    "      Por exemplo, bibliotecas como NumPy e pandas são essenciais para ciência de dados, enquanto Django e Flask são populares para desenvolvimento web. \n",
    "      Essas ferramentas prontas para uso economizam tempo e esforço dos desenvolvedores.''')"
   ]
  },
  {
   "cell_type": "markdown",
   "metadata": {},
   "source": [
    "---\n",
    "## Atividade Prática\n",
    "\n",
    "- Crie o menu principal do SNDO (Sistema Nacional de Doação de Órgãos e Tecidos) com as seguintes opções:\n",
    "\n",
    "1.  Cadastrar potencial doador\n",
    "2.  Adicionar doação\n",
    "3.  Processar doação (encaminhar para transplante) \n",
    "4.  Exibir estoque atual dos Centros de Distribuição\n",
    "5.  Exibir histórico de doações\n",
    "6.  Finalizar aplicação"
   ]
  },
  {
   "cell_type": "markdown",
   "metadata": {},
   "source": [
    "---\n",
    "## Projeto Python"
   ]
  },
  {
   "cell_type": "code",
   "execution_count": null,
   "metadata": {},
   "outputs": [],
   "source": [
    "print(\"🆂🅽🅳🅾🆃: 𝕾𝖎𝖘𝖙𝖊𝖒𝖆 𝕹𝖆𝖈𝖎𝖔𝖓𝖆𝖑 𝖉𝖊 𝕯𝖔𝖆𝖈̧𝖆̃𝖔 𝖉𝖊 𝕺́𝖗𝖌𝖆̃𝖔𝖘 𝖊 𝕿𝖊𝖈𝖎𝖉𝖔𝖘\")\n",
    "print(''' \n",
    "    1.  Cadastrar potencial doador\n",
    "    2.  Adicionar doação\n",
    "    3.  Processar doação (encaminhar para transplante) \n",
    "    4.  Exibir estoque atual dos Centros de Distribuição\n",
    "    5.  Exibir histórico de doações\n",
    "    6.  Finalizar aplicação''')"
   ]
  }
 ],
 "metadata": {
  "kernelspec": {
   "display_name": "Python 3",
   "language": "python",
   "name": "python3"
  },
  "language_info": {
   "codemirror_mode": {
    "name": "ipython",
    "version": 3
   },
   "file_extension": ".py",
   "mimetype": "text/x-python",
   "name": "python",
   "nbconvert_exporter": "python",
   "pygments_lexer": "ipython3",
   "version": "3.12.3"
  },
  "widgets": {
   "application/vnd.jupyter.widget-state+json": {
    "state": {},
    "version_major": 2,
    "version_minor": 0
   }
  }
 },
 "nbformat": 4,
 "nbformat_minor": 4
}
