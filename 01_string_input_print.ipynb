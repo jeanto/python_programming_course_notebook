{
 "cells": [
  {
   "cell_type": "markdown",
   "metadata": {
    "tags": []
   },
   "source": [
    "# 1. Sequência de caracteres, entradas e fsymbols/coolsymbols\n",
    "\n",
    "[Aprenda Python com Jupyter](https://github.com/jeanto/python_programming_course_notebook) by [Jean Nunes](https://jeanto.github.io/jeannunes)   \n",
    "<!-- Narrative license: [CC BY-NC-SA](https://creativecommons.org/licenses/by-nc-sa/2.0/). Code license: [GNU-GPL v3](https://www.gnu.org/licenses/gpl-3.0.en.html) -->\n",
    "\n",
    "## Variáveis, strings, input(), and print()"
   ]
  },
  {
   "cell_type": "markdown",
   "metadata": {},
   "source": [
    "---\n",
    "## Variáveis\n",
    "\n",
    "Uma variável armazena um valor. Ela é atribuída a esse valor com um sinal de igual (=)."
   ]
  },
  {
   "cell_type": "code",
   "execution_count": null,
   "metadata": {},
   "outputs": [],
   "source": [
    "mensagem = \"O Palmeiras é o maior campeão do Brasil!\"\n",
    "print(mensagem)\n",
    "\n",
    "voce_sabia = \"Você sabia que o Sol é tão grande que, se fosse oco, caberiam cerca de 1,3 milhão de Terras dentro dele?\"\n",
    "print(voce_sabia)"
   ]
  },
  {
   "cell_type": "markdown",
   "metadata": {},
   "source": [
    "### Regras para Definir Nomes de Variáveis em Python\n",
    "\n",
    "1. **Iniciar com uma letra ou sublinhado (_)**: O nome de uma variável deve começar com uma letra (a-z, A-Z) ou um sublinhado (_). Não pode começar com um número.\n",
    "\n",
    "2. **Caracteres permitidos**: Após o primeiro caractere, você pode usar letras, números e sublinhados. Por exemplo, `nome`, `idade2`, e `_endereco` são nomes válidos.\n",
    "\n",
    "3. **Sensível a maiúsculas e minúsculas**: Python diferencia maiúsculas de minúsculas, então `variavel`, `Variavel` e `VARIAVEL` são três variáveis diferentes.\n",
    "\n",
    "4. **Palavras reservadas**: Não use palavras reservadas de Python como nomes de variáveis. Palavras reservadas são palavras que Python usa para funções internas, como `class`, `for`, `if`, `else`, `try`, etc.\n",
    "\n",
    "5. **Nomes descritivos**: É uma boa prática usar nomes de variáveis descritivos que indiquem o propósito da variável. Por exemplo, `idade` é mais descritivo que `x`.\n",
    "\n",
    "6. **Evitar caracteres especiais**: Não use caracteres especiais como `!`, `@`, `#`, `$`, `%`, etc., em nomes de variáveis.\n",
    "\n",
    "Exemplos de nomes válidos:\n",
    "- `nome`\n",
    "- `idade`\n",
    "- `_endereco`\n",
    "- `numero_de_telefone`\n",
    "\n",
    "Exemplos de nomes inválidos:\n",
    "- `2nome` (não pode começar com um número)\n",
    "- `nome!` (não pode conter caracteres especiais)\n",
    "- `class` (palavra reservada)"
   ]
  },
  {
   "cell_type": "markdown",
   "metadata": {},
   "source": [
    "---\n",
    "## Introdução a Strings"
   ]
  },
  {
   "cell_type": "markdown",
   "metadata": {},
   "source": [
    "- Uma string é uma sequência de caracteres usada para representar texto. Podem incluir letras, números, símbolos e espaços. Elas são amplamente utilizadas em quase todas as linguagens de programação para manipular e processar texto.\n",
    "- As strings são contidas por aspas simples ou duplas."
   ]
  },
  {
   "cell_type": "code",
   "execution_count": null,
   "metadata": {},
   "outputs": [
    {
     "data": {
      "text/plain": [
       "'Isso é uma string'"
      ]
     },
     "metadata": {},
     "output_type": "display_data"
    }
   ],
   "source": [
    "\"Isso é uma string\""
   ]
  },
  {
   "cell_type": "code",
   "execution_count": null,
   "metadata": {},
   "outputs": [
    {
     "data": {
      "text/plain": [
       "'Tudo que você escreve entre aspas é uma string'"
      ]
     },
     "metadata": {},
     "output_type": "display_data"
    }
   ],
   "source": [
    "'Tudo que você escreve entre aspas é uma string'"
   ]
  },
  {
   "cell_type": "code",
   "execution_count": 3,
   "metadata": {},
   "outputs": [],
   "source": [
    "string_aspas_duplas = \"String com aspas duplas.\"\n",
    "string_aspas_simples = 'String com aspas simples.'"
   ]
  },
  {
   "cell_type": "markdown",
   "metadata": {},
   "source": [
    "Isso nos permite criar strings que contêm aspas."
   ]
  },
  {
   "cell_type": "code",
   "execution_count": 5,
   "metadata": {},
   "outputs": [
    {
     "name": "stdout",
     "output_type": "stream",
     "text": [
      "Albert Einstein uma vez disse:          'A imaginação é mais importante que o conhecimento.'\n"
     ]
    }
   ],
   "source": [
    "citacao = \"Albert Einstein uma vez disse: \\\n",
    "         'A imaginação é mais importante que o conhecimento.'\"\n",
    "print(citacao)"
   ]
  },
  {
   "cell_type": "markdown",
   "metadata": {},
   "source": [
    "### Strings multilinhas\n",
    "\n",
    "Caso precisemos criar uma string multilinha, podemos usar **aspas triplas**:"
   ]
  },
  {
   "cell_type": "code",
   "execution_count": 6,
   "metadata": {},
   "outputs": [
    {
     "name": "stdout",
     "output_type": "stream",
     "text": [
      "Esta é uma string onde eu\n",
      "posso escrever várias linhas\n",
      "sem me preocupar em usar o caractere scape \"\\\" como no\n",
      "exemplo anterior.\n",
      "Como você verá, a formatação original da string é preservada.\n",
      "\n"
     ]
    }
   ],
   "source": [
    "string_multilinha = '''Esta é uma string onde eu\n",
    "posso escrever várias linhas\n",
    "sem me preocupar em usar o caractere scape \"\\\\\" como no\n",
    "exemplo anterior.\n",
    "Como você verá, a formatação original da string é preservada.\n",
    "'''\n",
    "\n",
    "print(string_multilinha)"
   ]
  },
  {
   "cell_type": "markdown",
   "metadata": {},
   "source": [
    "---\n",
    "## Fazendo perguntas: input()"
   ]
  },
  {
   "cell_type": "markdown",
   "metadata": {},
   "source": [
    "- Em Python, a função input() é usada para capturar a entrada do usuário a partir do console. Quando input() é chamado, o programa pausa e espera que o usuário digite algo e pressione Enter. O valor digitado pelo usuário é então retornado como uma string."
   ]
  },
  {
   "cell_type": "code",
   "execution_count": 18,
   "metadata": {},
   "outputs": [
    {
     "data": {
      "text/plain": [
       "'Jean Nunes'"
      ]
     },
     "execution_count": 18,
     "metadata": {},
     "output_type": "execute_result"
    }
   ],
   "source": [
    "input(\"Qual o seu nome?\")"
   ]
  },
  {
   "cell_type": "code",
   "execution_count": null,
   "metadata": {},
   "outputs": [],
   "source": [
    "input(\"De onde você é?\")"
   ]
  },
  {
   "cell_type": "markdown",
   "metadata": {},
   "source": [
    "---\n",
    "## FSymbols/coolsymbols: print()"
   ]
  },
  {
   "cell_type": "markdown",
   "metadata": {},
   "source": [
    " \n",
    "- A função print() em Python é usada para exibir mensagens ou valores no console. É uma das funções mais básicas e amplamente utilizadas na linguagem. "
   ]
  },
  {
   "cell_type": "code",
   "execution_count": 20,
   "metadata": {},
   "outputs": [
    {
     "name": "stdout",
     "output_type": "stream",
     "text": [
      "🅷🆃🆃🅿🆂://🅵🆂🆈🅼🅱🅾🅻🆂.🅲🅾🅼/\n"
     ]
    }
   ],
   "source": [
    "print(\"🅷🆃🆃🅿🆂://🅵🆂🆈🅼🅱🅾🅻🆂.🅲🅾🅼/\")"
   ]
  },
  {
   "cell_type": "code",
   "execution_count": 23,
   "metadata": {},
   "outputs": [
    {
     "name": "stdout",
     "output_type": "stream",
     "text": [
      "𝕻𝖞𝖙𝖍𝖔𝖓 𝖊́ 𝖆𝖒𝖕𝖑𝖆𝖒𝖊𝖓𝖙𝖊 𝖗𝖊𝖈𝖔𝖓𝖍𝖊𝖈𝖎𝖉𝖆 𝖈𝖔𝖒𝖔 𝖚𝖒𝖆 𝖉𝖆𝖘 𝖒𝖊𝖑𝖍𝖔𝖗𝖊𝖘 𝖑𝖎𝖓𝖌𝖚𝖆𝖌𝖊𝖓𝖘 𝖉𝖊 𝖕𝖗𝖔𝖌𝖗𝖆𝖒𝖆𝖈̧𝖆̃𝖔, 𝖊 𝖆𝖖𝖚𝖎 𝖊𝖘𝖙𝖆̃𝖔 𝖆𝖑𝖌𝖚𝖒𝖆𝖘 𝖗𝖆𝖟𝖔̃𝖊𝖘 𝖖𝖚𝖊 𝖊𝖝𝖕𝖑𝖎𝖈𝖆𝖒 𝖕𝖔𝖗 𝖖𝖚𝖊 𝖊𝖑𝖆 𝖊́ 𝖙𝖆̃𝖔 𝖛𝖆𝖑𝖔𝖗𝖎𝖟𝖆𝖉𝖆:\n",
      "\n",
      "• 𝔖𝔦𝔪𝔭𝔩𝔦𝔠𝔦𝔡𝔞𝔡𝔢 𝔢 𝔏𝔢𝔤𝔦𝔟𝔦𝔩𝔦𝔡𝔞𝔡𝔢: Python foi projetada com a simplicidade em mente. Sua sintaxe clara e legível permite que os desenvolvedores escrevam e \n",
      "      compreendam o código com mais facilidade, o que é especialmente útil para iniciantes. A legibilidade do código Python também facilita a \n",
      "      manutenção e a colaboração em projetos.\n",
      "\n",
      "• 𝒱ℯ𝓇𝓈𝒶𝓉𝒾𝓁𝒾𝒹𝒶𝒹ℯ: Python é uma linguagem de propósito geral, o que significa que pode ser usada para uma ampla variedade de aplicações, \n",
      "      desde desenvolvimento web e automação de scripts até ciência de dados, inteligência artificial e desenvolvimento de jogos. Essa versatilidade \n",
      "      torna Python uma escolha popular em diversas indústrias.\n",
      "\n",
      "• Ⲃⲓⲃ𝓵ⲓⲟⲧⲉⲥⲁ𝛓 ⲉ 𝓕ꞅⲁⲙⲉⲱⲟꞅⲕ𝛓: Python possui uma vasta coleção de bibliotecas e frameworks que aceleram o desenvolvimento. \n",
      "      Por exemplo, bibliotecas como NumPy e pandas são essenciais para ciência de dados, enquanto Django e Flask são populares para desenvolvimento web. \n",
      "      Essas ferramentas prontas para uso economizam tempo e esforço dos desenvolvedores.\n"
     ]
    }
   ],
   "source": [
    "print('''𝕻𝖞𝖙𝖍𝖔𝖓 𝖊́ 𝖆𝖒𝖕𝖑𝖆𝖒𝖊𝖓𝖙𝖊 𝖗𝖊𝖈𝖔𝖓𝖍𝖊𝖈𝖎𝖉𝖆 𝖈𝖔𝖒𝖔 𝖚𝖒𝖆 𝖉𝖆𝖘 𝖒𝖊𝖑𝖍𝖔𝖗𝖊𝖘 𝖑𝖎𝖓𝖌𝖚𝖆𝖌𝖊𝖓𝖘 𝖉𝖊 𝖕𝖗𝖔𝖌𝖗𝖆𝖒𝖆𝖈̧𝖆̃𝖔, 𝖊 𝖆𝖖𝖚𝖎 𝖊𝖘𝖙𝖆̃𝖔 𝖆𝖑𝖌𝖚𝖒𝖆𝖘 𝖗𝖆𝖟𝖔̃𝖊𝖘 𝖖𝖚𝖊 𝖊𝖝𝖕𝖑𝖎𝖈𝖆𝖒 𝖕𝖔𝖗 𝖖𝖚𝖊 𝖊𝖑𝖆 𝖊́ 𝖙𝖆̃𝖔 𝖛𝖆𝖑𝖔𝖗𝖎𝖟𝖆𝖉𝖆:\n",
    "\n",
    "• 𝔖𝔦𝔪𝔭𝔩𝔦𝔠𝔦𝔡𝔞𝔡𝔢 𝔢 𝔏𝔢𝔤𝔦𝔟𝔦𝔩𝔦𝔡𝔞𝔡𝔢: Python foi projetada com a simplicidade em mente. Sua sintaxe clara e legível permite que os desenvolvedores escrevam e \n",
    "      compreendam o código com mais facilidade, o que é especialmente útil para iniciantes. A legibilidade do código Python também facilita a \n",
    "      manutenção e a colaboração em projetos.\n",
    "\n",
    "• 𝒱ℯ𝓇𝓈𝒶𝓉𝒾𝓁𝒾𝒹𝒶𝒹ℯ: Python é uma linguagem de propósito geral, o que significa que pode ser usada para uma ampla variedade de aplicações, \n",
    "      desde desenvolvimento web e automação de scripts até ciência de dados, inteligência artificial e desenvolvimento de jogos. Essa versatilidade \n",
    "      torna Python uma escolha popular em diversas indústrias.\n",
    "\n",
    "• Ⲃⲓⲃ𝓵ⲓⲟⲧⲉⲥⲁ𝛓 ⲉ 𝓕ꞅⲁⲙⲉⲱⲟꞅⲕ𝛓: Python possui uma vasta coleção de bibliotecas e frameworks que aceleram o desenvolvimento. \n",
    "      Por exemplo, bibliotecas como NumPy e pandas são essenciais para ciência de dados, enquanto Django e Flask são populares para desenvolvimento web. \n",
    "      Essas ferramentas prontas para uso economizam tempo e esforço dos desenvolvedores.''')"
   ]
  },
  {
   "cell_type": "markdown",
   "metadata": {},
   "source": [
    "---\n",
    "## Projeto Python"
   ]
  },
  {
   "cell_type": "code",
   "execution_count": 2,
   "metadata": {},
   "outputs": [
    {
     "name": "stdout",
     "output_type": "stream",
     "text": [
      "🆂🅽🅳🅾🆃: 𝕾𝖎𝖘𝖙𝖊𝖒𝖆 𝕹𝖆𝖈𝖎𝖔𝖓𝖆𝖑 𝖉𝖊 𝕯𝖔𝖆𝖈̧𝖆̃𝖔 𝖉𝖊 𝕺́𝖗𝖌𝖆̃𝖔𝖘 𝖊 𝕿𝖊𝖈𝖎𝖉𝖔𝖘\n",
      "O SNDOT deve permitir: \n",
      "    1.  Cadastrar doador\n",
      "    2.  Adicionar doações \n",
      "    3.  Processar doações (encaminhar para transplante) \n",
      "    4.  Exibir o estoque atual dos Centros de Distribuição\n",
      "    5.  Exibir o histórico de doações\n",
      "    6.  Finalizar aplicação\n"
     ]
    }
   ],
   "source": [
    "print(\"🆂🅽🅳🅾🆃: 𝕾𝖎𝖘𝖙𝖊𝖒𝖆 𝕹𝖆𝖈𝖎𝖔𝖓𝖆𝖑 𝖉𝖊 𝕯𝖔𝖆𝖈̧𝖆̃𝖔 𝖉𝖊 𝕺́𝖗𝖌𝖆̃𝖔𝖘 𝖊 𝕿𝖊𝖈𝖎𝖉𝖔𝖘\")\n",
    "print('''O SNDOT deve permitir: \n",
    "    1.  Cadastrar potencial doador\n",
    "    2.  Adicionar doação\n",
    "    3.  Processar doação (encaminhar para transplante) \n",
    "    4.  Exibir estoque atual dos Centros de Distribuição\n",
    "    5.  Exibir histórico de doações\n",
    "    6.  Finalizar aplicação''')"
   ]
  },
  {
   "cell_type": "markdown",
   "metadata": {},
   "source": [
    "---\n",
    "## Atividade Prática\n",
    "\n",
    "- Crie o menu principal do SNDO com as seguintes opções:"
   ]
  }
 ],
 "metadata": {
  "kernelspec": {
   "display_name": "Python 3",
   "language": "python",
   "name": "python3"
  },
  "language_info": {
   "codemirror_mode": {
    "name": "ipython",
    "version": 3
   },
   "file_extension": ".py",
   "mimetype": "text/x-python",
   "name": "python",
   "nbconvert_exporter": "python",
   "pygments_lexer": "ipython3",
   "version": "3.13.1"
  },
  "widgets": {
   "application/vnd.jupyter.widget-state+json": {
    "state": {},
    "version_major": 2,
    "version_minor": 0
   }
  }
 },
 "nbformat": 4,
 "nbformat_minor": 4
}
