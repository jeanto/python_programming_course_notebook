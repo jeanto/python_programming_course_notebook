{
 "cells": [
  {
   "cell_type": "markdown",
   "metadata": {
    "tags": []
   },
   "source": [
    "# 1. Sequência de caracteres, entradas e fsymbols/coolsymbols\n",
    "\n",
    "[Aprenda Python com Jupyter](https://github.com/jeanto/python_programming_course_notebook) by [Jean Nunes](https://jeanto.github.io/jeannunes)   \n",
    "<!-- Narrative license: [CC BY-NC-SA](https://creativecommons.org/licenses/by-nc-sa/2.0/). Code license: [GNU-GPL v3](https://www.gnu.org/licenses/gpl-3.0.en.html) -->\n",
    "\n",
    "## Variáveis, strings, input(), and print()"
   ]
  },
  {
   "cell_type": "markdown",
   "metadata": {},
   "source": [
    "---\n",
    "## Variáveis\n",
    "\n",
    "Uma variável armazena um valor. Ela é atribuída a esse valor com um sinal de igual (=)."
   ]
  },
  {
   "cell_type": "code",
   "execution_count": null,
   "metadata": {},
   "outputs": [],
   "source": [
    "mensagem = \"O Palmeiras é o maior campeão do Brasil!\"\n",
    "print(mensagem)\n",
    "\n",
    "voce_sabia = \"Você sabia que o Sol é tão grande que, se fosse oco, caberiam cerca de 1,3 milhão de Terras dentro dele?\"\n",
    "print(voce_sabia)"
   ]
  },
  {
   "cell_type": "markdown",
   "metadata": {},
   "source": [
    "### Regras para Definir Nomes de Variáveis em Python\n",
    "\n",
    "1. **Iniciar com uma letra ou sublinhado (_)**: O nome de uma variável deve começar com uma letra (a-z, A-Z) ou um sublinhado (_). Não pode começar com um número.\n",
    "\n",
    "2. **Caracteres permitidos**: Após o primeiro caractere, você pode usar letras, números e sublinhados. Por exemplo, `nome`, `idade2`, e `_endereco` são nomes válidos.\n",
    "\n",
    "3. **Sensível a maiúsculas e minúsculas**: Python diferencia maiúsculas de minúsculas, então `variavel`, `Variavel` e `VARIAVEL` são três variáveis diferentes.\n",
    "\n",
    "4. **Palavras reservadas**: Não use palavras reservadas de Python como nomes de variáveis. Palavras reservadas são palavras que Python usa para funções internas, como `class`, `for`, `if`, `else`, `try`, etc.\n",
    "\n",
    "5. **Nomes descritivos**: É uma boa prática usar nomes de variáveis descritivos que indiquem o propósito da variável. Por exemplo, `idade` é mais descritivo que `x`.\n",
    "\n",
    "6. **Evitar caracteres especiais**: Não use caracteres especiais como `!`, `@`, `#`, `$`, `%`, etc., em nomes de variáveis.\n",
    "\n",
    "Exemplos de nomes válidos:\n",
    "- `nome`\n",
    "- `idade`\n",
    "- `_endereco`\n",
    "- `numero_de_telefone`\n",
    "\n",
    "Exemplos de nomes inválidos:\n",
    "- `2nome` (não pode começar com um número)\n",
    "- `nome!` (não pode conter caracteres especiais)\n",
    "- `class` (palavra reservada)"
   ]
  },
  {
   "cell_type": "markdown",
   "metadata": {},
   "source": [
    "---\n",
    "## Introdução a Strings"
   ]
  },
  {
   "cell_type": "markdown",
   "metadata": {},
   "source": [
    "- Uma string é uma sequência de caracteres usada para representar texto. Podem incluir letras, números, símbolos e espaços. Elas são amplamente utilizadas em quase todas as linguagens de programação para manipular e processar texto.\n",
    "- As strings são contidas por aspas simples ou duplas."
   ]
  },
  {
   "cell_type": "code",
   "execution_count": null,
   "metadata": {},
   "outputs": [],
   "source": [
    "\"Isso é uma string\""
   ]
  },
  {
   "cell_type": "code",
   "execution_count": null,
   "metadata": {},
   "outputs": [],
   "source": [
    "'Tudo que você escreve entre aspas é uma string'"
   ]
  },
  {
   "cell_type": "code",
   "execution_count": null,
   "metadata": {},
   "outputs": [],
   "source": [
    "string_aspas_duplas = \"String com aspas duplas.\"\n",
    "string_aspas_simples = 'String com aspas simples.'"
   ]
  },
  {
   "cell_type": "markdown",
   "metadata": {},
   "source": [
    "Isso nos permite criar strings que contêm aspas."
   ]
  },
  {
   "cell_type": "code",
   "execution_count": null,
   "metadata": {},
   "outputs": [],
   "source": [
    "citacao = \"Albert Einstein uma vez disse: \\\n",
    "         'A imaginação é mais importante que o conhecimento.'\"\n",
    "print(citacao)"
   ]
  },
  {
   "cell_type": "markdown",
   "metadata": {},
   "source": [
    "A função `type()` em Python é usada para determinar o tipo de um objeto ou variável. \n",
    "Quando você passa um objeto ou variável como argumento para a função `type()`, ela retorna o tipo desse objeto. \n",
    "Isso é útil para verificar o tipo de dados de uma variável, especialmente quando você está lidando com entradas dinâmicas ou depurando seu código."
   ]
  },
  {
   "cell_type": "code",
   "execution_count": null,
   "metadata": {},
   "outputs": [],
   "source": [
    "# Exemplo de uso da função type()\n",
    "tipo_mensagem = type(citacao)\n",
    "print(tipo_mensagem)"
   ]
  },
  {
   "cell_type": "markdown",
   "metadata": {},
   "source": [
    "### Strings multilinhas\n",
    "\n",
    "Caso precisemos criar uma string multilinha, podemos usar **aspas triplas**:"
   ]
  },
  {
   "cell_type": "code",
   "execution_count": null,
   "metadata": {},
   "outputs": [],
   "source": [
    "string_multilinha = '''As galinhas têm um sistema\n",
    "Para botar ovo sem fazer festa:\n",
    "Ficam quietinhas no seu canto,\n",
    "E põem o ovo sem alarde.\n",
    "\n",
    "Já os humanos são diferentes:\n",
    "Para fazer qualquer coisa,\n",
    "Precisam de um grande aparato,\n",
    "E fazem um barulho infernal.\n",
    "\n",
    "Millôr Fernandes\n",
    "'''\n",
    "\n",
    "print(string_multilinha)"
   ]
  },
  {
   "cell_type": "markdown",
   "metadata": {},
   "source": [
    "### String methods\n",
    "\n",
    "A função `len()` em Python é usada para obter o comprimento (número de itens) de um objeto. Ela pode ser aplicada a diferentes tipos de dados, como strings, listas, tuplas, dicionários, etc."
   ]
  },
  {
   "cell_type": "code",
   "execution_count": null,
   "metadata": {},
   "outputs": [],
   "source": [
    "len(string_multilinha)"
   ]
  },
  {
   "cell_type": "markdown",
   "metadata": {},
   "source": [
    "Se você não sabe como funciona, você sempre pode verificar a função `help`:"
   ]
  },
  {
   "cell_type": "code",
   "execution_count": null,
   "metadata": {},
   "outputs": [],
   "source": [
    "help(len)"
   ]
  },
  {
   "cell_type": "markdown",
   "metadata": {},
   "source": [
    "A função `str.find()` em Python é usada para encontrar a posição de uma substring dentro de uma string. Ela retorna o índice da primeira ocorrência da substring. Se a substring não for encontrada, a função retorna -1."
   ]
  },
  {
   "cell_type": "code",
   "execution_count": null,
   "metadata": {},
   "outputs": [],
   "source": [
    "help(str.find)"
   ]
  },
  {
   "cell_type": "code",
   "execution_count": null,
   "metadata": {},
   "outputs": [],
   "source": [
    "# Localiza o índice inicial do trecho desejado\n",
    "indice_inicial = string_multilinha.find(\"As galinhas têm um sistema\")\n",
    "print(indice_inicial)\n",
    "\n",
    "# Define o comprimento do trecho desejado\n",
    "comprimento_trecho = len(\"As galinhas têm um sistema\")\n",
    "\n",
    "# Extrai o trecho usando fatiamento\n",
    "passphrase = string_multilinha[indice_inicial:indice_inicial + comprimento_trecho]\n",
    "\n",
    "print(passphrase)"
   ]
  },
  {
   "cell_type": "markdown",
   "metadata": {},
   "source": [
    "A função `str.split()` em Python é usada para dividir uma string em uma lista de substrings com base em um delimitador especificado. Se nenhum delimitador for especificado, o padrão é dividir com base em espaços em branco."
   ]
  },
  {
   "cell_type": "code",
   "execution_count": null,
   "metadata": {},
   "outputs": [],
   "source": [
    "help(str.split)"
   ]
  },
  {
   "cell_type": "code",
   "execution_count": 50,
   "metadata": {},
   "outputs": [
    {
     "name": "stdout",
     "output_type": "stream",
     "text": [
      "As galinhas têm um sistema\n"
     ]
    }
   ],
   "source": [
    "# Divide a string em linhas\n",
    "linhas = string_multilinha.split('\\n')\n",
    "\n",
    "# Extrai a primeira linha\n",
    "passphrase = linhas[0]\n",
    "\n",
    "print(passphrase)"
   ]
  },
  {
   "cell_type": "code",
   "execution_count": 49,
   "metadata": {},
   "outputs": [
    {
     "name": "stdout",
     "output_type": "stream",
     "text": [
      "<class 'list'>\n"
     ]
    }
   ],
   "source": [
    "print(type(linhas))"
   ]
  },
  {
   "cell_type": "code",
   "execution_count": 51,
   "metadata": {},
   "outputs": [
    {
     "name": "stdout",
     "output_type": "stream",
     "text": [
      "['As galinhas têm um sistema', 'Para botar ovo sem fazer festa:', 'Ficam quietinhas no seu canto,', 'E põem o ovo sem alarde.', '', 'Já os humanos são diferentes:', 'Para fazer qualquer coisa,', 'Precisam de um grande aparato,', 'E fazem um barulho infernal.', '', 'Millôr Fernandes', '']\n"
     ]
    }
   ],
   "source": [
    "print(linhas)"
   ]
  },
  {
   "cell_type": "markdown",
   "metadata": {},
   "source": [
    "A função `str.replace()` em Python é usada para substituir partes de uma string por outra string. Ela retorna uma nova string com todas as ocorrências de uma substring substituídas por uma nova substring."
   ]
  },
  {
   "cell_type": "code",
   "execution_count": null,
   "metadata": {},
   "outputs": [],
   "source": [
    "help(str.replace)"
   ]
  },
  {
   "cell_type": "code",
   "execution_count": null,
   "metadata": {},
   "outputs": [],
   "source": [
    "print(passphrase.replace(\"a\", \"4\"))"
   ]
  },
  {
   "cell_type": "code",
   "execution_count": null,
   "metadata": {},
   "outputs": [],
   "source": [
    "print(passphrase.replace(\"a\", \"4\").replace(\"e\", \"3\").replace(\"i\", \"1\").replace(\"o\", \"0\"))"
   ]
  },
  {
   "cell_type": "markdown",
   "metadata": {},
   "source": [
    "## Atividade Prática"
   ]
  },
  {
   "cell_type": "markdown",
   "metadata": {},
   "source": [
    "Vamos usar o poema de Millôr Fernandes como exemplo para criar frases secretas difíceis de decifrar:\n",
    "\n",
    "1. Manipule a string para fazer substituições simples abaixo:\n",
    "    - Letras por números:\n",
    "        - As galinhas têm um sistema → As g4l1nh4s têm um s1st3m4\n",
    "        - Para fazer qualquer coisa → P4r4 f4z3r qu4lqu3r c01s4\n",
    "    - Letras por símbolos:\n",
    "        - As galinhas têm um sistema → As g@l1nh@s têm um s1st3m@\n",
    "        - Para fazer qualquer coisa → P@r@ f@z3r qu@lqu3r c01s@\n",
    "    - Vogais por números/símbolos:\n",
    "        - As galinhas têm um sistema → As g4l1nh4s têm um s1st3m4\n",
    "        - Para fazer qualquer coisa → P4r4 f4z3r qu4lqu3r c01s4\n"
   ]
  },
  {
   "cell_type": "markdown",
   "metadata": {},
   "source": [
    "A função `str.join()` em Python é usada para concatenar uma sequência de strings com um delimitador especificado. Ela retorna uma nova string que é a concatenação das strings na sequência, separadas pelo delimitador."
   ]
  },
  {
   "cell_type": "code",
   "execution_count": null,
   "metadata": {},
   "outputs": [],
   "source": [
    "help(str.join)"
   ]
  },
  {
   "cell_type": "code",
   "execution_count": null,
   "metadata": {},
   "outputs": [],
   "source": [
    "# Atribuir trechos do poema a diferentes strings\n",
    "trecho1 = \"As galinhas têm um sistema\"\n",
    "trecho2 = \"Para botar ovo sem fazer festa:\"\n",
    "trecho3 = \"Ficam quietinhas no seu canto,\"\n",
    "trecho4 = \"E põem o ovo sem alarde.\"\n",
    "\n",
    "# Juntar os trechos usando str.join\n",
    "verso1 = '\\n'.join([trecho1, trecho2, trecho3, trecho4])\n",
    "\n",
    "print(verso1)"
   ]
  },
  {
   "cell_type": "code",
   "execution_count": null,
   "metadata": {},
   "outputs": [],
   "source": [
    "verso2 = '\\n'.join([linhas[5], linhas[6], linhas[7], linhas[8]])\n",
    "print(verso2)"
   ]
  },
  {
   "cell_type": "markdown",
   "metadata": {},
   "source": [
    "---\n",
    "## FSymbols/coolsymbols: print()"
   ]
  },
  {
   "cell_type": "markdown",
   "metadata": {},
   "source": [
    " \n",
    "- A função print() em Python é usada para exibir mensagens ou valores no console. É uma das funções mais básicas e amplamente utilizadas na linguagem. "
   ]
  },
  {
   "cell_type": "code",
   "execution_count": null,
   "metadata": {},
   "outputs": [],
   "source": [
    "print(\"🅷🆃🆃🅿🆂://🅵🆂🆈🅼🅱🅾🅻🆂.🅲🅾🅼/\")"
   ]
  },
  {
   "cell_type": "code",
   "execution_count": null,
   "metadata": {},
   "outputs": [],
   "source": [
    "print('''𝕻𝖞𝖙𝖍𝖔𝖓 𝖊́ 𝖆𝖒𝖕𝖑𝖆𝖒𝖊𝖓𝖙𝖊 𝖗𝖊𝖈𝖔𝖓𝖍𝖊𝖈𝖎𝖉𝖆 𝖈𝖔𝖒𝖔 𝖚𝖒𝖆 𝖉𝖆𝖘 𝖒𝖊𝖑𝖍𝖔𝖗𝖊𝖘 𝖑𝖎𝖓𝖌𝖚𝖆𝖌𝖊𝖓𝖘 𝖉𝖊 𝖕𝖗𝖔𝖌𝖗𝖆𝖒𝖆𝖈̧𝖆̃𝖔, 𝖊 𝖆𝖖𝖚𝖎 𝖊𝖘𝖙𝖆̃𝖔 𝖆𝖑𝖌𝖚𝖒𝖆𝖘 𝖗𝖆𝖟𝖔̃𝖊𝖘 𝖖𝖚𝖊 𝖊𝖝𝖕𝖑𝖎𝖈𝖆𝖒 𝖕𝖔𝖗 𝖖𝖚𝖊 𝖊𝖑𝖆 𝖊́ 𝖙𝖆̃𝖔 𝖛𝖆𝖑𝖔𝖗𝖎𝖟𝖆𝖉𝖆:\n",
    "\n",
    "• 𝔖𝔦𝔪𝔭𝔩𝔦𝔠𝔦𝔡𝔞𝔡𝔢 𝔢 𝔏𝔢𝔤𝔦𝔟𝔦𝔩𝔦𝔡𝔞𝔡𝔢: Python foi projetada com a simplicidade em mente. Sua sintaxe clara e legível permite que os desenvolvedores escrevam e \n",
    "      compreendam o código com mais facilidade, o que é especialmente útil para iniciantes. A legibilidade do código Python também facilita a \n",
    "      manutenção e a colaboração em projetos.\n",
    "\n",
    "• 𝒱ℯ𝓇𝓈𝒶𝓉𝒾𝓁𝒾𝒹𝒶𝒹ℯ: Python é uma linguagem de propósito geral, o que significa que pode ser usada para uma ampla variedade de aplicações, \n",
    "      desde desenvolvimento web e automação de scripts até ciência de dados, inteligência artificial e desenvolvimento de jogos. Essa versatilidade \n",
    "      torna Python uma escolha popular em diversas indústrias.\n",
    "\n",
    "• Ⲃⲓⲃ𝓵ⲓⲟⲧⲉⲥⲁ𝛓 ⲉ 𝓕ꞅⲁⲙⲉⲱⲟꞅⲕ𝛓: Python possui uma vasta coleção de bibliotecas e frameworks que aceleram o desenvolvimento. \n",
    "      Por exemplo, bibliotecas como NumPy e pandas são essenciais para ciência de dados, enquanto Django e Flask são populares para desenvolvimento web. \n",
    "      Essas ferramentas prontas para uso economizam tempo e esforço dos desenvolvedores.''')"
   ]
  },
  {
   "cell_type": "markdown",
   "metadata": {},
   "source": [
    "---\n",
    "## Atividade Prática\n",
    "\n",
    "- Crie o menu principal do SNDO (Sistema Nacional de Doação de Órgãos e Tecidos) com as seguintes opções:\n",
    "\n",
    "1.  Cadastrar potencial doador\n",
    "2.  Adicionar doação\n",
    "3.  Processar doação (encaminhar para transplante) \n",
    "4.  Exibir estoque atual dos Centros de Distribuição\n",
    "5.  Exibir histórico de doações\n",
    "6.  Finalizar aplicação"
   ]
  },
  {
   "cell_type": "markdown",
   "metadata": {},
   "source": [
    "---\n",
    "## Projeto Python"
   ]
  },
  {
   "cell_type": "code",
   "execution_count": null,
   "metadata": {},
   "outputs": [],
   "source": [
    "print(\"🆂🅽🅳🅾🆃: 𝕾𝖎𝖘𝖙𝖊𝖒𝖆 𝕹𝖆𝖈𝖎𝖔𝖓𝖆𝖑 𝖉𝖊 𝕯𝖔𝖆𝖈̧𝖆̃𝖔 𝖉𝖊 𝕺́𝖗𝖌𝖆̃𝖔𝖘 𝖊 𝕿𝖊𝖈𝖎𝖉𝖔𝖘\")\n",
    "print('''O SNDOT deve permitir: \n",
    "    1.  Cadastrar potencial doador\n",
    "    2.  Adicionar doação\n",
    "    3.  Processar doação (encaminhar para transplante) \n",
    "    4.  Exibir estoque atual dos Centros de Distribuição\n",
    "    5.  Exibir histórico de doações\n",
    "    6.  Finalizar aplicação''')"
   ]
  }
 ],
 "metadata": {
  "kernelspec": {
   "display_name": "Python 3",
   "language": "python",
   "name": "python3"
  },
  "language_info": {
   "codemirror_mode": {
    "name": "ipython",
    "version": 3
   },
   "file_extension": ".py",
   "mimetype": "text/x-python",
   "name": "python",
   "nbconvert_exporter": "python",
   "pygments_lexer": "ipython3",
   "version": "3.13.1"
  },
  "widgets": {
   "application/vnd.jupyter.widget-state+json": {
    "state": {},
    "version_major": 2,
    "version_minor": 0
   }
  }
 },
 "nbformat": 4,
 "nbformat_minor": 4
}
