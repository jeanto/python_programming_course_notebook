{
 "cells": [
  {
   "cell_type": "markdown",
   "metadata": {},
   "source": [
    "# 10. For loop to change list elements\n",
    "\n",
    "[Aprenda Python com Jupyter](https://github.com/jeanto/python_programming_course_notebook) by [Jean Nunes](https://jeanto.github.io/jeannunes)   \n",
    "Code license: [GNU-GPL v3](https://www.gnu.org/licenses/gpl-3.0.en.html)\n",
    "\n",
    "----"
   ]
  },
  {
   "cell_type": "markdown",
   "metadata": {},
   "source": [
    "- Em muitos problemas, pode ser necessário fazer alterações nos dados."
   ]
  },
  {
   "cell_type": "code",
   "execution_count": 20,
   "metadata": {},
   "outputs": [],
   "source": [
    "# Lista das capitais do Brasil\n",
    "capitais_brasil = [\n",
    "    \"Rio Branco\", \"Maceió\", \"Macapá\", \"Manaus\", \"Salvador\", \"Fortaleza\",\n",
    "    \"Brasília\", \"Vitória\", \"Goiânia\", \"São Luís\", \"Cuiabá\", \"Campo Grande\",\n",
    "    \"Belo Horizonte\", \"Belém\", \"João Pessoa\", \"Curitiba\", \"Recife\",\n",
    "    \"Teresina\", \"Rio de Janeiro\", \"Natal\", \"Porto Alegre\", \"Porto Velho\",\n",
    "    \"Boa Vista\", \"Florianópolis\", \"São Paulo\", \"Aracaju\", \"Palmas\"\n",
    "]"
   ]
  },
  {
   "cell_type": "markdown",
   "metadata": {},
   "source": [
    "- Para manter a consistência, você pode querer que todos as capitais sejam minúsculos. Então você as altera:"
   ]
  },
  {
   "cell_type": "code",
   "execution_count": null,
   "metadata": {},
   "outputs": [],
   "source": [
    "# para cada posição na lista\n",
    "for i in range(0, len(capitais_brasil)):\n",
    "        \n",
    "    # imprime elemento antes da mudança\n",
    "    capital_antes = f\"[{str(i)}]: {capitais_brasil[i]} ⟶ \"\n",
    "    #print(texto_antes)\n",
    "    \n",
    "    # altera o elemento e reatribui \n",
    "    capitais_brasil[i] = capitais_brasil[i].lower()\n",
    "    \n",
    "    # imprime elemento depois da mudança \n",
    "    print(f\"{capital_antes}{capitais_brasil[i]}\")\n"
   ]
  },
  {
   "cell_type": "markdown",
   "metadata": {},
   "source": [
    "- Outra possibilidade é fazer validações na string. Por exemplo: avaliar se todos os caracteres são letras do alfabeto."
   ]
  },
  {
   "cell_type": "code",
   "execution_count": null,
   "metadata": {},
   "outputs": [],
   "source": [
    "# para cada posição na lista\n",
    "for i in range(0, len(capitais_brasil)):\n",
    "\n",
    "    if not capitais_brasil[i].isalpha():\n",
    "        print(f\"[{str(i)}] {capitais_brasil[i]} [possui caracteres inválidos]\")\n",
    "    else:\n",
    "        print(f\"[{str(i)}] {capitais_brasil[i]}\")"
   ]
  },
  {
   "cell_type": "markdown",
   "metadata": {},
   "source": [
    "## Atividade Prática\n",
    "1. Utilizando o FOR LOOP, altere as capitais removendo os espaços em branco. Em seguida, faça a validação se todos os caracteres são letras do alfabeto.\n"
   ]
  },
  {
   "cell_type": "code",
   "execution_count": null,
   "metadata": {},
   "outputs": [],
   "source": [
    "# para cada posição na lista\n",
    "for i in range(0, len(capitais_brasil)):\n",
    "        \n",
    "    # imprime elemento antes da mudança\n",
    "    capital_antes = f\"[{str(i)}]: {capitais_brasil[i]} ⟶ \"\n",
    "    #print(texto_antes)\n",
    "    \n",
    "    # altera o elemento e reatribui \n",
    "    capitais_brasil[i] = capitais_brasil[i].replace(\" \", \"\")\n",
    "    \n",
    "    # imprime elemento depois da mudança \n",
    "    print(f\"{capital_antes}{capitais_brasil[i]}\")"
   ]
  },
  {
   "cell_type": "code",
   "execution_count": null,
   "metadata": {},
   "outputs": [],
   "source": [
    "# para cada posição na lista\n",
    "for i in range(0, len(capitais_brasil)):\n",
    "\n",
    "    if not capitais_brasil[i].isalpha():\n",
    "        print(f\"[{str(i)}] {capitais_brasil[i]} [possui caracteres inválidos!]\")\n",
    "    else:\n",
    "        print(f\"[{str(i)}] {capitais_brasil[i]}\")"
   ]
  }
 ],
 "metadata": {
  "kernelspec": {
   "display_name": "Python 3",
   "language": "python",
   "name": "python3"
  },
  "language_info": {
   "codemirror_mode": {
    "name": "ipython",
    "version": 3
   },
   "file_extension": ".py",
   "mimetype": "text/x-python",
   "name": "python",
   "nbconvert_exporter": "python",
   "pygments_lexer": "ipython3",
   "version": "3.13.1"
  },
  "widgets": {
   "application/vnd.jupyter.widget-state+json": {
    "state": {},
    "version_major": 2,
    "version_minor": 0
   }
  }
 },
 "nbformat": 4,
 "nbformat_minor": 4
}
