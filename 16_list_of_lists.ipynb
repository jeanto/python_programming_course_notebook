{
 "cells": [
  {
   "cell_type": "markdown",
   "metadata": {},
   "source": [
    "# 16. List of lists\n",
    "\n",
    "## Slicing, nested for loops, and flattening\n",
    "\n",
    "[Aprenda Python com Jupyter](https://github.com/jeanto/python_programming_course_notebook) by [Jean Nunes](https://jeanto.github.io/jeannunes)   \n",
    "Code license: [GNU-GPL v3](https://www.gnu.org/licenses/gpl-3.0.en.html)\n",
    "\n",
    "---"
   ]
  },
  {
   "cell_type": "markdown",
   "metadata": {},
   "source": [
    "## 1. Slicing"
   ]
  },
  {
   "cell_type": "markdown",
   "metadata": {},
   "source": [
    "- Considere a seguinte lista de listas: "
   ]
  },
  {
   "cell_type": "code",
   "execution_count": null,
   "metadata": {},
   "outputs": [],
   "source": [
    "# Nome, Idade, Sexo, Data de Nascimento, Cidade de Nascimento, Estado de Nascimento, CPF, Profissão, Cidade, Estado, Estado Civil\n",
    "lista_de_potenciais_doadores = [\n",
    "    [\"James Bond\", 40, \"M\", \"11/11/1980\", \"Londres\", \"IN\", \"235.578.547-87\", \"Agente Secreto\", \"São Paulo\", \"SP\", \"Solteiro\"],\n",
    "    [\"Jason Bourne\", 45, \"M\", \"15/03/1975\", \"Nixa\", \"MO\", \"854.487.247-54\", \"Agente Secreto\", \"Rio de Janeiro\", \"RJ\", \"Solteiro\"],\n",
    "    [\"Indiana Jones\", 45, \"M\", \"01/07/1975\", \"Princeton\", \"NJ\", \"214.965.452.32\", \"Arqueólogo\", \"Anápolis\", \"GO\", \"Divorciado\"],\n",
    "    [\"Sarah Connor\", 50, \"F\", \"22/08/1970\", \"Los Angeles\", \"LA\", \"854.248.264-57\", \"Militar\", \"Porto Alegre\", \"RS\", \"Viúva\"],\n",
    "    [\"Ethan Hunt\", 45, \"M\", \"04/07/1975\", \"Madison\", \"WI\", \"368.454.333-24\", \"Agente Secreto\", \"Belém\", \"PA\", \"Solteiro\"],\n",
    "    [\"Lara Croft\", 35, \"F\", \"14/02/1985\", \"Wimbledon\", \"IN\", \"854.264.987-36\", \"Aventureira\", \"Palmas\", \"TO\", \"Solteira\"],\n",
    "    [\"Ellen Ripley\", 38, \"F\", \"26/04/1982\", \"Olympia\", \"WA\", \"541.124.321-54\", \"Oficial de Voo\", \"Brasília\", \"DF\", \"Viúva\"],\n",
    "    [\"John Rambo\", 70, \"M\", \"06/06/1950\", \"Bowman\", \"ND\", \"384.411.247-51\", \"Veterano de Guerra\", \"Salvador\", \"BA\", \"Solteiro\"],\n",
    "    [\"Tony Stark\", 48, \"M\", \"29/05/1972\", \"Long Island\", \"NY\", \"842.951.158-87\", \"Empresário\", \"Fortaleza\", \"CE\", \"Casado\"],\n",
    "    [\"Bruce Wayne\", 42, \"M\", \"19/11/1978\", \"Gotham City\", \"NJ\", \"474.454.147-12\", \"Empresário\", \"Manaus\", \"AM\", \"Solteiro\"],\n",
    "    [\"Diana Prince\", 30, \"F\", \"17/12/1990\", \"Themyscira\", \"GR\", \"221.321.432-21\", \"Amazona\", \"Curitiba\", \"PR\", \"Solteira\"],\n",
    "    [\"Peter Parker\", 25, \"M\", \"10/08/1995\", \"Nova York\", \"NY\", \"214.954.635-66\", \"Estudante\", \"Recife\", \"PE\", \"Solteiro\"],\n",
    "]\n",
    "\n",
    "print(lista_de_potenciais_doadores)\n",
    "len(lista_de_potenciais_doadores)"
   ]
  },
  {
   "cell_type": "markdown",
   "metadata": {},
   "source": [
    "- Imprimindo as sublistas"
   ]
  },
  {
   "cell_type": "code",
   "execution_count": null,
   "metadata": {},
   "outputs": [],
   "source": [
    "print(lista_de_potenciais_doadores[0])\n",
    "print(lista_de_potenciais_doadores[1])\n",
    "print(lista_de_potenciais_doadores[2])"
   ]
  },
  {
   "cell_type": "markdown",
   "metadata": {},
   "source": [
    "- Imprimindo os subelementos"
   ]
  },
  {
   "cell_type": "code",
   "execution_count": null,
   "metadata": {},
   "outputs": [],
   "source": [
    "print(f\"Idade do primeiro doador: {lista_de_potenciais_doadores[0][1]}\")\n",
    "print(f\"Estado civil (último elemento) do segundo doador: {lista_de_potenciais_doadores[1][-1]}\")\n",
    "print(f\"X primeiros elementos do segundo doador: {lista_de_potenciais_doadores[2][:4]}\")"
   ]
  },
  {
   "cell_type": "markdown",
   "metadata": {},
   "source": [
    "--- \n",
    "## 2. Nested for loops"
   ]
  },
  {
   "cell_type": "markdown",
   "metadata": {},
   "source": [
    "- Imprimir os elementos da sublista um por um usando \"loops for\" aninhados por meio de *índices*:"
   ]
  },
  {
   "cell_type": "code",
   "execution_count": null,
   "metadata": {},
   "outputs": [],
   "source": [
    "for i in range(len(lista_de_potenciais_doadores)):\n",
    "    print(f\"Nome do doador {i+1}: {lista_de_potenciais_doadores[i][0]}\")\n",
    "    for j in range(len(lista_de_potenciais_doadores[i])):\n",
    "        if (j != 0):            \n",
    "            print(lista_de_potenciais_doadores[i][j])"
   ]
  },
  {
   "cell_type": "markdown",
   "metadata": {},
   "source": [
    "- Imprimir os elementos da sublista um por um usando \"loops for\" aninhados através de *valores*:"
   ]
  },
  {
   "cell_type": "code",
   "execution_count": null,
   "metadata": {},
   "outputs": [],
   "source": [
    "for doador in lista_de_potenciais_doadores:\n",
    "    print(doador)"
   ]
  },
  {
   "cell_type": "markdown",
   "metadata": {},
   "source": [
    "- Imprimir os elementos da sublista um por um usando \"loops for\" aninhados através de *valores* e por *campo*:"
   ]
  },
  {
   "cell_type": "code",
   "execution_count": null,
   "metadata": {},
   "outputs": [],
   "source": [
    "for doador in lista_de_potenciais_doadores:\n",
    "    print(doador[6])"
   ]
  },
  {
   "cell_type": "markdown",
   "metadata": {},
   "source": [
    "---\n",
    "## Flattening and concatening"
   ]
  },
  {
   "cell_type": "markdown",
   "metadata": {},
   "source": [
    "- Dada a seguinte lista de listas:"
   ]
  },
  {
   "cell_type": "code",
   "execution_count": 16,
   "metadata": {},
   "outputs": [],
   "source": [
    "lista_de_orgaos = [[\"Coração\", \"Rins\",  \"Fígado\", \"Pâncreas\", \"Pulmões\", \"Intestino\"], \n",
    "                   [\"Córneas\", \"Pele\", \"Ossos\", \"Válvulas cardíacas\", \"Cartilagem\", \"Medula Óssea\", \"Tendões\", \"Vasos Sanguíneos\"], \n",
    "                   [\"Sangue de Cordão Umbilical\", \"Sangue Universal\"]]"
   ]
  },
  {
   "cell_type": "markdown",
   "metadata": {},
   "source": [
    "- Simplifique a lista usando um *loop for* aninhado através de *índices*:"
   ]
  },
  {
   "cell_type": "code",
   "execution_count": null,
   "metadata": {},
   "outputs": [],
   "source": [
    "flat_lista_de_orgaos = []\n",
    "for i in range(len(lista_de_orgaos)):\n",
    "    for j in range(len(lista_de_orgaos[i])):\n",
    "        flat_lista_de_orgaos.append(lista_de_orgaos[i][j])\n",
    "print(flat_lista_de_orgaos)"
   ]
  },
  {
   "cell_type": "markdown",
   "metadata": {},
   "source": [
    "- Simplifique a lista usando um *loop for* aninhado através de *elementos*:"
   ]
  },
  {
   "cell_type": "code",
   "execution_count": null,
   "metadata": {},
   "outputs": [],
   "source": [
    "flat_lista_de_orgaos = []\n",
    "for tipo_de_orgao in lista_de_orgaos:\n",
    "    for orgao in tipo_de_orgao:\n",
    "        flat_lista_de_orgaos.append(orgao)\n",
    "print(flat_lista_de_orgaos)"
   ]
  },
  {
   "cell_type": "markdown",
   "metadata": {},
   "source": [
    "- Simplifique a lista usando um *loop for* e concatenação de lista:"
   ]
  },
  {
   "cell_type": "code",
   "execution_count": null,
   "metadata": {},
   "outputs": [],
   "source": [
    "flat_lista_de_orgaos = []\n",
    "for tipo_de_orgao in lista_de_orgaos:\n",
    "    flat_lista_de_orgaos += tipo_de_orgao\n",
    "print(flat_lista_de_orgaos)"
   ]
  },
  {
   "cell_type": "markdown",
   "metadata": {},
   "source": [
    "- Simplifique a lista usando *list comprehension*:"
   ]
  },
  {
   "cell_type": "code",
   "execution_count": 18,
   "metadata": {},
   "outputs": [
    {
     "name": "stdout",
     "output_type": "stream",
     "text": [
      "['Coração', 'Rins', 'Fígado', 'Pâncreas', 'Pulmões', 'Intestino', 'Córneas', 'Pele', 'Ossos', 'Válvulas cardíacas', 'Cartilagem', 'Medula Óssea', 'Tendões', 'Vasos Sanguíneos', 'Sangue de Cordão Umbilical', 'Sangue Universal']\n"
     ]
    }
   ],
   "source": [
    "flat_lista_de_orgaos = []\n",
    "flat_lista_de_orgaos = [orgao for tipo_de_orgao in lista_de_orgaos for orgao in tipo_de_orgao]\n",
    "print(flat_lista_de_orgaos)"
   ]
  },
  {
   "cell_type": "markdown",
   "metadata": {},
   "source": [
    "## Atividade Prática\n",
    "1. Extrai a coluna *CPF* da lista *potenciais_doadores* usando as seguintes estratégias: 1. *loop for* aninhado através de *índices*, 2. *loop for* aninhado através de *elementos*, 3. *loop for* e concatenação de lista e 4. *list comprehension*.\n",
    "\n",
    "- *loop for* aninhado através de *índices*:\n",
    "- *loop for* aninhado através de *elementos*:\n",
    "- *loop for* e concatenação de lista:\n",
    "- *list comprehension*:"
   ]
  }
 ],
 "metadata": {
  "kernelspec": {
   "display_name": "py_course (3.12.3)",
   "language": "python",
   "name": "python3"
  },
  "language_info": {
   "codemirror_mode": {
    "name": "ipython",
    "version": 3
   },
   "file_extension": ".py",
   "mimetype": "text/x-python",
   "name": "python",
   "nbconvert_exporter": "python",
   "pygments_lexer": "ipython3",
   "version": "3.12.3"
  },
  "widgets": {
   "application/vnd.jupyter.widget-state+json": {
    "state": {},
    "version_major": 2,
    "version_minor": 0
   }
  }
 },
 "nbformat": 4,
 "nbformat_minor": 4
}
