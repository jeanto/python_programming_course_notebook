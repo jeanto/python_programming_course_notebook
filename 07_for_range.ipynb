{
 "cells": [
  {
   "cell_type": "markdown",
   "metadata": {},
   "source": [
    "# 7. for ... in range() \n",
    "\n",
    "[Aprenda Python com Jupyter](https://github.com/jeanto/python_programming_course_notebook) by [Jean Nunes](https://jeanto.github.io/jeannunes)   \n",
    "Code license: [GNU-GPL v3](https://www.gnu.org/licenses/gpl-3.0.en.html)\n",
    "\n",
    "----"
   ]
  },
  {
   "cell_type": "markdown",
   "metadata": {},
   "source": [
    "### Lista de órgãos que podem ser doados e uma lista dos seus tipos (Órgão, Tecido, Sangue):  "
   ]
  },
  {
   "cell_type": "code",
   "execution_count": null,
   "metadata": {},
   "outputs": [],
   "source": [
    "lista_de_orgaos = [\"Coração\", \"Rins\",  \"Fígado\", \"Pâncreas\", \"Pulmões\", \"Intestino\", \n",
    "                   \"Córneas\", \"Pele\", \"Ossos\", \"Válvulas cardíacas\", \"Cartilagem\", \"Medula Óssea\", \n",
    "                   \"Tendões\", \"Vasos Sanguíneos\", \"Sangue de Cordão Umbilical\", \"Sangue Universal\"]\n",
    "lista_de_tipos_de_orgao = [\"Órgão\", \"Órgão\", \"Órgão\", \"Órgão\", \"Órgão\", \"Órgão\",\n",
    "                           \"Tecido\", \"Tecido\", \"Tecido\", \"Tecido\", \"Tecido\", \"Tecido\",\n",
    "                           \"Tecido\", \"Tecido\", \"Sangue\", \"Sangue\"]"
   ]
  },
  {
   "cell_type": "code",
   "execution_count": null,
   "metadata": {},
   "outputs": [],
   "source": [
    "print(\"Lista de órgãos que podem ser doados no Brasil:\")\n",
    "print(lista_de_orgaos)"
   ]
  },
  {
   "cell_type": "markdown",
   "metadata": {},
   "source": [
    "### Órgãos impressos um a um:"
   ]
  },
  {
   "cell_type": "markdown",
   "metadata": {},
   "source": [
    "#### 1. Usando range"
   ]
  },
  {
   "cell_type": "code",
   "execution_count": null,
   "metadata": {},
   "outputs": [],
   "source": [
    "print(\"Lista de órgãos que podem ser doados no Brasil:\")\n",
    "for i in range(len(lista_de_orgaos)):\n",
    "    print(f\"[{i}]: {lista_de_orgaos[i]}\")"
   ]
  },
  {
   "cell_type": "markdown",
   "metadata": {},
   "source": [
    "#### 2. Usando list"
   ]
  },
  {
   "cell_type": "code",
   "execution_count": null,
   "metadata": {},
   "outputs": [],
   "source": [
    "print(\"Lista de órgãos que podem ser doados no Brasil:\")\n",
    "i = 0\n",
    "for orgao in lista_de_orgaos:\n",
    "    print(f\"[{i}]: {orgao}\")\n",
    "    i += 1"
   ]
  },
  {
   "cell_type": "markdown",
   "metadata": {},
   "source": [
    "#### 3. Usando enumerate"
   ]
  },
  {
   "cell_type": "code",
   "execution_count": null,
   "metadata": {},
   "outputs": [],
   "source": [
    "print(\"Lista de órgãos que podem ser doados no Brasil:\")\n",
    "for i, orgao in enumerate(lista_de_orgaos):\n",
    "    print(f\"[{i}]: {orgao}\")"
   ]
  },
  {
   "cell_type": "markdown",
   "metadata": {},
   "source": [
    "- Estes são os tipos de órgão de cada órgão na lista de órgãos:"
   ]
  },
  {
   "cell_type": "markdown",
   "metadata": {},
   "source": [
    "---\n",
    "## Atividade Prática\n",
    "\n",
    "### 1. Utilizando range, list e enumerate, imprima cada órgão com o seu respectivo tipo de órgão:\n",
    "\n",
    "Exemplo:\n",
    "\n",
    "- [0]: \"Coração\" é do tipo \"Órgão\"\n",
    "- ...\n",
    "- [6]: \"Pele\" é do tipo \"Tecido\"\n",
    "- ...\n"
   ]
  }
 ],
 "metadata": {
  "kernelspec": {
   "display_name": "py_course (3.12.3)",
   "language": "python",
   "name": "python3"
  },
  "language_info": {
   "codemirror_mode": {
    "name": "ipython",
    "version": 3
   },
   "file_extension": ".py",
   "mimetype": "text/x-python",
   "name": "python",
   "nbconvert_exporter": "python",
   "pygments_lexer": "ipython3",
   "version": "3.12.3"
  },
  "widgets": {
   "application/vnd.jupyter.widget-state+json": {
    "state": {},
    "version_major": 2,
    "version_minor": 0
   }
  }
 },
 "nbformat": 4,
 "nbformat_minor": 4
}
