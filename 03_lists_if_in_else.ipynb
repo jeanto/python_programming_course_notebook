{
 "cells": [
  {
   "cell_type": "markdown",
   "metadata": {},
   "source": [
    "# 3. Lista de órgãos\n",
    "\n",
    "## Lists and if... elif... else... in...\n",
    "\n",
    "[Aprenda Python com Jupyter](https://github.com/jeanto/python_programming_course_notebook) by [Jean Nunes](https://jeanto.github.io/jeannunes)   \n",
    "Code license: [GNU-GPL v3](https://www.gnu.org/licenses/gpl-3.0.en.html)\n"
   ]
  },
  {
   "cell_type": "markdown",
   "metadata": {},
   "source": [
    "---"
   ]
  },
  {
   "cell_type": "markdown",
   "metadata": {},
   "source": [
    "- Atualmente, no SNDOT há os seguintes órgãos que podem ser doados: Coração, rins, fígado, pâncreas e pulmões."
   ]
  },
  {
   "cell_type": "code",
   "execution_count": null,
   "metadata": {},
   "outputs": [],
   "source": [
    "lista_de_orgaos = [\"Coração\", \"Rins\",  \"Fígado\", \"Pâncreas\", \"Pulmões\"]\n",
    "print(lista_de_orgaos)"
   ]
  },
  {
   "cell_type": "markdown",
   "metadata": {},
   "source": [
    "- Um novo doador chega e você pergunta que órgão deseja doar:"
   ]
  },
  {
   "cell_type": "code",
   "execution_count": null,
   "metadata": {},
   "outputs": [],
   "source": [
    "orgao = input(\"Qual órgão deseja doar?\")\n",
    "print(orgao)"
   ]
  },
  {
   "cell_type": "markdown",
   "metadata": {},
   "source": [
    "- O programa verifica se o órgão pode ser doado e imprime a mensagem de acordo com a condição estabelecida:"
   ]
  },
  {
   "cell_type": "code",
   "execution_count": null,
   "metadata": {},
   "outputs": [],
   "source": [
    "if orgao in lista_de_orgaos:\n",
    "    print(\"Prezado doador, esse órgão pode ser doado!\")\n",
    "else:\n",
    "    print(\"Prezado doador, esse órgão não pode ser doado!\")"
   ]
  },
  {
   "cell_type": "markdown",
   "metadata": {},
   "source": [
    "---\n",
    "## Atividade Prática 1\n",
    "\n",
    "- Com o menu principal do SNDOT criado, solicite a opção do menu que o usuário deseja utilizar e faça a verificação usando if, elif e else:"
   ]
  },
  {
   "cell_type": "code",
   "execution_count": null,
   "metadata": {},
   "outputs": [],
   "source": [
    "print(\"🆂🅽🅳🅾🆃: 𝕾𝖎𝖘𝖙𝖊𝖒𝖆 𝕹𝖆𝖈𝖎𝖔𝖓𝖆𝖑 𝖉𝖊 𝕯𝖔𝖆𝖈̧𝖆̃𝖔 𝖉𝖊 𝕺́𝖗𝖌𝖆̃𝖔𝖘 𝖊 𝕿𝖊𝖈𝖎𝖉𝖔𝖘\")\n",
    "print(''' \n",
    "    1.  Cadastrar potencial doador\n",
    "    2.  Adicionar doação\n",
    "    3.  Processar doação (encaminhar para transplante) \n",
    "    4.  Exibir estoque atual dos Centros de Distribuição\n",
    "    5.  Exibir histórico de doações\n",
    "    6.  Finalizar aplicação''')\n",
    "\n",
    "# usuário escolhe uma opção\n",
    "opcao = int(input(\"Escolha uma opção: \"))\n",
    "if opcao == 1: \n",
    "    print(\"Cadastrar potencial doador\")\n",
    "\n",
    "elif opcao == 2: \n",
    "    print(\"Adicionar doação\")\n",
    "\n",
    "elif opcao == 3:\n",
    "    print(\"Processar doação (encaminhar para transplante)\")\n",
    "\n",
    "elif opcao == 4: \n",
    "    print(\"Exibir estoque atual dos Centros de Distribuição\")\n",
    "    \n",
    "elif opcao == 5:\n",
    "    print(\"Exibir histórico de doações\")\n",
    "    \n",
    "elif opcao == 6: \n",
    "    print(\"Finalizar aplicação\")\n",
    "else:\n",
    "    print(\"Opção inválida. Tente novamente.\")"
   ]
  },
  {
   "cell_type": "markdown",
   "metadata": {},
   "source": [
    "---\n",
    "## Atividade prática 2\n",
    "\n",
    "- Realize as seguintes validações e controles nos dados de entrada\n",
    "\n",
    "### Dados Pessoais\n",
    "- Nome: deve conter apenas caracteres alfabéticos \n",
    "- Idade: deve conter apenas números, não pode ser negativo e nem superior a 80 anos\n",
    "- Sexo: deve conter apenas um caractere igual a M ou F\n",
    "- Estado de Nascimento: deve conter apenas dois caracteres no formato de um dos 27 estados brasileiros\n",
    "- CPF: deve conter apenas 11 números\n",
    "\n",
    "### Contato\n",
    "- Telefone: deve conter apenas 10 ou 11 números (ex. 61943235345)"
   ]
  },
  {
   "cell_type": "code",
   "execution_count": null,
   "metadata": {},
   "outputs": [],
   "source": [
    "import re\n",
    "\n",
    "def validate_and_sanitize_input(prompt, pattern, error_message):\n",
    "    while True:\n",
    "        user_input = input(prompt)\n",
    "        if re.match(pattern, user_input):\n",
    "            return user_input\n",
    "        else:\n",
    "            print(error_message)\n",
    "\n",
    "# Example patterns\n",
    "name_pattern = r'^[A-Za-z\\s]+$'\n",
    "cpf_pattern = r'^\\d{3}\\.\\d{3}\\.\\d{3}-\\d{2}$'\n",
    "email_pattern = r'^[a-zA-Z0-9_.+-]+@[a-zA-Z0-9-]+\\.[a-zA-Z0-9-.]+$'\n",
    "date_pattern = r'^\\d{2}/\\d{2}/\\d{4}$'\n",
    "phone_pattern = r'^\\(\\d{2}\\) \\d{4,5}-\\d{4}$'\n",
    "\n",
    "# Validating and sanitizing inputs\n",
    "nome = validate_and_sanitize_input(\"Nome: \", name_pattern, \"Nome inválido. Use apenas letras e espaços.\")\n",
    "cpf = validate_and_sanitize_input(\"CPF (xxx.xxx.xxx-xx): \", cpf_pattern, \"CPF inválido. Use o formato xxx.xxx.xxx-xx.\")\n",
    "email = validate_and_sanitize_input(\"Email: \", email_pattern, \"Email inválido.\")\n",
    "data_nascimento = validate_and_sanitize_input(\"Data de Nascimento (DD/MM/AAAA): \", date_pattern, \"Data de nascimento inválida. Use o formato DD/MM/AAAA.\")\n",
    "telefone = validate_and_sanitize_input(\"Telefone ((xx) xxxx-xxxx): \", phone_pattern, \"Telefone inválido. Use o formato (xx) xxxx-xxxx.\")\n",
    "\n",
    "print(\"\\nDados validados e sanitizados:\")\n",
    "print(f\"Nome: {nome}\")\n",
    "print(f\"CPF: {cpf}\")\n",
    "print(f\"Email: {email}\")\n",
    "print(f\"Data de Nascimento: {data_nascimento}\")\n",
    "print(f\"Telefone: {telefone}\")"
   ]
  }
 ],
 "metadata": {
  "kernelspec": {
   "display_name": "Python 3 (ipykernel)",
   "language": "python",
   "name": "python3"
  },
  "language_info": {
   "codemirror_mode": {
    "name": "ipython",
    "version": 3
   },
   "file_extension": ".py",
   "mimetype": "text/x-python",
   "name": "python",
   "nbconvert_exporter": "python",
   "pygments_lexer": "ipython3",
   "version": "3.9.13"
  },
  "widgets": {
   "application/vnd.jupyter.widget-state+json": {
    "state": {},
    "version_major": 2,
    "version_minor": 0
   }
  }
 },
 "nbformat": 4,
 "nbformat_minor": 4
}
